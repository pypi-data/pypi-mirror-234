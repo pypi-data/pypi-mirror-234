{
 "cells": [
  {
   "cell_type": "markdown",
   "metadata": {},
   "source": [
    "# NativeClient sample notebook\n",
    "This notebook is an example notebook that explains how to use the AutoML NativeClient to train a machine learning model."
   ]
  },
  {
   "cell_type": "code",
   "execution_count": null,
   "metadata": {},
   "outputs": [],
   "source": [
    "import sys\n",
    "import os\n",
    "import argparse\n",
    "import logging\n",
    "import uuid\n",
    "import time\n",
    "from datetime import datetime\n",
    "\n",
    "import pandas as pd\n",
    "from sklearn.preprocessing import LabelEncoder\n",
    "from sklearn.metrics import accuracy_score\n",
    "from sklearn.model_selection import train_test_split\n",
    "\n",
    "from automl.client.core.nativeclient import AutoMLClassifier\n",
    "from automl.client.core.nativeclient import AutoMLNativeClient\n",
    "from azureml.core.authentication import AbstractAuthentication\n",
    "\n",
    "# Uncomment the below line to disable HTTPS verification (in case you need to debug the API calls)\n",
    "# %env CURL_CA_BUNDLE="
   ]
  },
  {
   "cell_type": "markdown",
   "metadata": {},
   "source": [
    "# Setting up inputs\n",
    "### Authentication\n",
    "AzureML's workspace objects are used for authentication and service discovery.\n",
    "Make sure to change the required parameters below."
   ]
  },
  {
   "cell_type": "code",
   "execution_count": null,
   "metadata": {},
   "outputs": [],
   "source": [
    "from azureml.core import Workspace\n",
    "\n",
    "# Create the workspace using the specified parameters\n",
    "workspace = Workspace.create(name = 'workspace name',\n",
    "                             subscription_id = 'subscription id',\n",
    "                             resource_group = 'resource group name', \n",
    "                             location = 'region',\n",
    "                             create_resource_group = True,\n",
    "                             sku = 'basic',\n",
    "                             exist_ok = True)\n"
   ]
  },
  {
   "cell_type": "markdown",
   "metadata": {},
   "source": [
    "### Data preparation"
   ]
  },
  {
   "cell_type": "code",
   "execution_count": null,
   "metadata": {},
   "outputs": [],
   "source": [
    "from sklearn.datasets import load_iris\n",
    "\n",
    "# Load the dataset. X (features) can be a numpy array or pandas dataframe and y (labels) should be a numpy array.\n",
    "data = load_iris()\n",
    "X = data.data\n",
    "y = data.target"
   ]
  },
  {
   "cell_type": "markdown",
   "metadata": {},
   "source": [
    "# Running AutoML Classification\n",
    "This test code only does simple splitting, training and scoring. Model explanations are ignored for now.\n",
    "Regression is very similar to the classification case, the only differences in usage are that you will use `AutoMLRegressor` and a different metric type."
   ]
  },
  {
   "cell_type": "code",
   "execution_count": null,
   "metadata": {},
   "outputs": [],
   "source": [
    "from azureml.automl.core.shared import constants\n",
    "\n",
    "# You should use one of the metric types printed out here during classifier setup.\n",
    "print('Metric types available for classification:')\n",
    "print(constants.Metric.CLASSIFICATION_PRIMARY_SET)\n",
    "print('Metric types available for regression:')\n",
    "print(constants.Metric.REGRESSION_PRIMARY_SET)\n",
    "\n",
    "# Instantiate the AutoMLNativeClient. You must pass in an azureml.core.Workspace object.\n",
    "client = AutoMLNativeClient(\n",
    "    workspace=workspace\n",
    ")\n",
    "\n",
    "# Here, you can also choose to split the dataset into training/validation sets manually instead of using cross validation,\n",
    "# in which case you would omit n_cross_validations and specify X_valid and y_valid instead.\n",
    "# If you want to perform a regression experiment, just substitute AutoMLClassifier with AutoMLRegressor (make sure to update\n",
    "# the primary metric as well).\n",
    "automl_classifier = AutoMLClassifier(\n",
    "    client=client,\n",
    "    name='AutoMLNativeClient_SampleNotebook_{}'.format(time.time()).replace('.', ''),\n",
    "    debug_log='automl_errors.log',\n",
    "    primary_metric=constants.Metric.AUCWeighted,\n",
    "    iterations=3,\n",
    "    preprocess=True,\n",
    "    blacklist_models=['KNeighborsClassifier', 'SVCWrapper'],\n",
    "    iteration_timeout_minutes=5,\n",
    "    enable_voting_ensemble=False,\n",
    "    n_cross_validations=10\n",
    ")\n",
    "\n",
    "# Train the model.\n",
    "local_run = automl_classifier.fit(\n",
    "    X=X,\n",
    "    y=y,\n",
    "    compute_target='local',\n",
    "    show_output=True\n",
    ")\n",
    "\n",
    "# Retrieve the best run as well as the corresponding model.\n",
    "best_run, fitted_model = local_run.get_output(metric=constants.Metric.AUCWeighted)"
   ]
  },
  {
   "cell_type": "code",
   "execution_count": null,
   "metadata": {},
   "outputs": [],
   "source": [
    "# Check model accuracy\n",
    "y_pred = fitted_model.predict(X_test)\n",
    "acc = sum(y_pred == y_test) / len(y_pred)\n",
    "\n",
    "print(acc)"
   ]
  },
  {
   "cell_type": "code",
   "execution_count": null,
   "metadata": {},
   "outputs": [],
   "source": []
  }
 ],
 "metadata": {
  "kernelspec": {
   "display_name": "Python (nativeclient)",
   "language": "python",
   "name": "nativeclient"
  },
  "language_info": {
   "codemirror_mode": {
    "name": "ipython",
    "version": 3
   },
   "file_extension": ".py",
   "mimetype": "text/x-python",
   "name": "python",
   "nbconvert_exporter": "python",
   "pygments_lexer": "ipython3",
   "version": "3.6.7"
  },
  "pycharm": {
   "stem_cell": {
    "cell_type": "raw",
    "source": [],
    "metadata": {
     "collapsed": false
    }
   }
  }
 },
 "nbformat": 4,
 "nbformat_minor": 2
}