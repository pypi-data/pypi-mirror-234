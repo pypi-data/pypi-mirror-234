{
 "cells": [
  {
   "cell_type": "markdown",
   "metadata": {},
   "source": [
    "# Many-Valued Modal Tableau (mvmt) Demo\n",
    "\n",
    "This notebook illustrates some of the use cases of the [mvmt](https://github.com/WeAreDevo/Many-Valued-Modal-Tableau) package."
   ]
  },
  {
   "cell_type": "markdown",
   "metadata": {},
   "source": [
    "First, install the package using pip"
   ]
  },
  {
   "cell_type": "code",
   "execution_count": null,
   "metadata": {},
   "outputs": [],
   "source": [
    "%matplotlib inline\n",
    "! pip install -U mvmt"
   ]
  },
  {
   "cell_type": "markdown",
   "metadata": {},
   "source": [
    "Import the relevant modules."
   ]
  },
  {
   "cell_type": "code",
   "execution_count": null,
   "metadata": {},
   "outputs": [],
   "source": [
    "from mvmt import tableau, algebra, utils\n"
   ]
  },
  {
   "cell_type": "markdown",
   "metadata": {},
   "source": [
    "Describe the heyting algebra you wish to use (see the [README](https://github.com/WeAreDevo/Many-Valued-Modal-Tableau#configurations) for an explanation of how algebras must be specified in json form)."
   ]
  },
  {
   "cell_type": "code",
   "execution_count": null,
   "metadata": {},
   "outputs": [],
   "source": [
    "heyting_algebra = {\n",
    "    \"elements\": [\"0\", \"a\", \"1\"],\n",
    "    \"order\": {\"0\": [\"0\", \"a\", \"1\"], \"a\": [\"a\", \"1\"], \"1\": [\"1\"]},\n",
    "}\n"
   ]
  },
  {
   "cell_type": "markdown",
   "metadata": {},
   "source": [
    "Define the modal formula you are interested in. You can use the following strings in your formula:\n",
    "  -  Anything matching `[p-z]\\d*` (i.e. begins with a letter between \"p\" and \"z\", followed by a string of zero or more decimal digits) denotes a propositional formula\n",
    "  - any string from `heyting_algebra[\"elements\"]` denotes a truth value.\n",
    "  - a connective such as `\"&\"`, `\"|\"`, `\"->\"`, `\"[]\"`, `\"<>\"`\n",
    "  - Matching parentheses `\"(\"`,`\")\"`."
   ]
  },
  {
   "cell_type": "code",
   "execution_count": null,
   "metadata": {},
   "outputs": [],
   "source": [
    "expression = \"((<>(p -> 0) -> 0) -> []p)\"\n"
   ]
  },
  {
   "cell_type": "markdown",
   "metadata": {},
   "source": [
    "Use the `tableau.isValid` function to check if `expression` is valid in every H-frame."
   ]
  },
  {
   "cell_type": "code",
   "execution_count": null,
   "metadata": {},
   "outputs": [],
   "source": [
    "H = utils.construct_heyting_algebra(python_dict=heyting_algebra)\n",
    "\n",
    "valid, tab = tableau.isValid(expression, H)\n",
    "print(f\"{expression} is valid: {valid}\")\n"
   ]
  },
  {
   "cell_type": "markdown",
   "metadata": {},
   "source": [
    "`tableau.isValid` also returns the tableau that was constructed to decide validity. We can use the [PrettyPrintTree](https://github.com/AharonSambol/PrettyPrintTree) package (which is installed by default with mvmt) to neatly print the tableau."
   ]
  },
  {
   "cell_type": "code",
   "execution_count": null,
   "metadata": {},
   "outputs": [],
   "source": [
    "from PrettyPrint import PrettyPrintTree\n",
    "\n",
    "pt = PrettyPrintTree(\n",
    "    get_children=lambda x: x.children,\n",
    "    get_label=lambda x: str(x.signed_formula),\n",
    "    get_val=lambda x: f\"<{x.world}, {x.relation}>\",\n",
    ")\n",
    "pt(tab.root)\n"
   ]
  },
  {
   "cell_type": "markdown",
   "metadata": {},
   "source": [
    "If `expression` is not valid in every H-frame, we can use the `tableau.construct_counter_model` to construct a counter H-model using the tableau.\n",
    "Then, we can use `tableau.visualize_model` to visualize the counter H-model."
   ]
  },
  {
   "cell_type": "code",
   "execution_count": null,
   "metadata": {},
   "outputs": [],
   "source": [
    "if not valid:\n",
    "    M = tableau.construct_counter_model(expression, H, tab)\n",
    "    tableau.visualize_model(M)\n"
   ]
  }
 ],
 "metadata": {
  "kernelspec": {
   "display_name": "mvml_pip",
   "language": "python",
   "name": "python3"
  },
  "language_info": {
   "codemirror_mode": {
    "name": "ipython",
    "version": 3
   },
   "file_extension": ".py",
   "mimetype": "text/x-python",
   "name": "python",
   "nbconvert_exporter": "python",
   "pygments_lexer": "ipython3",
   "version": "3.10.12"
  },
  "orig_nbformat": 4
 },
 "nbformat": 4,
 "nbformat_minor": 2
}
