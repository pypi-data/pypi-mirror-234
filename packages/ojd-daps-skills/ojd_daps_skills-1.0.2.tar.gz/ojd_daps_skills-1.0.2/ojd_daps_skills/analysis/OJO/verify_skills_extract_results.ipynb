{
 "cells": [
  {
   "cell_type": "markdown",
   "id": "40be90b8",
   "metadata": {},
   "source": [
    "We manually labelled a random sample of skills extracted from job adverts and which ESCO skills they mapped to. This allows us to get a sense of:\n",
    "1. How well skills are extracted\n",
    "2. How well skills are mapped to ESCO"
   ]
  },
  {
   "cell_type": "code",
   "execution_count": 1,
   "id": "44ddf059",
   "metadata": {},
   "outputs": [],
   "source": [
    "import pandas as pd\n",
    "\n",
    "import ast\n",
    "\n",
    "from ojd_daps_skills.getters.data_getters import get_s3_resource, load_s3_data, save_to_s3\n",
    "from ojd_daps_skills import bucket_name, logger"
   ]
  },
  {
   "cell_type": "code",
   "execution_count": 2,
   "id": "08ffb6c9",
   "metadata": {},
   "outputs": [],
   "source": [
    "s3 = get_s3_resource()"
   ]
  },
  {
   "cell_type": "code",
   "execution_count": 3,
   "id": "5254b21f",
   "metadata": {},
   "outputs": [],
   "source": [
    "quality_data_file_name = \"escoe_extension/outputs/evaluation/skills_sample_quality_manually_tagged_251122.csv\""
   ]
  },
  {
   "cell_type": "code",
   "execution_count": 4,
   "id": "c74fcfe0",
   "metadata": {},
   "outputs": [],
   "source": [
    "hardcoded_file_name = \"escoe_extension/outputs/data/skill_ner_mapping/hardcoded_ojo_esco_lookup.json\""
   ]
  },
  {
   "cell_type": "code",
   "execution_count": 5,
   "id": "237c4e41",
   "metadata": {},
   "outputs": [],
   "source": [
    "quality_data = load_s3_data(s3, bucket_name, quality_data_file_name)"
   ]
  },
  {
   "cell_type": "code",
   "execution_count": 6,
   "id": "29ecc7d2",
   "metadata": {},
   "outputs": [],
   "source": [
    "hardcode_data = load_s3_data(s3, bucket_name, hardcoded_file_name)"
   ]
  },
  {
   "cell_type": "code",
   "execution_count": 7,
   "id": "b6e04525",
   "metadata": {},
   "outputs": [],
   "source": [
    "hardcoded_ojo_skills = set([h['ojo_skill'] for h in hardcode_data.values()])"
   ]
  },
  {
   "cell_type": "code",
   "execution_count": 8,
   "id": "df601b11",
   "metadata": {},
   "outputs": [
    {
     "data": {
      "text/plain": [
       "73"
      ]
     },
     "execution_count": 8,
     "metadata": {},
     "output_type": "execute_result"
    }
   ],
   "source": [
    "len(hardcode_data)"
   ]
  },
  {
   "cell_type": "markdown",
   "id": "b3ea2cb9",
   "metadata": {},
   "source": [
    "## Hardcode fix\n",
    "- If any skill in the tagged data is in the hardcode data then remove it from this evaluation"
   ]
  },
  {
   "cell_type": "code",
   "execution_count": 13,
   "id": "de03119d",
   "metadata": {
    "lines_to_next_cell": 2
   },
   "outputs": [],
   "source": [
    "quality_data['skill'] = quality_data['skill'].map(lambda x: ast.literal_eval(x))\n",
    "quality_data.rename(\n",
    "    columns={\n",
    "        \"good_skill? (excellent = 2, ok = 1, bad = 0)\": \"good_skill?\",\n",
    "        \"good_match? (excellent = 2, ok = 1, bad = 0)\": \"good_match?\"\n",
    "    }, inplace=True)\n",
    "\n",
    "quality_data['ojo_skill'] = quality_data['skill'].map(lambda x: x[0])\n",
    "quality_data['esco_skill'] = quality_data['skill'].map(lambda x: x[1][0])\n",
    "quality_data = quality_data[~quality_data['ojo_skill'].isin(hardcoded_ojo_skills)].reset_index(drop=True)"
   ]
  },
  {
   "cell_type": "code",
   "execution_count": 14,
   "id": "c4913541",
   "metadata": {},
   "outputs": [],
   "source": [
    "quality_data['skill_code'] = quality_data['skill'].map(\n",
    "    lambda x: \"skill\" if len(x[1][1]) > 10 else (\n",
    "        \"skill_level_3\" if ((len(x[1][1]) >=6)and  (x[1][1][0]==\"S\")) else (\n",
    "        \"skill_level_2\" if ((len(x[1][1]) >=4)and  (x[1][1][0]==\"S\")) else (\n",
    "        \"A\" if \"A\" in x[1][1] else (\n",
    "            \"T\" if \"T\" in x[1][1] else (\n",
    "                \"K\" if \"K\" in x[1][1]else x[1][1])) ) ) \n",
    "    ))\n",
    "quality_data['not_matched'] = quality_data['skill'].map(lambda x: len(x[1][1])<=3)"
   ]
  },
  {
   "cell_type": "code",
   "execution_count": 15,
   "id": "c0bb4ac1",
   "metadata": {},
   "outputs": [
    {
     "name": "stdout",
     "output_type": "stream",
     "text": [
      "187\n",
      "183\n"
     ]
    }
   ],
   "source": [
    "print(len(quality_data))\n",
    "quality_data = quality_data[quality_data['good_skill?']!=\"?\"]\n",
    "quality_data = quality_data[quality_data['good_match?']!=\"?\"]\n",
    "print(len(quality_data))"
   ]
  },
  {
   "cell_type": "markdown",
   "id": "8f32fb97",
   "metadata": {},
   "source": [
    "## Results"
   ]
  },
  {
   "cell_type": "code",
   "execution_count": 16,
   "id": "c2433ba0",
   "metadata": {},
   "outputs": [
    {
     "data": {
      "text/plain": [
       "172"
      ]
     },
     "execution_count": 16,
     "metadata": {},
     "output_type": "execute_result"
    }
   ],
   "source": [
    "quality_data_matched = quality_data[~quality_data['not_matched']]\n",
    "len(quality_data_matched)"
   ]
  },
  {
   "cell_type": "code",
   "execution_count": 17,
   "id": "4eaf5b6f",
   "metadata": {},
   "outputs": [
    {
     "name": "stdout",
     "output_type": "stream",
     "text": [
      "False    172\n",
      "True      11\n",
      "Name: not_matched, dtype: int64\n"
     ]
    },
    {
     "data": {
      "text/plain": [
       "False    0.939891\n",
       "True     0.060109\n",
       "Name: not_matched, dtype: float64"
      ]
     },
     "execution_count": 17,
     "metadata": {},
     "output_type": "execute_result"
    }
   ],
   "source": [
    "not_matched = quality_data['not_matched'].value_counts()\n",
    "print(not_matched)\n",
    "not_matched/not_matched.sum()"
   ]
  },
  {
   "cell_type": "code",
   "execution_count": 18,
   "id": "e8033262",
   "metadata": {},
   "outputs": [
    {
     "data": {
      "text/plain": [
       "2    0.725275\n",
       "1    0.192308\n",
       "0    0.082418\n",
       "Name: good_skill?, dtype: float64"
      ]
     },
     "execution_count": 18,
     "metadata": {},
     "output_type": "execute_result"
    }
   ],
   "source": [
    "good_skill = quality_data['good_skill?'].value_counts()\n",
    "good_skill/good_skill.sum()"
   ]
  },
  {
   "cell_type": "code",
   "execution_count": 19,
   "id": "b2e5bb6e",
   "metadata": {},
   "outputs": [
    {
     "data": {
      "text/plain": [
       "2    0.526316\n",
       "1    0.304094\n",
       "0    0.169591\n",
       "Name: good_match?, dtype: float64"
      ]
     },
     "execution_count": 19,
     "metadata": {},
     "output_type": "execute_result"
    }
   ],
   "source": [
    "good_match = quality_data_matched['good_match?'].value_counts()\n",
    "good_match/good_match.sum()"
   ]
  },
  {
   "cell_type": "code",
   "execution_count": 20,
   "id": "58d5f69d",
   "metadata": {},
   "outputs": [
    {
     "data": {
      "text/html": [
       "<div>\n",
       "<style scoped>\n",
       "    .dataframe tbody tr th:only-of-type {\n",
       "        vertical-align: middle;\n",
       "    }\n",
       "\n",
       "    .dataframe tbody tr th {\n",
       "        vertical-align: top;\n",
       "    }\n",
       "\n",
       "    .dataframe thead th {\n",
       "        text-align: right;\n",
       "    }\n",
       "</style>\n",
       "<table border=\"1\" class=\"dataframe\">\n",
       "  <thead>\n",
       "    <tr style=\"text-align: right;\">\n",
       "      <th></th>\n",
       "      <th>good_skill?</th>\n",
       "      <th>good_match?</th>\n",
       "      <th>count</th>\n",
       "    </tr>\n",
       "  </thead>\n",
       "  <tbody>\n",
       "    <tr>\n",
       "      <th>0</th>\n",
       "      <td>0</td>\n",
       "      <td>0</td>\n",
       "      <td>9</td>\n",
       "    </tr>\n",
       "    <tr>\n",
       "      <th>1</th>\n",
       "      <td>0</td>\n",
       "      <td>1</td>\n",
       "      <td>1</td>\n",
       "    </tr>\n",
       "    <tr>\n",
       "      <th>2</th>\n",
       "      <td>1</td>\n",
       "      <td>0</td>\n",
       "      <td>9</td>\n",
       "    </tr>\n",
       "    <tr>\n",
       "      <th>3</th>\n",
       "      <td>1</td>\n",
       "      <td>1</td>\n",
       "      <td>16</td>\n",
       "    </tr>\n",
       "    <tr>\n",
       "      <th>4</th>\n",
       "      <td>1</td>\n",
       "      <td>2</td>\n",
       "      <td>7</td>\n",
       "    </tr>\n",
       "    <tr>\n",
       "      <th>5</th>\n",
       "      <td>2</td>\n",
       "      <td>0</td>\n",
       "      <td>11</td>\n",
       "    </tr>\n",
       "    <tr>\n",
       "      <th>6</th>\n",
       "      <td>2</td>\n",
       "      <td>1</td>\n",
       "      <td>35</td>\n",
       "    </tr>\n",
       "    <tr>\n",
       "      <th>7</th>\n",
       "      <td>2</td>\n",
       "      <td>2</td>\n",
       "      <td>83</td>\n",
       "    </tr>\n",
       "  </tbody>\n",
       "</table>\n",
       "</div>"
      ],
      "text/plain": [
       "  good_skill? good_match?  count\n",
       "0           0           0      9\n",
       "1           0           1      1\n",
       "2           1           0      9\n",
       "3           1           1     16\n",
       "4           1           2      7\n",
       "5           2           0     11\n",
       "6           2           1     35\n",
       "7           2           2     83"
      ]
     },
     "execution_count": 20,
     "metadata": {},
     "output_type": "execute_result"
    }
   ],
   "source": [
    "good_skill_match = quality_data_matched[['good_skill?', 'good_match?']].value_counts(sort=False).reset_index()\n",
    "good_skill_match.rename(columns={0:'count'}, inplace=True)\n",
    "good_skill_match"
   ]
  },
  {
   "cell_type": "markdown",
   "id": "4c4e366b",
   "metadata": {},
   "source": [
    "## By which part of the ESCO taxonomy the skill was mapped to"
   ]
  },
  {
   "cell_type": "code",
   "execution_count": 21,
   "id": "d5196ac2",
   "metadata": {},
   "outputs": [],
   "source": [
    "low_level_quality_data_matched = quality_data_matched[quality_data_matched['skill_code'].isin(['skill', 'skill_level_3'])]"
   ]
  },
  {
   "cell_type": "code",
   "execution_count": 22,
   "id": "545c3e9c",
   "metadata": {},
   "outputs": [
    {
     "data": {
      "text/plain": [
       "skill_code     good_skill?  good_match?\n",
       "skill          1            1               8\n",
       "                            2               4\n",
       "               2            0               1\n",
       "                            1              19\n",
       "                            2              67\n",
       "skill_level_3  0            0               5\n",
       "                            1               1\n",
       "               1            0               6\n",
       "                            1               6\n",
       "                            2               3\n",
       "               2            0               8\n",
       "                            1              11\n",
       "                            2              11\n",
       "dtype: int64"
      ]
     },
     "execution_count": 22,
     "metadata": {},
     "output_type": "execute_result"
    }
   ],
   "source": [
    "low_level_quality_data_matched[['skill_code','good_skill?', 'good_match?']].value_counts(sort=False)"
   ]
  },
  {
   "cell_type": "code",
   "execution_count": 119,
   "id": "24889a50",
   "metadata": {},
   "outputs": [
    {
     "data": {
      "text/plain": [
       "skill_code\n",
       "A                1.625000\n",
       "K                0.166667\n",
       "T                1.000000\n",
       "skill            1.707071\n",
       "skill_level_2    0.333333\n",
       "skill_level_3    0.901961\n",
       "Name: good_match_num?, dtype: float64"
      ]
     },
     "execution_count": 119,
     "metadata": {},
     "output_type": "execute_result"
    }
   ],
   "source": [
    "quality_data_matched['good_match_num?'] = quality_data_matched['good_match?'].apply(lambda x: {'0':0, '1':1, '2':2}.get(x))\n",
    "quality_data_matched.groupby('skill_code')['good_match_num?'].mean()"
   ]
  },
  {
   "cell_type": "code",
   "execution_count": 126,
   "id": "cf349d95",
   "metadata": {},
   "outputs": [
    {
     "data": {
      "text/plain": [
       "skill_code\n",
       "A                 8\n",
       "K                 6\n",
       "T                 1\n",
       "skill            99\n",
       "skill_level_2     6\n",
       "skill_level_3    51\n",
       "Name: good_match_num?, dtype: int64"
      ]
     },
     "execution_count": 126,
     "metadata": {},
     "output_type": "execute_result"
    }
   ],
   "source": [
    "quality_data_matched.groupby('skill_code')['good_match_num?'].count()"
   ]
  },
  {
   "cell_type": "code",
   "execution_count": 128,
   "id": "13de39ad",
   "metadata": {},
   "outputs": [
    {
     "name": "stdout",
     "output_type": "stream",
     "text": [
      "['A1.4.0', 'A1.16.0', 'A1.8.0', 'A1.12.3', 'A1.7.0', 'A1.12.3', 'A1.2.0', 'A1.12.0']\n"
     ]
    }
   ],
   "source": [
    "print([v[1][1] for v in quality_data_matched[quality_data_matched['skill_code']=='A']['skill']])"
   ]
  },
  {
   "cell_type": "code",
   "execution_count": 129,
   "id": "ab134e0b",
   "metadata": {},
   "outputs": [
    {
     "name": "stdout",
     "output_type": "stream",
     "text": [
      "['K0031', 'K0416', 'K0532', 'K041', 'K0222', 'K0417']\n"
     ]
    }
   ],
   "source": [
    "print([v[1][1] for v in quality_data_matched[quality_data_matched['skill_code']=='K']['skill']])"
   ]
  },
  {
   "cell_type": "code",
   "execution_count": 130,
   "id": "3ce9c8dc",
   "metadata": {},
   "outputs": [
    {
     "name": "stdout",
     "output_type": "stream",
     "text": [
      "['T2.2']\n"
     ]
    }
   ],
   "source": [
    "print([v[1][1] for v in quality_data_matched[quality_data_matched['skill_code']=='T']['skill']])"
   ]
  },
  {
   "cell_type": "markdown",
   "id": "e2444b62",
   "metadata": {},
   "source": [
    "## Visualisation"
   ]
  },
  {
   "cell_type": "code",
   "execution_count": 85,
   "id": "34a561f5",
   "metadata": {},
   "outputs": [
    {
     "data": {
      "text/html": [
       "<div>\n",
       "<style scoped>\n",
       "    .dataframe tbody tr th:only-of-type {\n",
       "        vertical-align: middle;\n",
       "    }\n",
       "\n",
       "    .dataframe tbody tr th {\n",
       "        vertical-align: top;\n",
       "    }\n",
       "\n",
       "    .dataframe thead th {\n",
       "        text-align: right;\n",
       "    }\n",
       "</style>\n",
       "<table border=\"1\" class=\"dataframe\">\n",
       "  <thead>\n",
       "    <tr style=\"text-align: right;\">\n",
       "      <th>good_match?</th>\n",
       "      <th>0 - Bad</th>\n",
       "      <th>1 - OK</th>\n",
       "      <th>2 - Excellent</th>\n",
       "    </tr>\n",
       "    <tr>\n",
       "      <th>good_skill?</th>\n",
       "      <th></th>\n",
       "      <th></th>\n",
       "      <th></th>\n",
       "    </tr>\n",
       "  </thead>\n",
       "  <tbody>\n",
       "    <tr>\n",
       "      <th>0 - Bad</th>\n",
       "      <td>9.0</td>\n",
       "      <td>1.0</td>\n",
       "      <td>NaN</td>\n",
       "    </tr>\n",
       "    <tr>\n",
       "      <th>1 - OK</th>\n",
       "      <td>9.0</td>\n",
       "      <td>16.0</td>\n",
       "      <td>7.0</td>\n",
       "    </tr>\n",
       "    <tr>\n",
       "      <th>2 - Excellent</th>\n",
       "      <td>11.0</td>\n",
       "      <td>35.0</td>\n",
       "      <td>83.0</td>\n",
       "    </tr>\n",
       "  </tbody>\n",
       "</table>\n",
       "</div>"
      ],
      "text/plain": [
       "good_match?    0 - Bad  1 - OK  2 - Excellent\n",
       "good_skill?                                  \n",
       "0 - Bad            9.0     1.0            NaN\n",
       "1 - OK             9.0    16.0            7.0\n",
       "2 - Excellent     11.0    35.0           83.0"
      ]
     },
     "execution_count": 85,
     "metadata": {},
     "output_type": "execute_result"
    }
   ],
   "source": [
    "good_skill_match_rep = good_skill_match.replace({'0': '0 - Bad', '1': '1 - OK', '2': '2 - Excellent'}, )\n",
    "good_skill_match_piv = good_skill_match_rep.pivot(index='good_skill?', columns='good_match?', values='count')\n",
    "good_skill_match_piv"
   ]
  },
  {
   "cell_type": "code",
   "execution_count": 86,
   "id": "40c8256e",
   "metadata": {},
   "outputs": [],
   "source": [
    "color_mapper = {'0 - Bad': '#EB003B', '1 - OK': '#97D9E3', '2 - Excellent': '#18A48C'}"
   ]
  },
  {
   "cell_type": "code",
   "execution_count": 98,
   "id": "4c7a0c9c",
   "metadata": {},
   "outputs": [
    {
     "data": {
      "image/png": "[encoded data removed]",
      "text/plain": [
       "<Figure size 432x288 with 1 Axes>"
      ]
     },
     "metadata": {
      "needs_background": "light"
     },
     "output_type": "display_data"
    }
   ],
   "source": [
    "good_skill_match_piv.plot.bar(stacked=True, color = color_mapper.values(),\n",
    "                              ylabel=\"Number of skill entities\",\n",
    "                              title=\"Quality of skill extraction and matching to ESCO\",\n",
    "                              xlabel=\"Quality of skill entity\");"
   ]
  },
  {
   "cell_type": "markdown",
   "id": "c84776a2",
   "metadata": {},
   "source": [
    "## Examples of poor skills and matches"
   ]
  },
  {
   "cell_type": "code",
   "execution_count": 47,
   "id": "3b0dff23",
   "metadata": {},
   "outputs": [
    {
     "name": "stdout",
     "output_type": "stream",
     "text": [
      "Skill entity quality examples\n",
      "\n",
      "Excellent skill entities:\n",
      "['Cleaning and sharpening hand tools and kitchen utensils', 'Provide pastoral support', 'InDesign templates', 'Strong communicator and influencer', 'Document and implement verifiable process improvements']\n",
      "\n",
      "OK skill entities:\n",
      "['Superior planning', 'meeting and exceeding the specific service levels required', 'Risk  - (Credit, Regulatory, Liquidity, Market, Analysts-SAS', 'arranging site  visits over the phone so you will need to have a desire to promote the company products', 'act as the bridge between Business and Technology']\n",
      "\n",
      "Bad skill entities:\n",
      "['Membership of an appropriate Professional body', 'REWARDS', 'General terms and conditions', 'Committee minutes and annual Board', 'Residents and Relatives are actively involved in the development of the service']\n"
     ]
    }
   ],
   "source": [
    "print(\"Skill entity quality examples\")\n",
    "print(\"\\nExcellent skill entities:\")\n",
    "print(quality_data[quality_data['good_skill?']=='2']['ojo_skill'].tolist()[0:5])\n",
    "print(\"\\nOK skill entities:\")\n",
    "print(quality_data[quality_data['good_skill?']=='1']['ojo_skill'].tolist()[0:5])\n",
    "print(\"\\nBad skill entities:\")\n",
    "print(quality_data[quality_data['good_skill?']=='0']['ojo_skill'].tolist()[0:5])"
   ]
  },
  {
   "cell_type": "code",
   "execution_count": 48,
   "id": "558f6f46",
   "metadata": {},
   "outputs": [
    {
     "name": "stdout",
     "output_type": "stream",
     "text": [
      "Skill matches quality examples\n",
      "\n",
      "Excellent skill matches:\n",
      "[['Cleaning and sharpening hand tools and kitchen utensils', 'maintain kitchen utensils clean'], ['Provide pastoral support', 'assisting and supporting co-workers'], ['InDesign templates', 'making patterns and templates'], ['Strong communicator and influencer', 'personal skills and development'], ['Document and implement verifiable process improvements', 'documenting technical designs, procedures, problems or activities']]\n",
      "\n",
      "OK skill matches:\n",
      "[['Superior planning', 'perform planning'], ['Risk  - (Credit, Regulatory, Liquidity, Market, Analysts-SAS', 'performing risk analysis and management'], ['arranging site  visits over the phone so you will need to have a desire to promote the company products', 'promoting products, services, or programs'], ['detailing pupil achievement, monitor strengths, and weaknesses, inform planning and recognise the level at which the pupil is achieving', 'monitoring and evaluating the performance of individuals'], ['Signal safety design, including routing of safety related signals', 'develop signalling operations and safety procedures communications']]\n",
      "\n",
      "Bad skill matches:\n",
      "[['REWARDS', 'wholesale and retail sales'], ['General terms and conditions', 'negotiating'], ['Committee minutes and annual Board', 'leading and motivating'], ['Residents and Relatives are actively involved in the development of the service', 'monitoring and evaluating the performance of individuals'], ['Knowledge Experience', 'business and administration']]\n"
     ]
    }
   ],
   "source": [
    "print(\"Skill matches quality examples\")\n",
    "print(\"\\nExcellent skill matches:\")\n",
    "print(quality_data_matched[quality_data_matched['good_skill?']=='2'][['ojo_skill', 'esco_skill']].values.tolist()[0:5])\n",
    "print(\"\\nOK skill matches:\")\n",
    "print(quality_data_matched[quality_data_matched['good_skill?']=='1'][['ojo_skill', 'esco_skill']].values.tolist()[0:5])\n",
    "print(\"\\nBad skill matches:\")\n",
    "print(quality_data_matched[quality_data_matched['good_skill?']=='0'][['ojo_skill', 'esco_skill']].values.tolist()[0:5])"
   ]
  },
  {
   "cell_type": "code",
   "execution_count": null,
   "id": "310e3464",
   "metadata": {},
   "outputs": [],
   "source": []
  }
 ],
 "metadata": {
  "jupytext": {
   "cell_metadata_filter": "-all",
   "comment_magics": true
  },
  "kernelspec": {
   "display_name": "Python 3 (ipykernel)",
   "language": "python",
   "name": "python3"
  },
  "language_info": {
   "codemirror_mode": {
    "name": "ipython",
    "version": 3
   },
   "file_extension": ".py",
   "mimetype": "text/x-python",
   "name": "python",
   "nbconvert_exporter": "python",
   "pygments_lexer": "ipython3",
   "version": "3.8.13"
  }
 },
 "nbformat": 4,
 "nbformat_minor": 5
}
