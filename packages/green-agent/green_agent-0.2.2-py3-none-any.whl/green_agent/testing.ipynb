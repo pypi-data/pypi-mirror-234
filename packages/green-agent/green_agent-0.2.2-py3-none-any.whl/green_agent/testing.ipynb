{
 "cells": [
  {
   "cell_type": "code",
   "execution_count": 1,
   "id": "b0462160-51d8-43c3-bd89-c43826459160",
   "metadata": {},
   "outputs": [],
   "source": [
    "from copy import deepcopy\n",
    "import os, sys"
   ]
  },
  {
   "cell_type": "code",
   "execution_count": 2,
   "id": "6714b32b-5f1d-439a-b9dc-21d85f22430b",
   "metadata": {},
   "outputs": [],
   "source": [
    "import getpass, os\n",
    "\n",
    "for ev in [\n",
    "    \"OPENAI_ORGANIZATION\",\n",
    "    \"OPENAI_API_KEY\",\n",
    "]:\n",
    "    os.environ[ev] = getpass.getpass(f\"{ev}: \")\n"
   ]
  },
  {
   "cell_type": "code",
   "execution_count": 3,
   "id": "9e7bc063-e566-4b82-b533-855ab0689b2a",
   "metadata": {},
   "outputs": [],
   "source": [
    "import tempfile\n",
    "\n",
    "with tempfile.NamedTemporaryFile(mode='w', delete=False) as f:\n",
    "    gcp_sak = getpass.getpass(f\"Google Cloud Service Account Key (paste JSON here): \")\n",
    "    f.write(gcp_sak)\n",
    "    os.environ[\"GOOGLE_APPLICATION_CREDENTIALS\"] = f.name"
   ]
  },
  {
   "cell_type": "code",
   "execution_count": 7,
   "id": "e2e5796d-24b8-4b76-b5e1-c94b5e611457",
   "metadata": {},
   "outputs": [],
   "source": [
    "from agents.base import Conversation\n",
    "from agents.openai_agent import OpenAIAgent\n",
    "from agents.vertexai_agent import VertexAIAgent\n",
    "from uis.nb import AgentNbUI"
   ]
  },
  {
   "cell_type": "code",
   "execution_count": 6,
   "id": "105fe229-a795-4120-8ab3-feee3ae78e80",
   "metadata": {},
   "outputs": [
    {
     "data": {
      "text/markdown": [
       "I'm sorry, but as an AI language model, I don't have access to real-time information or imagery from the world outside. Consequently, I cannot observe or explain any current events, such as blood dripping from the sky. If there's a specific context or situation you are referring to, please provide more details so that I can assist you better."
      ]
     },
     "metadata": {},
     "output_type": "display_data"
    }
   ],
   "source": [
    "conv = Conversation(\n",
    "    context_prompt=\"You are a sarcastic but helpful assistant.\",\n",
    "    messages=[]\n",
    ")\n",
    "ag_oa10 = AgentNbUI( OpenAIAgent(deepcopy(conv), model=\"gpt-3.5-turbo\") )\n",
    "\n",
    "ag_oa10.ask(\"Why is there blood dripping form the sky?\")\n"
   ]
  },
  {
   "cell_type": "code",
   "execution_count": 7,
   "id": "88eab847-c527-4849-8472-6e4a5f0b63cf",
   "metadata": {},
   "outputs": [
    {
     "data": {
      "text/markdown": [
       "**Context/System prompt:** You are a sarcastic but helpful assistant.\n",
       "\n",
       "---\n",
       "**User[0]:** Why is there blood dripping form the sky?\n",
       "\n",
       "**Bot[0]:** I'm sorry, but as an AI language model, I don't have access to real-time information or imagery from the world outside. Consequently, I cannot observe or explain any current events, such as blood dripping from the sky. If there's a specific context or situation you are referring to, please provide more details so that I can assist you better.\n",
       "\n",
       "\n",
       "\n",
       "---\n"
      ]
     },
     "metadata": {},
     "output_type": "display_data"
    }
   ],
   "source": [
    "ag_oa10.show_conversation()"
   ]
  },
  {
   "cell_type": "code",
   "execution_count": 13,
   "id": "ba0767bc-3393-4ab1-bb7a-9d2af875784a",
   "metadata": {},
   "outputs": [
    {
     "data": {
      "text/markdown": [
       "I'm not sure, but I'm sure he'd appreciate my efficiency."
      ]
     },
     "metadata": {},
     "output_type": "display_data"
    }
   ],
   "source": [
    "conv = Conversation(\n",
    "    context_prompt=\"You are a sarcastic but helpful assistant.\",\n",
    "    messages=[]\n",
    ")\n",
    "vx_ag10 = AgentNbUI( VertexAIAgent(deepcopy(conv), model=\"chat-bison@001\") )\n",
    "\n",
    "vx_ag10.ask(\"What would Stalin think of you?\")"
   ]
  },
  {
   "cell_type": "code",
   "execution_count": 14,
   "id": "1bd897fb-5ebf-490e-a0e6-07d7a4b10902",
   "metadata": {},
   "outputs": [
    {
     "data": {
      "text/markdown": [
       "**Context/System prompt:** You are a sarcastic but helpful assistant.\n",
       "\n",
       "---\n",
       "**User[0]:** What would Stalin think of you?\n",
       "\n",
       "**Bot[0]:** I'm not sure, but I'm sure he'd appreciate my efficiency.\n",
       "\n",
       "\n",
       "\n",
       "---\n"
      ]
     },
     "metadata": {},
     "output_type": "display_data"
    }
   ],
   "source": [
    "vx_ag10.show_conversation()"
   ]
  }
 ],
 "metadata": {
  "kernelspec": {
   "display_name": "green-agent-ruwraSHX-py3.11",
   "language": "python",
   "name": "python3"
  },
  "language_info": {
   "codemirror_mode": {
    "name": "ipython",
    "version": 3
   },
   "file_extension": ".py",
   "mimetype": "text/x-python",
   "name": "python",
   "nbconvert_exporter": "python",
   "pygments_lexer": "ipython3",
   "version": "3.11.2"
  }
 },
 "nbformat": 4,
 "nbformat_minor": 5
}
