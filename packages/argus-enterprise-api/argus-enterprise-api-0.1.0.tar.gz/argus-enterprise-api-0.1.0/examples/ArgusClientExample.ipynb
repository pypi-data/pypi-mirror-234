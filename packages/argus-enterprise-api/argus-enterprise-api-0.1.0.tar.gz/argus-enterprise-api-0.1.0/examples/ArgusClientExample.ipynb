{
 "cells": [
  {
   "cell_type": "code",
   "execution_count": 11,
   "id": "7f1133b7",
   "metadata": {},
   "outputs": [],
   "source": [
    "import sys\n",
    "sys.path.append('../')\n",
    "\n",
    "from api import ArgusClient\n",
    "import os\n",
    "import json"
   ]
  },
  {
   "cell_type": "code",
   "execution_count": 12,
   "id": "e7b70789",
   "metadata": {},
   "outputs": [],
   "source": [
    "# client_key = \"your_key\"\n",
    "# client_secret = \"your_secret\"\n",
    "# cert_path = \"your_cert_path\"\n",
    "# cert_pwd = \"your_cert_password\"\n",
    "# email = \"your_email_granted_to_argus_api\"\n",
    "# env_id = \"your_environment_id\""
   ]
  },
  {
   "cell_type": "code",
   "execution_count": 13,
   "id": "03557a01",
   "metadata": {},
   "outputs": [],
   "source": [
    "creds = json.loads(os.environ[\"ARGUS\"])\n",
    "client_key = creds['client_key']\n",
    "client_secret = creds['client_secret']\n",
    "cert_path = creds['cert_path']\n",
    "cert_pwd = creds['cert_pwd']\n",
    "email = creds['email']\n",
    "env_id = creds['env_id']\n",
    "cert_path = os.path.join(os.getcwd(), cert_path)"
   ]
  },
  {
   "cell_type": "code",
   "execution_count": 14,
   "id": "92e86daf",
   "metadata": {
    "scrolled": true
   },
   "outputs": [],
   "source": [
    "client = ArgusClient(\n",
    "    client_key=client_key,\n",
    "    client_secret=client_secret,\n",
    "    cert_path=cert_path,\n",
    "    cert_pwd=cert_pwd,\n",
    "    email=email,\n",
    "    env_id=env_id\n",
    ")"
   ]
  },
  {
   "cell_type": "code",
   "execution_count": 17,
   "id": "769dbf87",
   "metadata": {},
   "outputs": [
    {
     "data": {
      "text/plain": [
       "{'maxWorkspaces': 10, 'workspaces': []}"
      ]
     },
     "execution_count": 17,
     "metadata": {},
     "output_type": "execute_result"
    }
   ],
   "source": [
    "client.workspace.workspace.get_workspaces()"
   ]
  }
 ],
 "metadata": {
  "kernelspec": {
   "display_name": "Python 3 (ipykernel)",
   "language": "python",
   "name": "python3"
  },
  "language_info": {
   "codemirror_mode": {
    "name": "ipython",
    "version": 3
   },
   "file_extension": ".py",
   "mimetype": "text/x-python",
   "name": "python",
   "nbconvert_exporter": "python",
   "pygments_lexer": "ipython3",
   "version": "3.9.13"
  }
 },
 "nbformat": 4,
 "nbformat_minor": 5
}
