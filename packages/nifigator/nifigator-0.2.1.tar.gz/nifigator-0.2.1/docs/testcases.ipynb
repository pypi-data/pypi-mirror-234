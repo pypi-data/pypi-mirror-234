{
 "cells": [
  {
   "cell_type": "code",
   "execution_count": null,
   "id": "7af03086",
   "metadata": {},
   "outputs": [],
   "source": [
    "import nifigator\n",
    "from rdflib.term import Literal, URIRef\n",
    "\n",
    "context = nifigator.NifContext(\n",
    "    base_uri=URIRef(\"https://mangosaurus.eu/rdf-data/doc_1\"),\n",
    "    URIScheme=nifigator.OffsetBasedString,\n",
    "    isString=\"The cat sat on the mat. Felix was his name.\",\n",
    ")\n",
    "assert type(context) == nifigator.NifContext\n",
    "assert context.isString == \"The cat sat on the mat. Felix was his name.\"\n",
    "assert context.uri == URIRef(\"https://mangosaurus.eu/rdf-data/doc_1&nif=context\")\n",
    "assert context.URIScheme == nifigator.OffsetBasedString"
   ]
  },
  {
   "cell_type": "code",
   "execution_count": null,
   "id": "1a889373",
   "metadata": {},
   "outputs": [],
   "source": [
    "context = nifigator.NifContext(\n",
    "    uri=URIRef(\"https://mangosaurus.eu/rdf-data/doc_1\"),\n",
    "    URIScheme=nifigator.OffsetBasedString,\n",
    "    isString=\"The cat sat on the mat. Felix was his name.\",\n",
    ")\n",
    "assert type(context) == nifigator.NifContext\n",
    "assert context.isString == \"The cat sat on the mat. Felix was his name.\"\n",
    "assert context.uri == URIRef(\"https://mangosaurus.eu/rdf-data/doc_1\")\n",
    "assert context.URIScheme == nifigator.OffsetBasedString"
   ]
  },
  {
   "cell_type": "code",
   "execution_count": null,
   "id": "f18336f5",
   "metadata": {
    "scrolled": true
   },
   "outputs": [],
   "source": [
    "context = nifigator.NifContext(\n",
    "    uri=URIRef(\"https://mangosaurus.eu/rdf-data/doc_1\"),\n",
    "    URIScheme=nifigator.OffsetBasedString,\n",
    "    isString=\"The cat sat on the mat. Felix was his name.\",\n",
    ")\n",
    "collection = nifigator.NifContextCollection(uri=\"https://mangosaurus.eu/rdf-data\")\n",
    "collection.add_context(context)\n",
    "assert type(collection) == nifigator.NifContextCollection\n",
    "assert collection.conformsTo == URIRef(\n",
    "    \"http://persistence.uni-leipzig.org/nlp2rdf/ontologies/nif-core/2.1\"\n",
    ")\n",
    "assert collection.contexts == [context]"
   ]
  },
  {
   "cell_type": "code",
   "execution_count": null,
   "id": "71fe3656",
   "metadata": {},
   "outputs": [],
   "source": [
    "import stanza\n",
    "\n",
    "context = nifigator.NifContext(\n",
    "    base_uri=URIRef(\"https://mangosaurus.eu/rdf-data/doc_1\"),\n",
    "    URIScheme=nifigator.OffsetBasedString,\n",
    "    isString=\"The cat sat on the mat. Felix was his name.\",\n",
    ")\n",
    "\n",
    "nlp = stanza.Pipeline(\"en\", verbose=False)\n",
    "stanza_dict = nlp(context.isString).to_dict()\n",
    "context.load_from_dict(stanza_dict)\n",
    "assert context.sentences[0].anchorOf == \"The cat sat on the mat.\"\n",
    "assert context.sentences[1].anchorOf == \"Felix was his name.\"\n",
    "\n",
    "word = context.sentences[1].words[0]\n",
    "assert word.uri == URIRef(\"https://mangosaurus.eu/rdf-data/doc_1&nif=word_24_29\")\n",
    "assert str(word.referenceContext) == str(context)\n",
    "assert word.beginIndex == 24\n",
    "assert word.endIndex == 29\n",
    "assert word.anchorOf == \"Felix\"\n",
    "assert word.lemma == \"Felix\"\n",
    "assert word.morphofeats == [URIRef(\"http://purl.org/olia/olia.owl#Singular\")]\n",
    "assert word.dependency[0].uri == URIRef(\n",
    "    \"https://mangosaurus.eu/rdf-data/doc_1&nif=word_38_42\"\n",
    ")\n",
    "assert word.dependencyRelationType == \"nsubj\""
   ]
  },
  {
   "cell_type": "code",
   "execution_count": null,
   "id": "77c8601d",
   "metadata": {},
   "outputs": [],
   "source": [
    "context = nifigator.NifContext(\n",
    "    uri=\"https://mangosaurus.eu/rdf-data/doc_1\",\n",
    "    URIScheme=nifigator.OffsetBasedString,\n",
    "    isString=\"The cat sat on the mat. Felix was his name.\",\n",
    ")\n",
    "collection = nifigator.NifContextCollection(uri=\"https://mangosaurus.eu/rdf-data\")\n",
    "collection.add_context(context)\n",
    "\n",
    "nlp = stanza.Pipeline(\"en\", verbose=False)\n",
    "stanza_dict = nlp(context.isString).to_dict()\n",
    "context.load_from_dict(stanza_dict)\n",
    "\n",
    "g = nifigator.NifGraph(collection=collection)\n",
    "\n",
    "collection = g.collection\n",
    "context = collection.contexts[0]\n",
    "assert type(context) == nifigator.NifContext\n",
    "assert context.isString == \"The cat sat on the mat. Felix was his name.\"\n",
    "assert context.uri == URIRef(\"https://mangosaurus.eu/rdf-data/doc_1\")\n",
    "assert context.URIScheme == URIRef(\n",
    "    \"http://persistence.uni-leipzig.org/nlp2rdf/ontologies/nif-core#OffsetBasedString\"\n",
    ")\n",
    "assert context.sentences[0].anchorOf == \"The cat sat on the mat.\"\n",
    "assert context.sentences[1].anchorOf == \"Felix was his name.\"\n",
    "\n",
    "word = context.sentences[1].words[0]\n",
    "assert word.uri == URIRef(\"https://mangosaurus.eu/rdf-data/doc_1&nif=word_24_29\")\n",
    "assert str(word.referenceContext) == str(context)\n",
    "assert word.beginIndex == 24\n",
    "assert word.endIndex == 29\n",
    "assert word.anchorOf == \"Felix\"\n",
    "assert word.lemma == \"Felix\"\n",
    "assert word.morphofeats == [URIRef(\"http://purl.org/olia/olia.owl#Singular\")]\n",
    "assert word.dependency[0].uri == URIRef(\n",
    "    \"https://mangosaurus.eu/rdf-data/doc_1&nif=word_38_42\"\n",
    ")\n",
    "assert word.dependencyRelationType == \"nsubj\""
   ]
  }
 ],
 "metadata": {
  "kernelspec": {
   "display_name": "Python 3 (ipykernel)",
   "language": "python",
   "name": "python3"
  },
  "language_info": {
   "codemirror_mode": {
    "name": "ipython",
    "version": 3
   },
   "file_extension": ".py",
   "mimetype": "text/x-python",
   "name": "python",
   "nbconvert_exporter": "python",
   "pygments_lexer": "ipython3",
   "version": "3.10.10"
  }
 },
 "nbformat": 4,
 "nbformat_minor": 5
}
