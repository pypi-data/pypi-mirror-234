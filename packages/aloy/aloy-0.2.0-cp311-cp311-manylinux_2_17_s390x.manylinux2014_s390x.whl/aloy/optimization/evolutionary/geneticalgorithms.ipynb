{
 "cells": [
  {
   "cell_type": "code",
   "execution_count": 1,
   "metadata": {},
   "outputs": [
    {
     "name": "stderr",
     "output_type": "stream",
     "text": [
      "                                                                                                 )=127.50]"
     ]
    },
    {
     "name": "stdout",
     "output_type": "stream",
     "text": [
      "01010101010101010101 20\n"
     ]
    },
    {
     "name": "stderr",
     "output_type": "stream",
     "text": [
      "\r"
     ]
    }
   ],
   "source": [
    "from aloy.optimization.evolutionary.geneticalgorithms import GeneticSystem, GeneticEncoder, BitStringBaseTypes, SplitCrossOver, PointMutator, ProportionateSelector\n",
    "\n",
    "class TestEncoder(GeneticEncoder):\n",
    "    def encode(self, solution):\n",
    "        return solution\n",
    "    def decode(self, solution):\n",
    "        return solution\n",
    "    def evaluate_fitness(self, chromosome):\n",
    "        return sum(1 if ((int(x) % 2) == (i % 2)) else 0 for i, x in enumerate(chromosome))\n",
    "\n",
    "encoder = TestEncoder(20, False, BitStringBaseTypes.bin)\n",
    "selector = ProportionateSelector()\n",
    "recombiner = SplitCrossOver()\n",
    "mutator = PointMutator(1)\n",
    "system = GeneticSystem(encoder, selector, recombiner, mutator)\n",
    "\n",
    "result = system.run(100, 200, 1.5, 0.75, mutation_factor_final=0.0)\n",
    "print(result.best_individual, result.best_fitness)\n"
   ]
  },
  {
   "cell_type": "code",
   "execution_count": 1,
   "metadata": {},
   "outputs": [
    {
     "ename": "TypeError",
     "evalue": "'generator' object is not subscriptable",
     "output_type": "error",
     "traceback": [
      "\u001b[0;31m---------------------------------------------------------------------------\u001b[0m",
      "\u001b[0;31mTypeError\u001b[0m                                 Traceback (most recent call last)",
      "Cell \u001b[0;32mIn[1], line 41\u001b[0m\n\u001b[1;32m     38\u001b[0m mutator \u001b[39m=\u001b[39m PointMutator(\u001b[39m1\u001b[39m)\n\u001b[1;32m     39\u001b[0m system \u001b[39m=\u001b[39m GeneticSystem(encoder, selector, recombiner, mutator)\n\u001b[0;32m---> 41\u001b[0m result \u001b[39m=\u001b[39m system\u001b[39m.\u001b[39;49mrun(\u001b[39m1000\u001b[39;49m, \u001b[39m1000\u001b[39;49m, \u001b[39m1.5\u001b[39;49m, \u001b[39m0.75\u001b[39;49m, mutation_factor_final\u001b[39m=\u001b[39;49m\u001b[39m2.0\u001b[39;49m, max_generations\u001b[39m=\u001b[39;49m\u001b[39m100\u001b[39;49m)\n",
      "File \u001b[0;32m~/code/jinx/optimization/evolutionary/geneticalgorithms.py:1406\u001b[0m, in \u001b[0;36mGeneticSystem.run\u001b[0;34m(self, init_pop_size, max_pop_size, expansion_factor, survival_factor, survival_factor_final, survival_factor_growth_type, survival_factor_growth_start, survival_factor_growth_end, survival_factor_growth_rate, survival_elitism_factor, survival_elitism_factor_final, survival_elitism_factor_growth_type, survival_elitism_factor_growth_start, survival_elitism_factor_growth_end, survival_elitism_factor_growth_rate, replacement, reproduction_elitism_factor, reproduction_elitism_factor_final, reproduction_elitism_factor_growth_type, reproduction_elitism_factor_growth_start, reproduction_elitism_factor_growth_end, reproduction_elitism_factor_growth_rate, mutation_factor, mutation_factor_final, mutation_factor_growth_type, mutation_factor_growth_start, mutation_factor_growth_end, mutation_factor_growth_rate, mutate_all, mutation_strength, mutation_strength_final, mutation_strength_decay_type, mutation_strength_decay_start, mutation_strength_decay_end, mutation_strength_decay_rate, max_generations, fitness_threshold, fitness_proportion, stagnation_limit, stagnation_proportion, diversity_bias, diversity_bias_final, diversity_bias_decay_type, diversity_bias_decay_start, diversity_bias_decay_end, diversity_bias_decay_rate)\u001b[0m\n\u001b[1;32m   1403\u001b[0m generation: \u001b[39mint\u001b[39m \u001b[39m=\u001b[39m \u001b[39m0\u001b[39m\n\u001b[1;32m   1405\u001b[0m \u001b[39m# Variables for checking stagnation\u001b[39;00m\n\u001b[0;32m-> 1406\u001b[0m best_individual_achieved: CT \u001b[39m=\u001b[39m population[max_fitness_index]\n\u001b[1;32m   1407\u001b[0m best_fitness_achieved: \u001b[39mfloat\u001b[39m \u001b[39m=\u001b[39m max_fitness\n\u001b[1;32m   1408\u001b[0m stagnated_generations: \u001b[39mint\u001b[39m \u001b[39m=\u001b[39m \u001b[39m0\u001b[39m\n",
      "\u001b[0;31mTypeError\u001b[0m: 'generator' object is not subscriptable"
     ]
    }
   ],
   "source": [
    "import matplotlib.pyplot as plt\n",
    "from aloy.auxiliary.moreitertools import ichunk_sequence\n",
    "\n",
    "from aloy.optimization.evolutionary.geneticalgorithms import GeneticSystem, GeneticEncoder, NumericalBase, SplitCrossOver, PointMutator, ProportionateSelector\n",
    "\n",
    "from aloy.control.pid import PIDController\n",
    "from aloy.control.systems import InvertedPendulumSystem\n",
    "from aloy.control.controlutils import simulate_control\n",
    "\n",
    "pend_system = InvertedPendulumSystem()\n",
    "controller = PIDController(0.0, 0.0, 0.0, initial_error=pend_system.get_control_input() - pend_system.get_setpoint())\n",
    "\n",
    "ticks: int = 100\n",
    "delta_time: float = 0.1\n",
    "\n",
    "min_ = -10\n",
    "max_ = 10\n",
    "\n",
    "def control_evaluator(chromosome):\n",
    "    # vec = [((max_ - min_) * (int(x, base=2) / ((2 ** 12) - 1))) + min_ for x in ichunk_sequence(chromosome, 12, 3)]\n",
    "    vec = [((max_ - min_) * x) + min_ for x in chromosome]\n",
    "    controller.reset()\n",
    "    controller.set_gains(*vec)\n",
    "    pend_system.reset()\n",
    "    return simulate_control(pend_system, controller, ticks, delta_time)\n",
    "\n",
    "class TestEncoder(GeneticEncoder):\n",
    "    def encode(self, solution):\n",
    "        return solution\n",
    "    def decode(self, solution):\n",
    "        return solution\n",
    "    def evaluate_fitness(self, chromosome):\n",
    "        return -control_evaluator(chromosome)\n",
    "\n",
    "encoder = TestEncoder(3, False, NumericalBase(\"base\", int, -10, 10))\n",
    "selector = ProportionateSelector()\n",
    "recombiner = SplitCrossOver()\n",
    "mutator = PointMutator(1)\n",
    "system = GeneticSystem(encoder, selector, recombiner, mutator)\n",
    "\n",
    "result = system.run(1000, 1000, 1.5, 0.75, mutation_factor_final=2.0, max_generations=100)\n"
   ]
  },
  {
   "cell_type": "code",
   "execution_count": 3,
   "metadata": {},
   "outputs": [
    {
     "name": "stdout",
     "output_type": "stream",
     "text": [
      "\n",
      "Best position :: 111011110100101000001011111111101101\n"
     ]
    },
    {
     "ename": "TypeError",
     "evalue": "can only concatenate str (not \"int\") to str",
     "output_type": "error",
     "traceback": [
      "\u001b[0;31m---------------------------------------------------------------------------\u001b[0m",
      "\u001b[0;31mTypeError\u001b[0m                                 Traceback (most recent call last)",
      "Cell \u001b[0;32mIn[3], line 3\u001b[0m\n\u001b[1;32m      1\u001b[0m \u001b[39mprint\u001b[39m(\u001b[39mf\u001b[39m\u001b[39m\"\u001b[39m\u001b[39m\\n\u001b[39;00m\u001b[39mBest position :: \u001b[39m\u001b[39m{\u001b[39;00mresult\u001b[39m.\u001b[39mbest_individual\u001b[39m}\u001b[39;00m\u001b[39m\"\u001b[39m)\n\u001b[1;32m      2\u001b[0m chromosome \u001b[39m=\u001b[39m result\u001b[39m.\u001b[39mbest_individual\n\u001b[0;32m----> 3\u001b[0m \u001b[39mprint\u001b[39m([((max_ \u001b[39m-\u001b[39m min_) \u001b[39m*\u001b[39m x) \u001b[39m+\u001b[39m min_ \u001b[39mfor\u001b[39;00m x \u001b[39min\u001b[39;00m chromosome])\n",
      "Cell \u001b[0;32mIn[3], line 3\u001b[0m, in \u001b[0;36m<listcomp>\u001b[0;34m(.0)\u001b[0m\n\u001b[1;32m      1\u001b[0m \u001b[39mprint\u001b[39m(\u001b[39mf\u001b[39m\u001b[39m\"\u001b[39m\u001b[39m\\n\u001b[39;00m\u001b[39mBest position :: \u001b[39m\u001b[39m{\u001b[39;00mresult\u001b[39m.\u001b[39mbest_individual\u001b[39m}\u001b[39;00m\u001b[39m\"\u001b[39m)\n\u001b[1;32m      2\u001b[0m chromosome \u001b[39m=\u001b[39m result\u001b[39m.\u001b[39mbest_individual\n\u001b[0;32m----> 3\u001b[0m \u001b[39mprint\u001b[39m([((max_ \u001b[39m-\u001b[39;49m min_) \u001b[39m*\u001b[39;49m x) \u001b[39m+\u001b[39;49m min_ \u001b[39mfor\u001b[39;00m x \u001b[39min\u001b[39;00m chromosome])\n",
      "\u001b[0;31mTypeError\u001b[0m: can only concatenate str (not \"int\") to str"
     ]
    }
   ],
   "source": [
    "print(f\"\\nBest position :: {result.best_individual}\")\n",
    "chromosome = result.best_individual\n",
    "print([((max_ - min_) * x) + min_ for x in chromosome])"
   ]
  }
 ],
 "metadata": {
  "kernelspec": {
   "display_name": "jinx",
   "language": "python",
   "name": "python3"
  },
  "language_info": {
   "codemirror_mode": {
    "name": "ipython",
    "version": 3
   },
   "file_extension": ".py",
   "mimetype": "text/x-python",
   "name": "python",
   "nbconvert_exporter": "python",
   "pygments_lexer": "ipython3",
   "version": "3.10.8"
  },
  "orig_nbformat": 4,
  "vscode": {
   "interpreter": {
    "hash": "c8d02a379445c0848a0d86f94344e1fc81c80eb097ba000267690395e014bd2e"
   }
  }
 },
 "nbformat": 4,
 "nbformat_minor": 2
}
