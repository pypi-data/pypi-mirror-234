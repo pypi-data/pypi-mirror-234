{
 "cells": [
  {
   "cell_type": "code",
   "execution_count": null,
   "id": "6c00ea5d-10a2-4f59-a28f-d1ab811da137",
   "metadata": {},
   "outputs": [],
   "source": [
    "import bw2data as bd\n",
    "import bw2calc as bc"
   ]
  },
  {
   "cell_type": "code",
   "execution_count": 2,
   "id": "3a2873bb-3ffa-46da-a012-8cc4c49884cb",
   "metadata": {},
   "outputs": [],
   "source": [
    "bd.projects.set_current(\"allocation\")"
   ]
  },
  {
   "cell_type": "code",
   "execution_count": 3,
   "id": "57650838-4a50-4271-a197-9f8170f9cb49",
   "metadata": {},
   "outputs": [],
   "source": [
    "if \"A\" in bd.databases:\n",
    "    del bd.databases[\"A\"]\n",
    "    \n",
    "if \"Multifunctional activities\" in bd.databases:\n",
    "    del bd.databases[\"Multifunctional activities\"]"
   ]
  },
  {
   "cell_type": "code",
   "execution_count": 4,
   "id": "d3ae2ddf-0e89-49d2-9f2f-aa91584f2c86",
   "metadata": {},
   "outputs": [],
   "source": [
    "db = bd.Database(\"A\")\n",
    "db.register()"
   ]
  },
  {
   "cell_type": "code",
   "execution_count": 5,
   "id": "7dc88563-029d-4afd-b5e2-7729258e5f41",
   "metadata": {},
   "outputs": [],
   "source": [
    "a = db.new_activity(name=\"a\", code=\"a\", type=\"emission\")\n",
    "a.save()\n",
    "# Gets automatic production exchange of amount 1"
   ]
  },
  {
   "cell_type": "code",
   "execution_count": 6,
   "id": "9334029a-b47d-4f92-a158-7386aa4d8015",
   "metadata": {},
   "outputs": [],
   "source": [
    "b = db.new_activity(name=\"b\", code=\"b\", type=\"process\")\n",
    "b.save()\n",
    "b.new_exchange(input=a, type=\"biosphere\", amount=5).save()\n",
    "# Gets automatic production exchange of amount 1"
   ]
  },
  {
   "cell_type": "code",
   "execution_count": 7,
   "id": "8a451da2-06da-4416-81fd-4b390c16d258",
   "metadata": {},
   "outputs": [],
   "source": [
    "c = db.new_activity(name=\"c\", code=\"c\", type=\"process\")\n",
    "c.save()\n",
    "c.new_exchange(input=a, type=\"biosphere\", amount=10).save()\n",
    "# Gets automatic production exchange of amount 1"
   ]
  },
  {
   "cell_type": "code",
   "execution_count": 8,
   "id": "3f92e8a3-3aed-45a6-96e6-3945cfc2b8e3",
   "metadata": {},
   "outputs": [],
   "source": [
    "d1 = db.new_activity(name=\"d1\", code=\"d1\", type=\"product\") \n",
    "d1.save()\n",
    "d2 = db.new_activity(name=\"d2\", code=\"d2\", type=\"product\") \n",
    "d2.save()"
   ]
  },
  {
   "cell_type": "markdown",
   "id": "2b2cc0f4-4641-4b7e-985b-d09ff0ffc94f",
   "metadata": {},
   "source": [
    "I thought we could create a non-`process` activity and it would be ignored, but this isn't how [the current Brightway2 code](https://github.com/brightway-lca/brightway2-data/blob/legacy/bw2data/backends/peewee/database.py#L437) works. This is changed in 2.5. For now we will need to create a sister database for multifunctional activities."
   ]
  },
  {
   "cell_type": "code",
   "execution_count": 9,
   "id": "07a1bfcb-d99d-4a05-9d71-d5b04a5320df",
   "metadata": {},
   "outputs": [],
   "source": [
    "db_mf = bd.Database(\"Multifunctional activities\")\n",
    "db_mf.register()"
   ]
  },
  {
   "cell_type": "code",
   "execution_count": 10,
   "id": "60cb7cdf-fde2-47f4-a5f2-9d648ca59488",
   "metadata": {},
   "outputs": [],
   "source": [
    "# Note: type `multifunctional` is not a thing, just needs not to be `process`\n",
    "d = db_mf.new_activity(name=\"d\", code=\"d\", type=\"multifunctional\") \n",
    "d.save()\n",
    "d.new_exchange(input=d1, type=\"production\", amount=5, price=10).save()\n",
    "d.new_exchange(input=d2, type=\"production\", amount=5, price=5).save()\n",
    "d.new_exchange(input=c, type=\"technosphere\", amount=10).save()\n",
    "d.new_exchange(input=b, type=\"technosphere\", amount=100).save()"
   ]
  },
  {
   "cell_type": "markdown",
   "id": "fbf39d13-0f88-499c-9db6-a4b197f83725",
   "metadata": {},
   "source": [
    "The technosphere matrix won't have `d`:"
   ]
  },
  {
   "cell_type": "code",
   "execution_count": 11,
   "id": "8952299e-56d1-4a35-b5e3-83a351089075",
   "metadata": {},
   "outputs": [
    {
     "data": {
      "text/plain": [
       "matrix([[1., 0.],\n",
       "        [0., 1.]])"
      ]
     },
     "execution_count": 11,
     "metadata": {},
     "output_type": "execute_result"
    }
   ],
   "source": [
    "lca = bc.LCA({c: 1})\n",
    "lca.lci()\n",
    "lca.technosphere_matrix.todense()"
   ]
  },
  {
   "cell_type": "markdown",
   "id": "ec17f5e3-3fd7-462d-a962-2e37781e41db",
   "metadata": {},
   "source": [
    "Create a function to do allocation:"
   ]
  },
  {
   "cell_type": "code",
   "execution_count": 12,
   "id": "d1301b95-4d66-4d8b-ab25-42c411f183b0",
   "metadata": {},
   "outputs": [],
   "source": [
    "import bw2data as bd\n",
    "\n",
    "BUMPER = {'name', 'code'}\n",
    "SKIPPER = {'input', 'amount', 'output'}\n",
    "\n",
    "\n",
    "def allocate_database(\n",
    "    source_database_label: str, \n",
    "    target_database_label: str, \n",
    "    allocation_type: str = \"multifunctional\", \n",
    "    allocation_attribute: str = \"price\"\n",
    "):\n",
    "    \"\"\"Take all activities in `Database` `source_database_label` which have the type \n",
    "    `allocation_type`, and create allocated copies in `Database` `target_database_label`\n",
    "    using the attribute `allocation_attribute` as allocation factors.\n",
    "    \n",
    "    Appends the suffixes `_0`, `_1`, etc. to the `name` and `code` for the allocated datasets.\"\"\"\n",
    "    assert source_database_label in bd.databases\n",
    "    assert target_database_label in bd.databases\n",
    "    \n",
    "    source_db = bd.Database(source_database_label)\n",
    "    target_db = bd.Database(target_database_label)\n",
    "    \n",
    "    count_act, count_exc = 0, 0\n",
    "    \n",
    "    for act in source_db:\n",
    "        if act.get(\"type\") == allocation_type:\n",
    "            production_exchanges = list(act.production())\n",
    "            if not production_exchanges:\n",
    "                print(f\"Skipping multifunctional activity {act}, no production exchanges\")\n",
    "                continue\n",
    "            \n",
    "            nonproduction_exchanges = list(act.technosphere()) + list(act.biosphere())\n",
    "            try:\n",
    "                weights = [exc['amount'] * exc[allocation_attribute] for exc in production_exchanges]\n",
    "                total = sum(weights)\n",
    "            except KeyError:\n",
    "                print(f\"Skipping multifunctional activity {act}, missing allocation attribute\")\n",
    "                continue\n",
    "            \n",
    "            count_act += 1\n",
    "\n",
    "            def modifier(key, value, index):\n",
    "                if key == 'database':\n",
    "                    return target_database_label\n",
    "                elif key in BUMPER:\n",
    "                    return \"{}_{}\".format(value, index)\n",
    "                else:\n",
    "                    return value\n",
    "                    \n",
    "            for index, prod_exc in enumerate(production_exchanges):\n",
    "                node = target_db.new_activity(**{k: modifier(k, v, index) for k, v in act.items()})\n",
    "                node.save()\n",
    "\n",
    "                node.new_exchange(\n",
    "                    input=node,\n",
    "                    amount=prod_exc['amount'],\n",
    "                    **{k: v for k, v in prod_exc.items() if k not in SKIPPER}\n",
    "                ).save()\n",
    "                \n",
    "                coefficient = weights[index] / total\n",
    "                for other_exc in nonproduction_exchanges:\n",
    "                    node.new_exchange(\n",
    "                        input=other_exc.input,\n",
    "                        amount=other_exc['amount'] * coefficient,\n",
    "                        **{k: v for k, v in other_exc.items() if k not in SKIPPER}\n",
    "                    ).save()\n",
    "                    count_exc += 1\n",
    "\n",
    "    print(f\"Created {count_act} activities in {target_database_label} with {count_exc} allocated exchanges\")"
   ]
  },
  {
   "cell_type": "code",
   "execution_count": 13,
   "id": "314b5c8c-cdf1-4fdb-8e32-a8b6aeb6cfa3",
   "metadata": {},
   "outputs": [
    {
     "name": "stdout",
     "output_type": "stream",
     "text": [
      "Successfully switch activity dataset to database `A`\n",
      "Successfully switch activity dataset to database `A`\n",
      "Created 1 activities in A with 4 allocated exchanges\n"
     ]
    }
   ],
   "source": [
    "allocate_database(\n",
    "    source_database_label=\"Multifunctional activities\", \n",
    "    target_database_label=\"A\", \n",
    ")"
   ]
  },
  {
   "cell_type": "markdown",
   "id": "632cdd8a-3ecb-4504-b2d8-f86615562fa2",
   "metadata": {},
   "source": [
    "Check to make sure this did what we expected:"
   ]
  },
  {
   "cell_type": "code",
   "execution_count": 14,
   "id": "a4c37f24-1196-4549-8714-40d63b225973",
   "metadata": {},
   "outputs": [
    {
     "name": "stdout",
     "output_type": "stream",
     "text": [
      "'d_0' (None, GLO, None)\n",
      "\tExchange: 5 None 'd_0' (None, GLO, None) to 'd_0' (None, GLO, None)>\n",
      "\tExchange: 6.666666666666666 None 'c' (None, GLO, None) to 'd_0' (None, GLO, None)>\n",
      "\tExchange: 66.66666666666666 None 'b' (None, GLO, None) to 'd_0' (None, GLO, None)>\n",
      "'d_1' (None, GLO, None)\n",
      "\tExchange: 5 None 'd_1' (None, GLO, None) to 'd_1' (None, GLO, None)>\n",
      "\tExchange: 3.333333333333333 None 'c' (None, GLO, None) to 'd_1' (None, GLO, None)>\n",
      "\tExchange: 33.33333333333333 None 'b' (None, GLO, None) to 'd_1' (None, GLO, None)>\n"
     ]
    }
   ],
   "source": [
    "for ds in db:\n",
    "    if ds['name'].startswith(\"d_\"):\n",
    "        print(ds)\n",
    "        for exc in ds.exchanges():\n",
    "            print(f\"\\t{exc}\")"
   ]
  },
  {
   "cell_type": "markdown",
   "id": "115dcea9-8b64-4a6d-b159-5aee13dde0e5",
   "metadata": {},
   "source": [
    "And our new technosphere will have `d_0` and `d_1`:"
   ]
  },
  {
   "cell_type": "code",
   "execution_count": 15,
   "id": "6496320d-47e2-429b-9133-e15bd4facd5b",
   "metadata": {},
   "outputs": [
    {
     "data": {
      "text/plain": [
       "matrix([[  1.        ,   0.        , -66.66666412, -33.33333206],\n",
       "        [  0.        ,   1.        ,  -6.66666651,  -3.33333325],\n",
       "        [  0.        ,   0.        ,   5.        ,   0.        ],\n",
       "        [  0.        ,   0.        ,   0.        ,   5.        ]])"
      ]
     },
     "execution_count": 15,
     "metadata": {},
     "output_type": "execute_result"
    }
   ],
   "source": [
    "lca = bc.LCA({c: 1})\n",
    "lca.lci()\n",
    "lca.technosphere_matrix.todense()"
   ]
  }
 ],
 "metadata": {
  "kernelspec": {
   "display_name": "Python 3 (ipykernel)",
   "language": "python",
   "name": "python3"
  },
  "language_info": {
   "codemirror_mode": {
    "name": "ipython",
    "version": 3
   },
   "file_extension": ".py",
   "mimetype": "text/x-python",
   "name": "python",
   "nbconvert_exporter": "python",
   "pygments_lexer": "ipython3",
   "version": "3.10.6"
  }
 },
 "nbformat": 4,
 "nbformat_minor": 5
}
