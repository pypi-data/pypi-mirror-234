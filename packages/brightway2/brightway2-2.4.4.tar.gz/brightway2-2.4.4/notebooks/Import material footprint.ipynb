{
 "cells": [
  {
   "cell_type": "markdown",
   "id": "0cba038d-0bac-4e7f-bc47-5a9f2f82c81e",
   "metadata": {},
   "source": [
    "# Import material footprint as updated by [Pauliuk 2022](https://freidok.uni-freiburg.de/data/226265)\n",
    "\n",
    "Data link: https://zenodo.org/record/6470355#.YnJ13ZJBzFw\n",
    "\n",
    "Data file is 'mf_lcia_method_ei_3_8_export.zip'"
   ]
  },
  {
   "cell_type": "code",
   "execution_count": 1,
   "id": "2a7d61c6-f8db-4325-aa04-a014bb67320b",
   "metadata": {},
   "outputs": [],
   "source": [
    "import bw2data as bd\n",
    "import bw2io as bi\n",
    "from bw2io.strategies import link_iterable_by_fields\n",
    "from bw2io.importers.json_ld_lcia import JSONLDLCIAImporter\n",
    "import pprint\n",
    "from functools import partial"
   ]
  },
  {
   "cell_type": "code",
   "execution_count": 2,
   "id": "fa4f3df5-d781-44e3-97c5-00ed915def62",
   "metadata": {},
   "outputs": [],
   "source": [
    "bd.projects.set_current(\"Material Footprint\")"
   ]
  },
  {
   "cell_type": "code",
   "execution_count": 3,
   "id": "101c8b4e-408e-4301-beac-5d92d89624aa",
   "metadata": {},
   "outputs": [
    {
     "name": "stdout",
     "output_type": "stream",
     "text": [
      "Biosphere database already present!!! No setup is needed\n"
     ]
    }
   ],
   "source": [
    "bi.bw2setup()"
   ]
  },
  {
   "cell_type": "code",
   "execution_count": 4,
   "id": "ea168a9c-bfb9-4dd6-b89f-c507f77877b7",
   "metadata": {},
   "outputs": [],
   "source": [
    "bio = bd.Database(\"biosphere3\")"
   ]
  },
  {
   "cell_type": "code",
   "execution_count": 5,
   "id": "3758f384-ff73-4c34-b40d-3c7ba5a78d78",
   "metadata": {},
   "outputs": [],
   "source": [
    "if 'ecoinvent' not in bd.databases:\n",
    "    fp = '/Users/cmutel/Documents/LCA/Ecoinvent/3.8/cutoff/datasets'\n",
    "    ei = bi.SingleOutputEcospold2Importer(fp, 'ecoinvent')\n",
    "    ei.apply_strategies()\n",
    "    assert ei.all_linked\n",
    "    ei.write_database()"
   ]
  },
  {
   "cell_type": "code",
   "execution_count": 6,
   "id": "8f1274fb-629b-48e9-b220-98cf91905e81",
   "metadata": {},
   "outputs": [],
   "source": [
    "def set_categories_and_name(data):\n",
    "    for method in data:\n",
    "        for exc in method['exchanges']:\n",
    "            exc['categories'] = tuple(exc['flow']['categoryPath'][1:])\n",
    "            exc['name'] = exc['flow']['name']\n",
    "            \n",
    "    return data"
   ]
  },
  {
   "cell_type": "code",
   "execution_count": 7,
   "id": "5604a733-2346-4678-ba49-4b63c0631dd4",
   "metadata": {},
   "outputs": [],
   "source": [
    "def fix_natural_resource_category(data):\n",
    "    for method in data:\n",
    "        for exc in method['exchanges']:\n",
    "            if exc['categories'][0] == 'Resource':\n",
    "                exc['categories'] = ('natural resource', exc['categories'][1])\n",
    "                \n",
    "    return data"
   ]
  },
  {
   "cell_type": "code",
   "execution_count": 8,
   "id": "7076fe69-b60b-437c-9fcb-bf4278945d26",
   "metadata": {},
   "outputs": [],
   "source": [
    "def add_in_ground_if_helpful(data):\n",
    "    biosphere = {o['name'] \n",
    "                 for o in bd.Database(bd.config.biosphere) \n",
    "                 if o['categories'][0] == 'natural resource'}\n",
    "    \n",
    "    for method in data:\n",
    "        for cf in method['exchanges']:\n",
    "            if not cf.get('input'):  # Skip already linked CFs\n",
    "                if cf['name'] not in biosphere and cf['name'] + \", in ground\" in biosphere:\n",
    "                    cf['name'] += \", in ground\"\n",
    "    \n",
    "    return data"
   ]
  },
  {
   "cell_type": "code",
   "execution_count": 9,
   "id": "50772119-de90-4299-8db4-be7995da4106",
   "metadata": {},
   "outputs": [],
   "source": [
    "def add_in_mixed_ore_if_helpful(data):\n",
    "    biosphere = {o['name'] \n",
    "                 for o in bd.Database(bd.config.biosphere) \n",
    "                 if o['categories'][0] == 'natural resource'}\n",
    "    \n",
    "    for method in data:\n",
    "        for cf in method['exchanges']:\n",
    "            if \"%\" in cf['name'] and not cf.get('input'):  # Skip already linked CFs\n",
    "                revised = cf['name'][:cf['name'].index(\"%\") + 1] + \", in mixed ore, in ground\"\n",
    "                if cf['name'] not in biosphere and revised in biosphere:\n",
    "                    cf['name'] = revised\n",
    "    \n",
    "    return data"
   ]
  },
  {
   "cell_type": "code",
   "execution_count": 10,
   "id": "56c5f65c-834c-4cd5-b123-43e50730778c",
   "metadata": {},
   "outputs": [
    {
     "name": "stdout",
     "output_type": "stream",
     "text": [
      "Applying strategy: json_ld_lcia_add_method_metadata\n",
      "Applying strategy: json_ld_lcia_convert_to_list\n",
      "Applying strategy: json_ld_lcia_set_method_metadata\n",
      "Applying strategy: json_ld_lcia_reformat_cfs_as_exchanges\n",
      "Applying strategy: normalize_units\n",
      "Applying strategy: set_categories_and_name\n",
      "Applying strategy: fix_natural_resource_category\n",
      "Applying strategy: add_in_ground_if_helpful\n",
      "Applying strategy: add_in_mixed_ore_if_helpful\n",
      "Applied 9 strategies in 0.31 seconds\n"
     ]
    }
   ],
   "source": [
    "js = JSONLDLCIAImporter(\"/Users/cmutel/Downloads/mf_lcia_method_ei_3_8_export/\")\n",
    "js.strategies.append(set_categories_and_name)\n",
    "js.strategies.append(fix_natural_resource_category)\n",
    "js.strategies.append(add_in_ground_if_helpful)\n",
    "js.strategies.append(add_in_mixed_ore_if_helpful)\n",
    "js.apply_strategies()"
   ]
  },
  {
   "cell_type": "code",
   "execution_count": 11,
   "id": "ce907310-3e40-447c-8714-ae31c133f04d",
   "metadata": {},
   "outputs": [
    {
     "name": "stdout",
     "output_type": "stream",
     "text": [
      "Applying strategy: link_iterable_by_fields\n"
     ]
    }
   ],
   "source": [
    "js.match_database('biosphere3')"
   ]
  },
  {
   "cell_type": "code",
   "execution_count": 12,
   "id": "8264f905-3e96-4cbf-a28d-870c6203a9b1",
   "metadata": {},
   "outputs": [
    {
     "name": "stdout",
     "output_type": "stream",
     "text": [
      "Applying strategy: link_iterable_by_fields\n"
     ]
    }
   ],
   "source": [
    "js.apply_strategy(partial(link_iterable_by_fields, other=filter(lambda x: x['categories'][0] == 'natural resource', bio), fields=['name', 'unit']))"
   ]
  },
  {
   "cell_type": "code",
   "execution_count": 13,
   "id": "c239dfb2-8eb2-4ba7-b46e-1ef81c7bc02f",
   "metadata": {},
   "outputs": [
    {
     "name": "stdout",
     "output_type": "stream",
     "text": [
      "16 methods\n",
      "1299 cfs\n",
      "6 unlinked cfs\n"
     ]
    },
    {
     "data": {
      "text/plain": [
       "(16, 1299, 6)"
      ]
     },
     "execution_count": 13,
     "metadata": {},
     "output_type": "execute_result"
    }
   ],
   "source": [
    "js.statistics()"
   ]
  },
  {
   "cell_type": "markdown",
   "id": "15c96bf5-b18d-43d3-8e6b-65148326c67b",
   "metadata": {},
   "source": [
    "There is only one remaining unlinked CF, for nickel:"
   ]
  },
  {
   "cell_type": "code",
   "execution_count": 14,
   "id": "007b9db1-e5fd-43de-bbaa-f038b5cdeaf7",
   "metadata": {},
   "outputs": [
    {
     "name": "stdout",
     "output_type": "stream",
     "text": [
      "{'@type': 'ImpactFactor',\n",
      " 'amount': 63,\n",
      " 'categories': ('natural resource', 'in ground'),\n",
      " 'flow': {'@id': '0d7f8b87-12f4-4e83-a5a2-854e2f2b47de',\n",
      "          '@type': 'Flow',\n",
      "          'categoryPath': ['Elementary flows', 'Resource', 'in ground'],\n",
      "          'flowType': 'ELEMENTARY_FLOW',\n",
      "          'name': 'Nickel, Ni 2.3E+0%, Pt 2.5E-4%, Pd 7.3E-4%, Rh 2.0E-5%, Cu '\n",
      "                  '3.2E+0% in ore',\n",
      "          'refUnit': 'kg'},\n",
      " 'flowProperty': {'@id': '93a60a56-a3c8-11da-a746-0800200b9a66',\n",
      "                  '@type': 'FlowProperty',\n",
      "                  'categoryPath': ['Technical flow properties'],\n",
      "                  'name': 'Mass'},\n",
      " 'name': 'Nickel, Ni 2.3E+0%, Pt 2.5E-4%, Pd 7.3E-4%, Rh 2.0E-5%, Cu 3.2E+0% '\n",
      "         'in ore',\n",
      " 'unit': 'kilogram'}\n"
     ]
    }
   ],
   "source": [
    "for obj in js.unlinked:\n",
    "    pprint.pprint(obj)"
   ]
  },
  {
   "cell_type": "markdown",
   "id": "f8451089-96f5-4051-b668-0715cd7c6a71",
   "metadata": {},
   "source": [
    "But this is well covered by other nickel ores:"
   ]
  },
  {
   "cell_type": "code",
   "execution_count": 15,
   "id": "19449a15-5e6d-46bc-aca5-40663c7c058c",
   "metadata": {},
   "outputs": [
    {
     "data": {
      "text/plain": [
       "{'Nickel, 1.13% in sulfide, Ni 0.76% and Cu 0.76% in crude ore, in ground',\n",
       " 'Nickel, 1.98% in silicates, 1.04% in crude ore, in ground',\n",
       " 'Nickel, Ni 2.3E+0%, Pt 2.5E-4%, Pd 7.3E-4%, Rh 2.0E-5%, Cu 3.2E+0% in ore',\n",
       " 'Nickel, Ni 2.5E+0%, in mixed ore, in ground',\n",
       " 'Nickel, in ground'}"
      ]
     },
     "execution_count": 15,
     "metadata": {},
     "output_type": "execute_result"
    }
   ],
   "source": [
    "{cf['name'] for method in js.data for cf in method['exchanges'] if cf['name'].startswith('Nickel')} "
   ]
  },
  {
   "cell_type": "markdown",
   "id": "c29fac53-4016-41c8-a08c-6a90c42bf4ac",
   "metadata": {},
   "source": [
    "And this nickel ore is not in our flow list:"
   ]
  },
  {
   "cell_type": "code",
   "execution_count": 16,
   "id": "bf6f05da-67c2-4257-bdb9-e8cea0450c24",
   "metadata": {},
   "outputs": [
    {
     "data": {
      "text/plain": [
       "{'Nickel',\n",
       " 'Nickel, 1.13% in sulfide, Ni 0.76% and Cu 0.76% in crude ore, in ground',\n",
       " 'Nickel, 1.98% in silicates, 1.04% in crude ore, in ground',\n",
       " 'Nickel, Ni 2.5E+0%, in mixed ore, in ground',\n",
       " 'Nickel, in ground',\n",
       " 'Nickel, ion'}"
      ]
     },
     "execution_count": 16,
     "metadata": {},
     "output_type": "execute_result"
    }
   ],
   "source": [
    "{x['name'] for x in bio if x['name'].startswith('Nickel')}"
   ]
  },
  {
   "cell_type": "code",
   "execution_count": 17,
   "id": "6fb9d422-218b-405c-a14c-fcf56483331b",
   "metadata": {},
   "outputs": [
    {
     "name": "stdout",
     "output_type": "stream",
     "text": [
      "Applying strategy: drop_unlinked_cfs\n",
      "Applied 1 strategies in 0.00 seconds\n"
     ]
    }
   ],
   "source": [
    "js.drop_unlinked(True)"
   ]
  },
  {
   "cell_type": "code",
   "execution_count": 65,
   "id": "5bca922c-8905-4c51-8818-47ba4e2bf55c",
   "metadata": {},
   "outputs": [
    {
     "name": "stdout",
     "output_type": "stream",
     "text": [
      "Wrote 16 LCIA methods with 1293 characterization factors\n"
     ]
    }
   ],
   "source": [
    "js.write_methods()"
   ]
  }
 ],
 "metadata": {
  "kernelspec": {
   "display_name": "Python 3 (ipykernel)",
   "language": "python",
   "name": "python3"
  },
  "language_info": {
   "codemirror_mode": {
    "name": "ipython",
    "version": 3
   },
   "file_extension": ".py",
   "mimetype": "text/x-python",
   "name": "python",
   "nbconvert_exporter": "python",
   "pygments_lexer": "ipython3",
   "version": "3.10.4"
  }
 },
 "nbformat": 4,
 "nbformat_minor": 5
}
