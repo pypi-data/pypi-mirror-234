{
 "cells": [
  {
   "cell_type": "code",
   "execution_count": 1,
   "id": "2511d9f5-eb84-4032-800b-11a22bfb5934",
   "metadata": {
    "tags": []
   },
   "outputs": [
    {
     "name": "stdout",
     "output_type": "stream",
     "text": [
      "Using environment variable BRIGHTWAY2_DIR for data directory:\n",
      "/Users/chrismutel/Desktop/MF\n"
     ]
    }
   ],
   "source": [
    "from faker import Faker\n",
    "from faker.providers import company\n",
    "from uuid import uuid4\n",
    "import bw2data as bd\n",
    "import bw2io as bi\n",
    "import random"
   ]
  },
  {
   "cell_type": "code",
   "execution_count": 2,
   "id": "5bf3ff75-ad19-41ce-8097-c3e6abca0678",
   "metadata": {
    "tags": []
   },
   "outputs": [],
   "source": [
    "fake = Faker()\n",
    "fake.add_provider(company)"
   ]
  },
  {
   "cell_type": "code",
   "execution_count": 3,
   "id": "8c423cc0-5efd-4578-9b91-595d9c015ac7",
   "metadata": {
    "tags": []
   },
   "outputs": [
    {
     "data": {
      "text/plain": [
       "'default'"
      ]
     },
     "execution_count": 3,
     "metadata": {},
     "output_type": "execute_result"
    }
   ],
   "source": [
    "bd.projects.delete_project(\"MF\", True)"
   ]
  },
  {
   "cell_type": "markdown",
   "id": "6f4c9af6-c471-47f5-adb0-39dd4ead4f3f",
   "metadata": {},
   "source": [
    "## Set up project"
   ]
  },
  {
   "cell_type": "code",
   "execution_count": 4,
   "id": "9214bc33-db88-4c25-8375-6fadf374f8c2",
   "metadata": {
    "tags": []
   },
   "outputs": [],
   "source": [
    "bd.projects.set_current(\"MF\")"
   ]
  },
  {
   "cell_type": "code",
   "execution_count": 5,
   "id": "7c0a2539-01b9-4900-9409-b60506eb6603",
   "metadata": {
    "tags": []
   },
   "outputs": [
    {
     "name": "stderr",
     "output_type": "stream",
     "text": [
      "Writing activities to SQLite3 database:\n"
     ]
    },
    {
     "name": "stdout",
     "output_type": "stream",
     "text": [
      "Creating default biosphere\n",
      "\n",
      "Applying strategy: normalize_units\n",
      "Applying strategy: drop_unspecified_subcategories\n",
      "Applying strategy: ensure_categories_are_tuples\n",
      "Applied 3 strategies in 0.00 seconds\n"
     ]
    },
    {
     "name": "stderr",
     "output_type": "stream",
     "text": [
      "0% [##############################] 100% | ETA: 00:00:00\n",
      "Total time elapsed: 00:00:00\n"
     ]
    },
    {
     "name": "stdout",
     "output_type": "stream",
     "text": [
      "Title: Writing activities to SQLite3 database:\n",
      "  Started: 09/01/2023 16:28:50\n",
      "  Finished: 09/01/2023 16:28:50\n",
      "  Total time elapsed: 00:00:00\n",
      "  CPU %: 99.80\n",
      "  Memory %: 1.23\n",
      "Created database: biosphere3\n",
      "Creating default LCIA methods\n",
      "\n",
      "Wrote 762 LCIA methods with 227223 characterization factors\n",
      "Creating core data migrations\n",
      "\n"
     ]
    }
   ],
   "source": [
    "bi.bw2setup()"
   ]
  },
  {
   "cell_type": "code",
   "execution_count": 6,
   "id": "058d3520-cc6e-4f5b-994f-8c2cdeb6dcf5",
   "metadata": {
    "tags": []
   },
   "outputs": [
    {
     "data": {
      "text/plain": [
       "['Barium II' (kilogram, None, ('soil',)),\n",
       " 'Chlormequat chloride' (kilogram, None, ('soil', 'agricultural')),\n",
       " 'Lanthanum-140' (kilo Becquerel, None, ('water', 'ocean')),\n",
       " 'o-Xylene' (kilogram, None, ('water', 'ground-, long-term')),\n",
       " 'Caesium-134' (kilo Becquerel, None, ('water', 'ground-, long-term')),\n",
       " 'VOC, volatile organic compounds' (kilogram, None, ('water',)),\n",
       " 'Lanthanum-140' (kilo Becquerel, None, ('water',)),\n",
       " 'Butyl acetate' (kilogram, None, ('air', 'lower stratosphere + upper troposphere')),\n",
       " 'Tin ion' (kilogram, None, ('air', 'urban air close to ground')),\n",
       " 'Acrylonitrile' (kilogram, None, ('water', 'ocean'))]"
      ]
     },
     "execution_count": 6,
     "metadata": {},
     "output_type": "execute_result"
    }
   ],
   "source": [
    "flows = [obj for obj, _ in zip(bd.Database(\"biosphere3\"), range(10))]\n",
    "flows"
   ]
  },
  {
   "cell_type": "code",
   "execution_count": 7,
   "id": "6d8a8303-2266-44e5-bcef-e709f84ccac8",
   "metadata": {
    "tags": []
   },
   "outputs": [],
   "source": [
    "db = bd.Database(\"multifunctional\")\n",
    "db.register()"
   ]
  },
  {
   "cell_type": "markdown",
   "id": "5b6183c3-3768-4782-a416-6e7e88e58cfb",
   "metadata": {},
   "source": [
    "## Add multifunctional process"
   ]
  },
  {
   "cell_type": "code",
   "execution_count": 8,
   "id": "5512ed56-4557-4d1b-81d7-cd739fc58d24",
   "metadata": {
    "tags": []
   },
   "outputs": [],
   "source": [
    "mf_node = db.new_activity(\n",
    "    code=uuid4().hex,\n",
    "    name=fake.company(),\n",
    "    location='GLO',\n",
    "    unit='kilogram',\n",
    "    type=\"multifunctional\",\n",
    ")\n",
    "mf_node.save()\n",
    "\n",
    "# Add biosphere flows\n",
    "for _ in range(3):\n",
    "    mf_node.new_exchange(\n",
    "        input=random.choice(flows),\n",
    "        amount=random.random(),\n",
    "        type=\"biosphere\",\n",
    "    ).save()\n",
    "\n",
    "# Create products\n",
    "for _ in range(2):\n",
    "    product = db.new_activity(\n",
    "        code=uuid4().hex,\n",
    "        name=fake.name(),\n",
    "        unit='kilogram',\n",
    "        type=\"product\",\n",
    "    )\n",
    "    product.save()\n",
    "\n",
    "    mf_node.new_exchange(\n",
    "        input=product,\n",
    "        amount=random.random() / 2 + .5,\n",
    "        type=\"production\",\n",
    "        price=random.random() * 10,\n",
    "    ).save()"
   ]
  },
  {
   "cell_type": "markdown",
   "id": "f79a9977-6766-4938-b7fc-7885ba322b01",
   "metadata": {},
   "source": [
    "## Create rest of the database"
   ]
  },
  {
   "cell_type": "code",
   "execution_count": 9,
   "id": "c0b0b829-f432-4ea7-94e6-5da22e03894a",
   "metadata": {
    "tags": []
   },
   "outputs": [],
   "source": [
    "inputs = []\n",
    "   \n",
    "# Add monofunctional processes\n",
    "for _ in range(2):\n",
    "    node = db.new_activity(\n",
    "        code=uuid4().hex,\n",
    "        name=fake.company(),\n",
    "        location='GLO',\n",
    "        unit='kilogram',\n",
    "        **{\"reference product\": fake.company_suffix()},\n",
    "    )\n",
    "    node.save()\n",
    "    \n",
    "    for _ in range(3):\n",
    "        node.new_exchange(\n",
    "            input=random.choice(flows),\n",
    "            amount=random.random(),\n",
    "            type=\"biosphere\",\n",
    "        ).save()\n",
    "    inputs.append(node)"
   ]
  },
  {
   "cell_type": "code",
   "execution_count": 10,
   "id": "56d30dc4-5c54-4b91-879c-e6396ddca174",
   "metadata": {
    "tags": []
   },
   "outputs": [],
   "source": [
    "for node in inputs:\n",
    "    mf_node.new_exchange(\n",
    "        input=node,\n",
    "        amount=random.random(),\n",
    "        type=\"technosphere\",\n",
    "    ).save()"
   ]
  },
  {
   "cell_type": "code",
   "execution_count": 11,
   "id": "85f2bd53-7576-4841-bd50-920c77395ee6",
   "metadata": {
    "tags": []
   },
   "outputs": [],
   "source": [
    "def economic_allocation(dataset):\n",
    "    total_value = sum(exc['price'] * exc['amount'] for exc in dataset.production())\n",
    "    \n",
    "    for product_exc in dataset.production():\n",
    "        allocation_fraction = product_exc['price'] * product_exc['amount'] / total_value\n",
    "        \n",
    "        allocated_ds = db.new_activity(**{\n",
    "            'name': dataset['name'],\n",
    "            'code': \"{}_{}\".format(dataset['code'], product_exc.input['code']),\n",
    "            'reference product': product_exc.input['name'],\n",
    "            'unit': product_exc.input['unit'],\n",
    "            'location': dataset['location'],\n",
    "            'type': 'process',\n",
    "            # Add in other desired attributes\n",
    "        })\n",
    "        allocated_ds.save()\n",
    "\n",
    "        for exc in dataset.exchanges():\n",
    "            if exc.input == product_exc.input:\n",
    "                allocated_ds.new_exchange(input=exc.input, amount=exc['amount'], type=\"production\").save()\n",
    "            elif exc['type'] == 'production':\n",
    "                continue\n",
    "            else:\n",
    "                allocated_ds.new_exchange(\n",
    "                    input=exc.input,\n",
    "                    amount=exc['amount'] * allocation_fraction,\n",
    "                    type=exc['type'],\n",
    "                ).save()\n"
   ]
  },
  {
   "cell_type": "code",
   "execution_count": 12,
   "id": "1b24be04-4325-47dc-8bf9-897b1e13f891",
   "metadata": {
    "tags": []
   },
   "outputs": [],
   "source": [
    "economic_allocation(mf_node)"
   ]
  },
  {
   "cell_type": "code",
   "execution_count": 13,
   "id": "3c63ad54-5a41-419d-9e7a-73596d691c26",
   "metadata": {
    "tags": []
   },
   "outputs": [
    {
     "name": "stdout",
     "output_type": "stream",
     "text": [
      "product 'Joseph Stevens' (kilogram, GLO, None) None\n",
      "\n",
      "\n",
      "multifunctional 'Johnson Ltd' (kilogram, GLO, None) None\n",
      "\t biosphere Exchange: 0.9901093347062252 kilogram 'Barium II' (kilogram, None, ('soil',)) to 'Johnson Ltd' (kilogram, GLO, None)>\n",
      "\t biosphere Exchange: 0.021556898058709417 kilo Becquerel 'Lanthanum-140' (kilo Becquerel, None, ('water', 'ocean')) to 'Johnson Ltd' (kilogram, GLO, None)>\n",
      "\t biosphere Exchange: 0.9676784690509767 kilo Becquerel 'Lanthanum-140' (kilo Becquerel, None, ('water',)) to 'Johnson Ltd' (kilogram, GLO, None)>\n",
      "\t production Exchange: 0.8155599087773919 kilogram 'Nathan Mullins' (kilogram, GLO, None) to 'Johnson Ltd' (kilogram, GLO, None)>\n",
      "\t production Exchange: 0.620819254771529 kilogram 'Joseph Stevens' (kilogram, GLO, None) to 'Johnson Ltd' (kilogram, GLO, None)>\n",
      "\t technosphere Exchange: 0.011069283986022138 kilogram 'Sanchez, Wilson and Williams' (kilogram, GLO, None) to 'Johnson Ltd' (kilogram, GLO, None)>\n",
      "\t technosphere Exchange: 0.9466913069171184 kilogram 'Edwards-Bender' (kilogram, GLO, None) to 'Johnson Ltd' (kilogram, GLO, None)>\n",
      "\n",
      "\n",
      "process 'Johnson Ltd' (kilogram, GLO, None) Nathan Mullins\n",
      "\t biosphere Exchange: 0.6475041073333884 kilogram 'Barium II' (kilogram, None, ('soil',)) to 'Johnson Ltd' (kilogram, GLO, None)>\n",
      "\t biosphere Exchange: 0.014097614824046699 kilo Becquerel 'Lanthanum-140' (kilo Becquerel, None, ('water', 'ocean')) to 'Johnson Ltd' (kilogram, GLO, None)>\n",
      "\t biosphere Exchange: 0.6328349418849823 kilo Becquerel 'Lanthanum-140' (kilo Becquerel, None, ('water',)) to 'Johnson Ltd' (kilogram, GLO, None)>\n",
      "\t production Exchange: 0.8155599087773919 kilogram 'Nathan Mullins' (kilogram, GLO, None) to 'Johnson Ltd' (kilogram, GLO, None)>\n",
      "\t technosphere Exchange: 0.007239005425916597 kilogram 'Sanchez, Wilson and Williams' (kilogram, GLO, None) to 'Johnson Ltd' (kilogram, GLO, None)>\n",
      "\t technosphere Exchange: 0.6191099185904823 kilogram 'Edwards-Bender' (kilogram, GLO, None) to 'Johnson Ltd' (kilogram, GLO, None)>\n",
      "\n",
      "\n",
      "process 'Sanchez, Wilson and Williams' (kilogram, GLO, None) Inc\n",
      "\t biosphere Exchange: 0.8768224651242481 kilo Becquerel 'Lanthanum-140' (kilo Becquerel, None, ('water',)) to 'Sanchez, Wilson and Williams' (kilogram, GLO, None)>\n",
      "\t biosphere Exchange: 0.9243384756139182 kilogram 'Barium II' (kilogram, None, ('soil',)) to 'Sanchez, Wilson and Williams' (kilogram, GLO, None)>\n",
      "\t biosphere Exchange: 0.874688509227258 kilogram 'Barium II' (kilogram, None, ('soil',)) to 'Sanchez, Wilson and Williams' (kilogram, GLO, None)>\n",
      "\n",
      "\n",
      "process 'Edwards-Bender' (kilogram, GLO, None) and Sons\n",
      "\t biosphere Exchange: 0.6409849482750116 kilo Becquerel 'Lanthanum-140' (kilo Becquerel, None, ('water', 'ocean')) to 'Edwards-Bender' (kilogram, GLO, None)>\n",
      "\t biosphere Exchange: 0.05511541670337661 kilogram 'Acrylonitrile' (kilogram, None, ('water', 'ocean')) to 'Edwards-Bender' (kilogram, GLO, None)>\n",
      "\t biosphere Exchange: 0.9382453076331061 kilogram 'Acrylonitrile' (kilogram, None, ('water', 'ocean')) to 'Edwards-Bender' (kilogram, GLO, None)>\n",
      "\n",
      "\n",
      "process 'Johnson Ltd' (kilogram, GLO, None) Joseph Stevens\n",
      "\t biosphere Exchange: 0.3426052273728369 kilogram 'Barium II' (kilogram, None, ('soil',)) to 'Johnson Ltd' (kilogram, GLO, None)>\n",
      "\t biosphere Exchange: 0.007459283234662721 kilo Becquerel 'Lanthanum-140' (kilo Becquerel, None, ('water', 'ocean')) to 'Johnson Ltd' (kilogram, GLO, None)>\n",
      "\t biosphere Exchange: 0.3348435271659944 kilo Becquerel 'Lanthanum-140' (kilo Becquerel, None, ('water',)) to 'Johnson Ltd' (kilogram, GLO, None)>\n",
      "\t production Exchange: 0.620819254771529 kilogram 'Joseph Stevens' (kilogram, GLO, None) to 'Johnson Ltd' (kilogram, GLO, None)>\n",
      "\t technosphere Exchange: 0.0038302785601055426 kilogram 'Sanchez, Wilson and Williams' (kilogram, GLO, None) to 'Johnson Ltd' (kilogram, GLO, None)>\n",
      "\t technosphere Exchange: 0.3275813883266363 kilogram 'Edwards-Bender' (kilogram, GLO, None) to 'Johnson Ltd' (kilogram, GLO, None)>\n",
      "\n",
      "\n",
      "product 'Nathan Mullins' (kilogram, GLO, None) None\n",
      "\n",
      "\n"
     ]
    }
   ],
   "source": [
    "for node in db:\n",
    "    print(node.get('type', 'process'), node, node.get(\"reference product\"))\n",
    "    for exc in node.exchanges():\n",
    "        print(\"\\t\", exc['type'], exc)\n",
    "        \n",
    "    print(\"\\n\")"
   ]
  },
  {
   "cell_type": "code",
   "execution_count": null,
   "id": "67c31348-b822-4467-99b9-36b0fa210d01",
   "metadata": {},
   "outputs": [],
   "source": []
  }
 ],
 "metadata": {
  "kernelspec": {
   "display_name": "Python 3 (ipykernel)",
   "language": "python",
   "name": "python3"
  },
  "language_info": {
   "codemirror_mode": {
    "name": "ipython",
    "version": 3
   },
   "file_extension": ".py",
   "mimetype": "text/x-python",
   "name": "python",
   "nbconvert_exporter": "python",
   "pygments_lexer": "ipython3",
   "version": "3.11.3"
  }
 },
 "nbformat": 4,
 "nbformat_minor": 5
}
