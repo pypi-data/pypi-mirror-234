{
 "cells": [
  {
   "cell_type": "markdown",
   "id": "c1d1c81d-0a44-423f-bd01-880f4c5cc522",
   "metadata": {},
   "source": [
    "# Normalization and weighting - discussion with examples\n",
    "\n",
    "*Note*: This notebook uses Brightway 2, not the development version 2.5."
   ]
  },
  {
   "cell_type": "code",
   "execution_count": null,
   "id": "7e63f257-057d-4350-9146-204a727ec760",
   "metadata": {},
   "outputs": [],
   "source": [
    "import bw2data as bd\n",
    "import bw2calc as bc\n",
    "import bw2io as bi"
   ]
  },
  {
   "cell_type": "markdown",
   "id": "87af9f3a-5331-4ab7-895e-8ecc9e4adbfb",
   "metadata": {},
   "source": [
    "## Setup a project with a database"
   ]
  },
  {
   "cell_type": "code",
   "execution_count": 2,
   "id": "4e8c5090-4469-48ef-b88c-e7133bc4ad14",
   "metadata": {},
   "outputs": [],
   "source": [
    "if \"biosphere3\" not in bd.databases:\n",
    "    bi.bw2setup()"
   ]
  },
  {
   "cell_type": "code",
   "execution_count": 3,
   "id": "63b2962d-5bef-4528-b497-1e7bf096689a",
   "metadata": {},
   "outputs": [],
   "source": [
    "FP = \"/Users/chrismutel/Sync/Documents/LCA/Ecoinvent/3.9.1/cutoff/datasets\""
   ]
  },
  {
   "cell_type": "code",
   "execution_count": 4,
   "id": "c109c8d5-baf1-46c2-b2cd-1e808a1db133",
   "metadata": {},
   "outputs": [],
   "source": [
    "if \"ecoinvent-3.9-cutoff\" not in bd.databases:\n",
    "    ei = bi.SingleOutputEcospold2Importer(\n",
    "        FP, \n",
    "        \"ecoinvent-3.9-cutoff\"\n",
    "    )\n",
    "    ei.apply_strategies()\n",
    "    ei.statistics()    \n",
    "    ei.write_database()"
   ]
  },
  {
   "cell_type": "markdown",
   "id": "3a55316c-4786-4c3f-9f7f-b4aef56534f9",
   "metadata": {},
   "source": [
    "## Example of an LCA without weighting or normalization\n",
    "\n",
    "The fundamental equation is:\n",
    "\n",
    "$$h = CB \\cdot diag( A^{-1} f )$$\n",
    "\n",
    "Where:\n",
    "\n",
    "* $h$ is the result matrix (biosphere flows by activities)\n",
    "* $C$ is the characterization matrix (diagonal, biosphere flows by biosphere flows)\n",
    "* $B$ is the biosphere matrix (biosphere flows by activities)\n",
    "* $A$ is the technosphere matrix (products by activities)\n",
    "* $f$ is the demand vector (products)"
   ]
  },
  {
   "cell_type": "code",
   "execution_count": 5,
   "id": "fb3205d5-6040-4bc6-875f-ab682b311212",
   "metadata": {},
   "outputs": [],
   "source": [
    "act = bd.Database(\"ecoinvent-3.9-cutoff\").random()"
   ]
  },
  {
   "cell_type": "code",
   "execution_count": 6,
   "id": "2b163ad2-6455-4257-bd58-30ced286605c",
   "metadata": {},
   "outputs": [],
   "source": [
    "meth = bd.methods.random()\n",
    "\n",
    "# Fix for reproducibility\n",
    "meth = ('ReCiPe 2016 v1.03, endpoint (H) no LT',\n",
    " 'human health no LT',\n",
    " 'water use: human health no LT')"
   ]
  },
  {
   "cell_type": "code",
   "execution_count": 7,
   "id": "95c4b8fb-7dc3-43a0-a13c-931e428cd6fc",
   "metadata": {},
   "outputs": [
    {
     "name": "stderr",
     "output_type": "stream",
     "text": [
      "/Users/chrismutel/miniconda3/envs/bw2_ab/lib/python3.10/site-packages/scikits/umfpack/umfpack.py:736: UmfpackWarning: (almost) singular matrix! (estimated cond. number: 3.58e+13)\n",
      "  warnings.warn(msg, UmfpackWarning)\n"
     ]
    }
   ],
   "source": [
    "lca = bc.LCA(demand={act: 1}, method=meth)\n",
    "lca.lci()\n",
    "lca.lcia()"
   ]
  },
  {
   "cell_type": "markdown",
   "id": "160a41d1-ff83-4a3e-a0dd-e1cd02b76935",
   "metadata": {},
   "source": [
    "The `characterization_matrix` is diagonal, and has dimensions `(biosphere flows, biosphere flows)`. However, Brightway will filter flows to only include those actually used by the activities at hand, i.e. those for which there are entries in the `biosphere_matrix`."
   ]
  },
  {
   "cell_type": "code",
   "execution_count": 8,
   "id": "18349a31-505e-4258-bbf1-97591ddb8739",
   "metadata": {},
   "outputs": [
    {
     "data": {
      "text/plain": [
       "((2420, 2420), 4709)"
      ]
     },
     "execution_count": 8,
     "metadata": {},
     "output_type": "execute_result"
    }
   ],
   "source": [
    "lca.characterization_matrix.shape, len(bd.Database(\"biosphere3\"))"
   ]
  },
  {
   "cell_type": "markdown",
   "id": "68d20c0f-b5dd-4669-8cd7-dafea1c0ba5a",
   "metadata": {},
   "source": [
    "The number of elements in the `characterization_matrix` varies by the impact category (`Method` in Brightway vocabulary). This one happens to only have a few:"
   ]
  },
  {
   "cell_type": "code",
   "execution_count": 9,
   "id": "01466864-9fe3-46d0-a2d9-70cdc4660114",
   "metadata": {},
   "outputs": [
    {
     "data": {
      "text/plain": [
       "<2420x2420 sparse matrix of type '<class 'numpy.float64'>'\n",
       "\twith 4 stored elements in Compressed Sparse Row format>"
      ]
     },
     "execution_count": 9,
     "metadata": {},
     "output_type": "execute_result"
    }
   ],
   "source": [
    "lca.characterization_matrix"
   ]
  },
  {
   "cell_type": "markdown",
   "id": "3124c6ef-b90c-4680-a09e-20da1c73e6b2",
   "metadata": {},
   "source": [
    "Our random impact category is:"
   ]
  },
  {
   "cell_type": "code",
   "execution_count": 10,
   "id": "4a8cb65a-3e54-4899-9602-257b03718adc",
   "metadata": {},
   "outputs": [
    {
     "data": {
      "text/plain": [
       "('ReCiPe 2016 v1.03, endpoint (H) no LT',\n",
       " 'human health no LT',\n",
       " 'water use: human health no LT')"
      ]
     },
     "execution_count": 10,
     "metadata": {},
     "output_type": "execute_result"
    }
   ],
   "source": [
    "meth"
   ]
  },
  {
   "cell_type": "markdown",
   "id": "e04ec23a-8d7b-4a31-a01e-31d53f41717a",
   "metadata": {},
   "source": [
    "The data format for `Method` is `(key of flow - a tuple of database name and code (str), numeric coefficient or uncertainty distribution)`."
   ]
  },
  {
   "cell_type": "code",
   "execution_count": 11,
   "id": "22b71d16-4cfa-4fcb-93e2-7fd8a9a17474",
   "metadata": {},
   "outputs": [
    {
     "name": "stdout",
     "output_type": "stream",
     "text": [
      "'Water' (cubic meter, None, ('air', 'lower stratosphere + upper troposphere')) 2.22e-06\n",
      "'Water' (cubic meter, None, ('air', 'non-urban air or from high stacks')) 2.22e-06\n",
      "'Water' (cubic meter, None, ('air',)) 2.22e-06\n",
      "'Water' (cubic meter, None, ('air', 'urban air close to ground')) 2.22e-06\n"
     ]
    }
   ],
   "source": [
    "for key, value in bd.Method(meth).load():\n",
    "    print(bd.get_activity(key), value)"
   ]
  },
  {
   "cell_type": "markdown",
   "id": "2c2e1336-b735-4871-8664-858b04ee2375",
   "metadata": {},
   "source": [
    "And we see these values in the `characterization_matrix`:"
   ]
  },
  {
   "cell_type": "code",
   "execution_count": 12,
   "id": "a84697ea-6b84-4178-86ed-920034d48319",
   "metadata": {},
   "outputs": [
    {
     "name": "stdout",
     "output_type": "stream",
     "text": [
      "2.2199999420990935e-06 2.22e-06\n",
      "2.2199999420990935e-06 2.22e-06\n",
      "2.2199999420990935e-06 2.22e-06\n",
      "2.2199999420990935e-06 2.22e-06\n"
     ]
    }
   ],
   "source": [
    "for key, value in bd.Method(meth).load():\n",
    "    index = lca.biosphere_dict[key]\n",
    "    print(lca.characterization_matrix[index, index], value)"
   ]
  },
  {
   "cell_type": "markdown",
   "id": "78bed0c6-6e0e-4888-b3e3-827b63e86812",
   "metadata": {},
   "source": [
    "## Specifying a normalization using `Normalization`\n",
    "\n",
    "I am going to make up some values for the normalization factors. Let's say that an average person uses 500 litres of water a day, or around 2.000.000 litres a year. Our unit for water is cubic meters, so this is 2.000 cubic meters per person per year. I can apply this as a total normalization factor in the same data format as the characterization factors:"
   ]
  },
  {
   "cell_type": "code",
   "execution_count": 13,
   "id": "e962440d-0ec1-49c0-85ad-ac645bcdd2de",
   "metadata": {},
   "outputs": [],
   "source": [
    "n_total = bd.Normalization((\"ReCiPe water use\", \"total\"))\n",
    "n_total.write([\n",
    "    (key, 1 / 2000) # Division because we are normalizing to this usage amount\n",
    "    for key, _ in bd.Method(meth).load()\n",
    "])"
   ]
  },
  {
   "cell_type": "code",
   "execution_count": 14,
   "id": "2924dee0-4c1b-401f-b49f-0cd294889efa",
   "metadata": {},
   "outputs": [],
   "source": [
    "lca_n1 = bc.LCA(demand={act: 1}, method=meth, normalization=(\"ReCiPe water use\", \"total\"))\n",
    "lca_n1.lci()\n",
    "lca_n1.lcia()\n",
    "lca_n1.normalize()"
   ]
  },
  {
   "cell_type": "markdown",
   "id": "4e4014d9-7f2a-4053-88b1-dd289ce34ecf",
   "metadata": {},
   "source": [
    "Our fundamental equation is now:\n",
    "\n",
    "$$h = NCB \\cdot diag( A^{-1} f )$$\n",
    "\n",
    "Where:\n",
    "\n",
    "* $N$ is the normalization matrix (diagonal, biosphere flows by biosphere flows)"
   ]
  },
  {
   "cell_type": "code",
   "execution_count": 15,
   "id": "d120708a-a4d9-4291-b7fa-e19e45038bde",
   "metadata": {},
   "outputs": [
    {
     "name": "stdout",
     "output_type": "stream",
     "text": [
      "0.0005000000237487257 0.0005\n",
      "0.0005000000237487257 0.0005\n",
      "0.0005000000237487257 0.0005\n",
      "0.0005000000237487257 0.0005\n"
     ]
    }
   ],
   "source": [
    "for key, value in bd.Normalization((\"ReCiPe water use\", \"total\")).load():\n",
    "    index = lca_n1.biosphere_dict[key]\n",
    "    print(lca_n1.normalization_matrix[index, index], value)"
   ]
  },
  {
   "cell_type": "markdown",
   "id": "2f037bc8-b2f1-402d-94f4-da959e2135fb",
   "metadata": {},
   "source": [
    "The results matrix $h$ is normally `characterized_inventory`, but after weighting it is `normalized_inventory`:"
   ]
  },
  {
   "cell_type": "code",
   "execution_count": 16,
   "id": "50136f67-dcf4-4ddf-ba92-93c582d86af9",
   "metadata": {},
   "outputs": [
    {
     "data": {
      "text/plain": [
       "<2420x21238 sparse matrix of type '<class 'numpy.float64'>'\n",
       "\twith 4411 stored elements in Compressed Sparse Row format>"
      ]
     },
     "execution_count": 16,
     "metadata": {},
     "output_type": "execute_result"
    }
   ],
   "source": [
    "lca_n1.normalized_inventory"
   ]
  },
  {
   "cell_type": "markdown",
   "id": "4e332674-fc7d-4a51-b12b-54bcbab1d5f7",
   "metadata": {},
   "source": [
    "`characterized_inventory` is still available, this is the values before normalization:"
   ]
  },
  {
   "cell_type": "code",
   "execution_count": 17,
   "id": "15a77c14-7462-4bbc-94e8-49119d3d0a26",
   "metadata": {},
   "outputs": [
    {
     "data": {
      "text/plain": [
       "<2420x21238 sparse matrix of type '<class 'numpy.float64'>'\n",
       "\twith 4411 stored elements in Compressed Sparse Row format>"
      ]
     },
     "execution_count": 17,
     "metadata": {},
     "output_type": "execute_result"
    }
   ],
   "source": [
    "lca_n1.characterized_inventory"
   ]
  },
  {
   "cell_type": "markdown",
   "id": "72fe9317-d2ac-4b2e-8467-6bdb25d70162",
   "metadata": {},
   "source": [
    "We can also have *flow-specific* normalization factors:"
   ]
  },
  {
   "cell_type": "code",
   "execution_count": 18,
   "id": "1fb3dd92-510c-44f8-9652-66cfd398c896",
   "metadata": {},
   "outputs": [],
   "source": [
    "N_FACTORS = {\n",
    "    ('air', 'lower stratosphere + upper troposphere'): 0.05 / 2000,\n",
    "    ('air', 'non-urban air or from high stacks'): 0.2 / 2000,\n",
    "    ('air',): 0.5 / 2000,\n",
    "    ('air', 'urban air close to ground'): 0.25 / 2000,\n",
    "}    \n",
    "\n",
    "n_specific = bd.Normalization((\"ReCiPe water use\", \"flow-specific\"))\n",
    "n_specific.write([\n",
    "    (key, N_FACTORS[bd.get_activity(key)['categories']])\n",
    "    for key, _ in bd.Method(meth).load()\n",
    "])"
   ]
  },
  {
   "cell_type": "code",
   "execution_count": 19,
   "id": "d637e13d-1561-4e39-b9b2-61172c48e811",
   "metadata": {},
   "outputs": [],
   "source": [
    "lca_n2 = bc.LCA(demand={act: 1}, method=meth, normalization=(\"ReCiPe water use\", \"flow-specific\"))\n",
    "lca_n2.lci()\n",
    "lca_n2.lcia()\n",
    "lca_n2.normalize()"
   ]
  },
  {
   "cell_type": "code",
   "execution_count": 20,
   "id": "1ccb3473-45c6-42f4-81e6-18135583a516",
   "metadata": {},
   "outputs": [
    {
     "name": "stdout",
     "output_type": "stream",
     "text": [
      "'Water' (cubic meter, None, ('air', 'lower stratosphere + upper troposphere')) 2.499999936844688e-05 2.5e-05\n",
      "'Water' (cubic meter, None, ('air', 'non-urban air or from high stacks')) 9.999999747378752e-05 0.0001\n",
      "'Water' (cubic meter, None, ('air',)) 0.0002500000118743628 0.00025\n",
      "'Water' (cubic meter, None, ('air', 'urban air close to ground')) 0.0001250000059371814 0.000125\n"
     ]
    }
   ],
   "source": [
    "for key, value in bd.Normalization((\"ReCiPe water use\", \"flow-specific\")).load():\n",
    "    index = lca_n2.biosphere_dict[key]\n",
    "    flow = bd.get_activity(key)\n",
    "    print(flow, lca_n2.normalization_matrix[index, index], value)"
   ]
  },
  {
   "cell_type": "markdown",
   "id": "d7d70808-cb79-41fd-bb23-baf662e4b1ef",
   "metadata": {},
   "source": [
    "## Pre-calculating normalized characterization factors\n",
    "\n",
    "Instead of specifying normalization separately, I think it can be easier to pre-multiply the characterization factors by the normalization factors. In cases where both characterization and normalization are static (i.e. don't have uncertainty), this doesn't really lose any information. Power users who have uncertainty distributions or other estimates of uncertainty, and want to e.g. perform comparative sensitivity analysis on weighting, normalization, and characterization, should stick with the more complete but more complicated formulation."
   ]
  },
  {
   "cell_type": "code",
   "execution_count": 21,
   "id": "e6c7560e-32f9-4929-a05e-c6b89d8196a5",
   "metadata": {},
   "outputs": [
    {
     "data": {
      "text/plain": [
       "('ReCiPe 2016 v1.03, endpoint (H) no LT',\n",
       " 'human health no LT',\n",
       " 'water use: human health no LT',\n",
       " 'normalized')"
      ]
     },
     "execution_count": 21,
     "metadata": {},
     "output_type": "execute_result"
    }
   ],
   "source": [
    "method_normalized_name = meth + (\"normalized\",)\n",
    "method_normalized_name"
   ]
  },
  {
   "cell_type": "code",
   "execution_count": 22,
   "id": "e7938f69-6ccc-48a8-b31c-67d290908e5d",
   "metadata": {},
   "outputs": [],
   "source": [
    "N_FACTORS = {\n",
    "    ('air', 'lower stratosphere + upper troposphere'): 0.05 / 2000,\n",
    "    ('air', 'non-urban air or from high stacks'): 0.2 / 2000,\n",
    "    ('air',): 0.5 / 2000,\n",
    "    ('air', 'urban air close to ground'): 0.25 / 2000,\n",
    "}    \n",
    "\n",
    "method_normalized = bd.Method(method_normalized_name)\n",
    "method_normalized.register()\n",
    "method_normalized.write([\n",
    "    (\n",
    "        key, \n",
    "        cf * N_FACTORS[bd.get_activity(key)['categories']]\n",
    "    )\n",
    "    for key, cf in bd.Method(meth).load()\n",
    "])"
   ]
  },
  {
   "cell_type": "markdown",
   "id": "bd884cbb-7395-445d-932d-13905ede325b",
   "metadata": {},
   "source": [
    "We don't need to give a `normalization` or call `normalize`:"
   ]
  },
  {
   "cell_type": "code",
   "execution_count": 23,
   "id": "f97bf790-82f6-45c5-bbfc-4feb88eba43c",
   "metadata": {},
   "outputs": [],
   "source": [
    "lca_n3 = bc.LCA(demand={act: 1}, method=method_normalized_name)\n",
    "lca_n3.lci()\n",
    "lca_n3.lcia()"
   ]
  },
  {
   "cell_type": "markdown",
   "id": "ceba9f27-38b5-468a-952d-1a388bb44831",
   "metadata": {},
   "source": [
    "The result is the same, minus floating point error"
   ]
  },
  {
   "cell_type": "code",
   "execution_count": 29,
   "id": "9f5bfd92-91c3-454c-b1e7-dc50c1db0646",
   "metadata": {},
   "outputs": [
    {
     "data": {
      "text/plain": [
       "(3.921549984454231e-15, 3.921550135307141e-15)"
      ]
     },
     "execution_count": 29,
     "metadata": {},
     "output_type": "execute_result"
    }
   ],
   "source": [
    "lca_n3.score, lca_n2.normalized_inventory.sum()"
   ]
  },
  {
   "cell_type": "markdown",
   "id": "9f1ddd18-eace-4fee-b97b-501865e851d3",
   "metadata": {},
   "source": [
    "This approach makes data management simpler with few to any practical tradeoffs.\n",
    "\n",
    "# Weighting\n",
    "\n",
    "Our fundamental equation is now:\n",
    "\n",
    "$$h = w_{x}NCB \\cdot diag( A^{-1} f )$$\n",
    "\n",
    "Where:\n",
    "\n",
    "* $w_{x}$ is the weighting coefficient for the impact category given in $C$\n",
    "\n",
    "*Note:* In Brightway, weighting can be done [with *or without* normalization](https://github.com/brightway-lca/brightway2-calc/blob/bw2legacy/bw2calc/lca.py#L408).\n",
    "\n",
    "The data format in Brightway 2 is a **one-element list**. In the development version, this will change, but the exact format is not yet decided.\n",
    "\n",
    "Brightway **does not create a weighting matrix** in version 2; it does in the development version, to simplify everything to a single code path and expose the power available in datapackages."
   ]
  },
  {
   "cell_type": "code",
   "execution_count": 34,
   "id": "b5c92117-5883-4a3c-8b6d-33c2a54c85d9",
   "metadata": {},
   "outputs": [],
   "source": [
    "weight = bd.Weighting((\"ReCiPe\", \"water use bad\"))\n",
    "weight.register()\n",
    "weight.write([1_000_000])"
   ]
  },
  {
   "cell_type": "code",
   "execution_count": 39,
   "id": "63364c69-3d76-42b2-a9ea-2549abc61f3d",
   "metadata": {},
   "outputs": [
    {
     "name": "stderr",
     "output_type": "stream",
     "text": [
      "/Users/chrismutel/miniconda3/envs/bw2_ab/lib/python3.10/site-packages/scikits/umfpack/umfpack.py:736: UmfpackWarning: (almost) singular matrix! (estimated cond. number: 3.58e+13)\n",
      "  warnings.warn(msg, UmfpackWarning)\n"
     ]
    }
   ],
   "source": [
    "lca_n4 = bc.LCA(demand={act: 1}, method=method_normalized_name, weighting=(\"ReCiPe\", \"water use bad\"))\n",
    "lca_n4.lci()\n",
    "lca_n4.lcia()"
   ]
  },
  {
   "cell_type": "code",
   "execution_count": 40,
   "id": "aef159ad-8c16-4484-aceb-4dde60b44744",
   "metadata": {},
   "outputs": [
    {
     "data": {
      "text/plain": [
       "3.921549984454231e-15"
      ]
     },
     "execution_count": 40,
     "metadata": {},
     "output_type": "execute_result"
    }
   ],
   "source": [
    "lca_n4.characterized_inventory.sum()"
   ]
  },
  {
   "cell_type": "code",
   "execution_count": 42,
   "id": "97b4162b-0ef9-4f2d-8d22-dd6ce2ac64c8",
   "metadata": {},
   "outputs": [],
   "source": [
    "lca_n4.weight()\n",
    "lca_n4.weighting_calculation()  # This is a bug, should be done by `weight`"
   ]
  },
  {
   "cell_type": "markdown",
   "id": "8910a4b4-4253-41a7-ac2b-3510feb23462",
   "metadata": {},
   "source": [
    "New score is one million times the previous value, as this was our weight"
   ]
  },
  {
   "cell_type": "code",
   "execution_count": 43,
   "id": "1add19e6-9ab9-44b7-92d2-343ebfe45950",
   "metadata": {},
   "outputs": [
    {
     "data": {
      "text/plain": [
       "3.921549984454204e-09"
      ]
     },
     "execution_count": 43,
     "metadata": {},
     "output_type": "execute_result"
    }
   ],
   "source": [
    "lca_n4.weighted_inventory.sum()"
   ]
  },
  {
   "cell_type": "markdown",
   "id": "bae16472-d575-46c6-b5ce-772925f554fd",
   "metadata": {},
   "source": [
    "## Pre-calculating weighted and normalized factors\n",
    "\n",
    "We can do the same thing here, for the same reasons:"
   ]
  },
  {
   "cell_type": "code",
   "execution_count": 44,
   "id": "5951b03d-5b89-4eb3-a80e-70f05f4cfae1",
   "metadata": {},
   "outputs": [
    {
     "data": {
      "text/plain": [
       "('ReCiPe 2016 v1.03, endpoint (H) no LT',\n",
       " 'human health no LT',\n",
       " 'water use: human health no LT',\n",
       " 'normalized & weighted')"
      ]
     },
     "execution_count": 44,
     "metadata": {},
     "output_type": "execute_result"
    }
   ],
   "source": [
    "method_nw_name = meth + (\"normalized & weighted\",)\n",
    "method_nw_name"
   ]
  },
  {
   "cell_type": "code",
   "execution_count": 45,
   "id": "8904e2fd-4611-4e66-b115-04b4d3a087df",
   "metadata": {},
   "outputs": [],
   "source": [
    "N_FACTORS = {\n",
    "    ('air', 'lower stratosphere + upper troposphere'): 0.05 / 2000,\n",
    "    ('air', 'non-urban air or from high stacks'): 0.2 / 2000,\n",
    "    ('air',): 0.5 / 2000,\n",
    "    ('air', 'urban air close to ground'): 0.25 / 2000,\n",
    "}    \n",
    "WEIGHTING_FACTOR = 1_000_000\n",
    "\n",
    "method_nw = bd.Method(method_nw_name)\n",
    "method_nw.register()\n",
    "method_nw.write([\n",
    "    (\n",
    "        key, \n",
    "        cf * N_FACTORS[bd.get_activity(key)['categories']] * WEIGHTING_FACTOR\n",
    "    )\n",
    "    for key, cf in bd.Method(meth).load()\n",
    "])"
   ]
  },
  {
   "cell_type": "code",
   "execution_count": 46,
   "id": "22e5639d-ede3-4d83-b201-052c5b346e38",
   "metadata": {},
   "outputs": [
    {
     "name": "stderr",
     "output_type": "stream",
     "text": [
      "/Users/chrismutel/miniconda3/envs/bw2_ab/lib/python3.10/site-packages/scikits/umfpack/umfpack.py:736: UmfpackWarning: (almost) singular matrix! (estimated cond. number: 3.58e+13)\n",
      "  warnings.warn(msg, UmfpackWarning)\n"
     ]
    }
   ],
   "source": [
    "lca_n5 = bc.LCA(demand={act: 1}, method=method_nw_name)\n",
    "lca_n5.lci()\n",
    "lca_n5.lcia()"
   ]
  },
  {
   "cell_type": "code",
   "execution_count": 48,
   "id": "405ab9b9-f794-49fd-bd18-9ecc256b3005",
   "metadata": {},
   "outputs": [
    {
     "data": {
      "text/plain": [
       "(3.921549984454204e-09, 3.921549889138143e-09)"
      ]
     },
     "execution_count": 48,
     "metadata": {},
     "output_type": "execute_result"
    }
   ],
   "source": [
    "lca_n4.weighted_inventory.sum(), lca_n5.score"
   ]
  }
 ],
 "metadata": {
  "kernelspec": {
   "display_name": "Python 3 (ipykernel)",
   "language": "python",
   "name": "python3"
  },
  "language_info": {
   "codemirror_mode": {
    "name": "ipython",
    "version": 3
   },
   "file_extension": ".py",
   "mimetype": "text/x-python",
   "name": "python",
   "nbconvert_exporter": "python",
   "pygments_lexer": "ipython3",
   "version": "3.10.6"
  }
 },
 "nbformat": 4,
 "nbformat_minor": 5
}
