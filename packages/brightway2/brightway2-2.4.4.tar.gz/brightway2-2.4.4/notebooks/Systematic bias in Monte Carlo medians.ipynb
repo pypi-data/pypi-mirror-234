{
 "cells": [
  {
   "cell_type": "markdown",
   "id": "1011e5f0-2409-432d-8bdc-865b6b09166d",
   "metadata": {},
   "source": [
    "# Systematic bias in Monte Carlo median scores\n",
    "\n",
    "Based on [this SO question](https://stackoverflow.com/questions/72660400/variation-between-montecarlo-mean-score-and-static-lca-score/72662031?noredirect=1#comment128732500_72662031). Reproduce questions results:"
   ]
  },
  {
   "cell_type": "code",
   "execution_count": 6,
   "id": "8054a49f-b8a4-49f2-945e-bc5a0fcc0940",
   "metadata": {},
   "outputs": [],
   "source": [
    "import bw2calc as bc\n",
    "import bw2data as bd\n",
    "import bw2analyzer as ba\n",
    "import bw2io as bi\n",
    "import seaborn as sb\n",
    "import pandas as pd\n",
    "import numpy as np\n",
    "from matplotlib import pyplot as plt"
   ]
  },
  {
   "cell_type": "code",
   "execution_count": 5,
   "id": "415c539e-96c1-403f-868c-0027c58499a6",
   "metadata": {},
   "outputs": [],
   "source": [
    "bd.projects.set_current(\"ei 3.8 cutoff\")"
   ]
  },
  {
   "cell_type": "code",
   "execution_count": 4,
   "id": "570792c3-2b88-46e7-b4fa-db2ded07d2be",
   "metadata": {},
   "outputs": [],
   "source": [
    "bd.projects.set_current('something')  # Some project with ecoinvent 3.8, any system model"
   ]
  },
  {
   "cell_type": "code",
   "execution_count": 11,
   "id": "bc6d0f5c-2f49-4551-8495-d8a0ddba6f7c",
   "metadata": {},
   "outputs": [],
   "source": [
    "ei = bd.Database('ecoinvent 3.8 cutoff')"
   ]
  },
  {
   "cell_type": "code",
   "execution_count": 12,
   "id": "d16f0d13-eee7-4b05-8d6e-645694612433",
   "metadata": {},
   "outputs": [],
   "source": [
    "cc = ('EF v3.0 no LT', 'climate change no LT', 'global warming potential (GWP100) no LT')"
   ]
  },
  {
   "cell_type": "code",
   "execution_count": 13,
   "id": "9e12e7ec-c3a8-47ba-a63e-fedc70a08bee",
   "metadata": {},
   "outputs": [],
   "source": [
    "act = ei.get(name='battery cell production, Li-ion, NMC111', location='CN')"
   ]
  },
  {
   "cell_type": "code",
   "execution_count": 14,
   "id": "220220de-76c2-4bdf-beea-387f0ad082f8",
   "metadata": {},
   "outputs": [
    {
     "data": {
      "text/plain": [
       "18.151654396465364"
      ]
     },
     "execution_count": 14,
     "metadata": {},
     "output_type": "execute_result"
    }
   ],
   "source": [
    "static = bc.LCA({act: 1}, cc)\n",
    "static.lci()\n",
    "static.lcia()\n",
    "static.score"
   ]
  },
  {
   "cell_type": "code",
   "execution_count": 15,
   "id": "bfc3e048-89a4-4ac4-bc47-2c7b976ffb1c",
   "metadata": {},
   "outputs": [],
   "source": [
    "mc = bc.LCA({act: 1}, cc, use_distributions=True)\n",
    "mc.lci()\n",
    "mc.lcia()"
   ]
  },
  {
   "cell_type": "code",
   "execution_count": 16,
   "id": "c068ee94-cfc2-47bf-8106-41e66fe66769",
   "metadata": {},
   "outputs": [],
   "source": [
    "results = np.array([mc.score for _ in zip(mc, range(50))])"
   ]
  },
  {
   "cell_type": "code",
   "execution_count": 17,
   "id": "8295a572-66fa-459f-ab1c-878595d9d83b",
   "metadata": {},
   "outputs": [
    {
     "data": {
      "text/plain": [
       "(20.32950375709647, 20.14768917852366)"
      ]
     },
     "execution_count": 17,
     "metadata": {},
     "output_type": "execute_result"
    }
   ],
   "source": [
    "np.mean(results), np.median(results)"
   ]
  },
  {
   "cell_type": "markdown",
   "id": "b7df03fc-c91d-4762-9a0c-19ec27f030a4",
   "metadata": {},
   "source": [
    "## Make sure our theory on multiplying lognormals is correct\n",
    "\n",
    "Should be ~1"
   ]
  },
  {
   "cell_type": "code",
   "execution_count": 18,
   "id": "808c63cd-8233-4ddc-8e41-7726e4517c86",
   "metadata": {},
   "outputs": [
    {
     "data": {
      "text/plain": [
       "0.957094247981806"
      ]
     },
     "execution_count": 18,
     "metadata": {},
     "output_type": "execute_result"
    }
   ],
   "source": [
    "np.median(np.random.lognormal(size=1000) * np.random.lognormal(size=1000))"
   ]
  },
  {
   "cell_type": "markdown",
   "id": "75e695af-3b46-4ad7-8120-f902158615a3",
   "metadata": {},
   "source": [
    "## Try building a much smaller system and check behaviour"
   ]
  },
  {
   "cell_type": "code",
   "execution_count": 19,
   "id": "ae343a7e-edff-428f-bb96-8d6c47e65899",
   "metadata": {},
   "outputs": [],
   "source": [
    "def build_matrix(a, b, c, d):\n",
    "    return np.matrix([[a, b], [c, d]])\n",
    "\n",
    "def build_random_matrix(sigma=0.1):\n",
    "    b = -1 * np.random.lognormal(mean=np.log(0.1), sigma=sigma)    \n",
    "    c = -1 * np.random.lognormal(mean=np.log(0.5), sigma=sigma)\n",
    "    return build_matrix(1, b, c, 1)\n",
    "\n",
    "def solve_uncertain(sigma=0.1, verbose=False):\n",
    "    matrix = build_random_matrix(sigma=sigma)\n",
    "    if verbose:\n",
    "        print(matrix)\n",
    "    supply = np.linalg.solve(matrix, np.array([1, 0]))\n",
    "    if verbose:\n",
    "        print(supply)\n",
    "    biosphere = build_matrix(0, np.random.lognormal(mean=np.log(5), sigma=sigma), 0, 0)\n",
    "    if verbose:\n",
    "        print(biosphere)\n",
    "    return (biosphere @ supply).sum()\n",
    "\n",
    "def solve_certain():\n",
    "    supply = np.linalg.solve(build_matrix(1, -0.1, -0.5, 1), np.array([1, 0]))\n",
    "    biosphere = build_matrix(0, 5, 0, 0)\n",
    "    return (biosphere @ supply).sum()"
   ]
  },
  {
   "cell_type": "code",
   "execution_count": 20,
   "id": "38bc8231-7b32-4dc8-b67f-2a469cb188b4",
   "metadata": {},
   "outputs": [
    {
     "data": {
      "text/plain": [
       "2.631578947368421"
      ]
     },
     "execution_count": 20,
     "metadata": {},
     "output_type": "execute_result"
    }
   ],
   "source": [
    "solve_certain()"
   ]
  },
  {
   "cell_type": "markdown",
   "id": "1fa00087-5c25-40fd-a53f-91f2f699cbbd",
   "metadata": {},
   "source": [
    "In a 2x2 matrix with cycles we don't see the same behaviour"
   ]
  },
  {
   "cell_type": "code",
   "execution_count": 21,
   "id": "3e0c646e-4cc6-442c-b467-6c9a9e519152",
   "metadata": {},
   "outputs": [
    {
     "data": {
      "text/plain": [
       "2.62910002139335"
      ]
     },
     "execution_count": 21,
     "metadata": {},
     "output_type": "execute_result"
    }
   ],
   "source": [
    "np.median([solve_uncertain(sigma=0.1) for _ in range(10000)])"
   ]
  },
  {
   "cell_type": "markdown",
   "id": "1e5b6698-32a8-443d-84d7-5227639fb35a",
   "metadata": {},
   "source": [
    "## Do large $\\sigma$ values matter?"
   ]
  },
  {
   "cell_type": "code",
   "execution_count": 22,
   "id": "a6b3db0e-ed61-4648-9f6a-1f4f16e69ee3",
   "metadata": {},
   "outputs": [],
   "source": [
    "xs = np.linspace(0.001, 0.75, 8)"
   ]
  },
  {
   "cell_type": "code",
   "execution_count": 23,
   "id": "2f543e96-9f72-498c-9d41-4213cbe82049",
   "metadata": {},
   "outputs": [],
   "source": [
    "ys = [np.median([solve_uncertain(sigma=sigma) for _ in range(10000)]) for sigma in xs]"
   ]
  },
  {
   "cell_type": "code",
   "execution_count": 25,
   "id": "e2595ac1-96d4-4cc8-80c1-7b8bc410ec49",
   "metadata": {},
   "outputs": [
    {
     "data": {
      "text/plain": [
       "Text(0.5, 0, 'Sigma')"
      ]
     },
     "execution_count": 25,
     "metadata": {},
     "output_type": "execute_result"
    },
    {
     "data": {
      "image/png": "[encoded data removed]",
      "text/plain": [
       "<Figure size 432x288 with 1 Axes>"
      ]
     },
     "metadata": {
      "needs_background": "light"
     },
     "output_type": "display_data"
    }
   ],
   "source": [
    "plt.scatter(xs, ys)\n",
    "plt.ylabel(\"Median score\")\n",
    "plt.xlabel(\"Sigma\")"
   ]
  },
  {
   "cell_type": "markdown",
   "id": "45c82067-73ee-48c6-bbcf-a3f877e797fa",
   "metadata": {},
   "source": [
    "Doesn't seem like it, these differences are too small compared to what we see with ecoinvent."
   ]
  },
  {
   "cell_type": "markdown",
   "id": "9518bdbc-0cab-40d3-826e-c3b30bff3292",
   "metadata": {},
   "source": [
    "## How big is the bias?"
   ]
  },
  {
   "cell_type": "code",
   "execution_count": 26,
   "id": "8e1a274f-8d13-4119-a8b0-b3558e897a49",
   "metadata": {},
   "outputs": [
    {
     "data": {
      "text/plain": [
       "Text(0.5, 6.79999999999999, 'Score')"
      ]
     },
     "execution_count": 26,
     "metadata": {},
     "output_type": "execute_result"
    },
    {
     "data": {
      "image/png": "[encoded data removed]",
      "text/plain": [
       "<Figure size 360x360 with 1 Axes>"
      ]
     },
     "metadata": {
      "needs_background": "light"
     },
     "output_type": "display_data"
    }
   ],
   "source": [
    "sb.displot(results)\n",
    "plt.xlabel(\"Score\")"
   ]
  },
  {
   "cell_type": "markdown",
   "id": "fd717756-8e09-48a7-9b4c-46e41b9a939d",
   "metadata": {},
   "source": [
    "Actually rather substantial..."
   ]
  },
  {
   "cell_type": "markdown",
   "id": "2c8d4634-a57f-4c4a-a9d8-e159e430bbcd",
   "metadata": {},
   "source": [
    "## What about the other geometric and Gaussian distributions?\n",
    "\n",
    "Try to remove them."
   ]
  },
  {
   "cell_type": "code",
   "execution_count": 27,
   "id": "347ffacd-e6fa-4dce-9a7c-09bfea8ffc8a",
   "metadata": {},
   "outputs": [],
   "source": [
    "mc = bc.LCA({act: 1}, cc, use_distributions=True)\n",
    "mc.lci()\n",
    "mc.lcia()"
   ]
  },
  {
   "cell_type": "code",
   "execution_count": 34,
   "id": "e2d9bd60-72f0-4359-89f8-8b67136a9a1f",
   "metadata": {},
   "outputs": [],
   "source": [
    "for grp_list in mc.technosphere_mm.packages.values():\n",
    "    for group in grp_list:\n",
    "        break"
   ]
  },
  {
   "cell_type": "code",
   "execution_count": 38,
   "id": "d0a175cf-7a31-446d-8cb1-4d94a8ea2ce6",
   "metadata": {},
   "outputs": [
    {
     "data": {
      "text/plain": [
       "array([    0,     0,     0, ..., 19562, 19563, 19564], dtype=int32)"
      ]
     },
     "execution_count": 38,
     "metadata": {},
     "output_type": "execute_result"
    }
   ],
   "source": [
    "group.row_masked"
   ]
  },
  {
   "cell_type": "code",
   "execution_count": 44,
   "id": "1fc95d04-1612-40bf-aff1-b2a8404e9b44",
   "metadata": {},
   "outputs": [
    {
     "data": {
      "text/plain": [
       "((3, 0.06351684, 0.21731009, nan, nan, nan, False), 241314)"
      ]
     },
     "execution_count": 44,
     "metadata": {},
     "output_type": "execute_result"
    }
   ],
   "source": [
    "params = group.rng.params\n",
    "row = params[params['uncertainty_type'] == 3][0]\n",
    "index = np.arange(len(params))[params['uncertainty_type'] == 3][0]\n",
    "row, index"
   ]
  },
  {
   "cell_type": "code",
   "execution_count": 47,
   "id": "a8d017f8-0f91-4610-8397-23a4408d4d57",
   "metadata": {},
   "outputs": [
    {
     "data": {
      "text/plain": [
       "(19537, 3505)"
      ]
     },
     "execution_count": 47,
     "metadata": {},
     "output_type": "execute_result"
    }
   ],
   "source": [
    "group.row_masked[index], group.col_masked[index]"
   ]
  },
  {
   "cell_type": "code",
   "execution_count": 45,
   "id": "5d46868b-236a-42f7-adf1-13906608c2e5",
   "metadata": {},
   "outputs": [
    {
     "data": {
      "text/plain": [
       "-908328.6636194581"
      ]
     },
     "execution_count": 45,
     "metadata": {},
     "output_type": "execute_result"
    }
   ],
   "source": [
    "mc.technosphere_matrix[group.row_masked[index], group.col_masked[index]]"
   ]
  },
  {
   "cell_type": "code",
   "execution_count": 46,
   "id": "5635ac21-a997-4296-a2f0-4a3bbcc2ff79",
   "metadata": {},
   "outputs": [
    {
     "data": {
      "text/plain": [
       "0"
      ]
     },
     "execution_count": 46,
     "metadata": {},
     "output_type": "execute_result"
    }
   ],
   "source": [
    "(mc.technosphere_matrix == 0.06351684).sum()"
   ]
  },
  {
   "cell_type": "code",
   "execution_count": 43,
   "id": "0e0224a7-142a-41ea-923a-93bba47688eb",
   "metadata": {},
   "outputs": [],
   "source": [
    "for grp_list in mc.technosphere_mm.packages.values():\n",
    "    for group in grp_list:\n",
    "        try:\n",
    "            group.rng.params[group.rng.params['uncertainty_type'] > 2]['uncertainty_type'] = 0\n",
    "        except AttributeError:\n",
    "            pass"
   ]
  },
  {
   "cell_type": "code",
   "execution_count": 29,
   "id": "b9fb681d-c6ba-475f-a103-2513629f7ad0",
   "metadata": {},
   "outputs": [],
   "source": [
    "for grp_list in mc.biosphere_mm.packages.values():\n",
    "    for group in grp_list:\n",
    "        try:\n",
    "            group.rng.params[group.rng.params['uncertainty_type'] > 2]['uncertainty_type'] = 0\n",
    "        except AttributeError:\n",
    "            pass"
   ]
  },
  {
   "cell_type": "code",
   "execution_count": 30,
   "id": "b972a52c-0edc-40f9-a11d-52125b400673",
   "metadata": {},
   "outputs": [],
   "source": [
    "results = np.array([mc.score for _ in zip(mc, range(50))])"
   ]
  },
  {
   "cell_type": "markdown",
   "id": "ec202e37-990b-4403-a8fb-eebea0f48472",
   "metadata": {},
   "source": [
    "Doesn't seem to help."
   ]
  },
  {
   "cell_type": "code",
   "execution_count": 31,
   "id": "95748f7b-bcc6-4bd9-90b2-b15c566b390c",
   "metadata": {},
   "outputs": [
    {
     "data": {
      "text/plain": [
       "(20.773384001409678, 20.89303884742982)"
      ]
     },
     "execution_count": 31,
     "metadata": {},
     "output_type": "execute_result"
    }
   ],
   "source": [
    "np.mean(results), np.median(results)"
   ]
  },
  {
   "cell_type": "markdown",
   "id": "f4fec012-946a-4ad6-abc3-9dd37602e02e",
   "metadata": {},
   "source": [
    "## Can we find out where the numbers are larger?"
   ]
  },
  {
   "cell_type": "code",
   "execution_count": 32,
   "id": "2500400b-0044-4279-a23d-a37f5da192a2",
   "metadata": {},
   "outputs": [
    {
     "name": "stdout",
     "output_type": "stream",
     "text": [
      "Fraction of score | Absolute score | Amount | Activity\n",
      "0001 | 20.58 |     1 | 'battery cell production, Li-ion, NMC111' (kilogram, CN, None)\n",
      "  0.647 | 13.33 | 0.453 | 'market for cathode, NMC111, for Li-ion battery' (kilogram, CN, None)\n",
      "    0.647 | 13.32 | 0.453 | 'cathode production, NMC111, for Li-ion battery' (kilogram, CN, None)\n",
      "      0.0245 | 0.5035 | 11.72 | 'market for heat, district or industrial, natural gas' (megajoule, RoW\n",
      "        0.0111 | 0.2294 | 4.246 | 'heat and power co-generation, natural gas, conventional power plant, \n",
      "      0.611 | 12.57 | 0.4304 | 'market for NMC111 oxide' (kilogram, CN, None)\n",
      "        0.61 | 12.56 | 0.4304 | 'NMC111 oxide production, for Li-ion battery' (kilogram, CN, None)\n",
      "  0.066 | 1.357 | 0.191 | 'market for anode, graphite, for Li-ion battery' (kilogram, CN, None)\n",
      "    0.0659 | 1.355 | 0.191 | 'anode production, graphite, for Li-ion battery' (kilogram, CN, None)\n",
      "      0.0595 | 1.226 | 0.1795 | 'market for synthetic graphite, battery grade' (kilogram, CN, None)\n",
      "        0.0595 | 1.224 | 0.1795 | 'synthetic graphite production, battery grade' (kilogram, CN, None)\n",
      "  0.0634 | 1.305 | 1.266 | 'market group for electricity, medium voltage' (kilowatt hour, CN, Non\n",
      "    0.0586 | 1.207 | 1.159 | 'market for electricity, medium voltage' (kilowatt hour, CN-SGCC, None\n",
      "      0.0584 | 1.202 | 1.163 | 'electricity voltage transformation from high to medium voltage' (kilo\n",
      "        0.067 | 1.379 | 1.169 | 'market for electricity, high voltage' (kilowatt hour, CN-SGCC, None)\n",
      "  0.0391 | 0.8041 | 0.148 | 'market for electrolyte, for Li-ion battery' (kilogram, GLO, None)\n",
      "    0.0391 | 0.8041 | 0.148 | 'electrolyte production, for Li-ion battery' (kilogram, GLO, None)\n",
      "      0.0241 | 0.4961 | 0.01865 | 'market for lithium hexafluorophosphate' (kilogram, GLO, None)\n",
      "        0.0228 | 0.4691 | 0.01773 | 'lithium hexafluorophosphate production' (kilogram, RoW, None)\n",
      "  0.0229 | 0.4716 | 0.02873 | 'market for aluminium, wrought alloy' (kilogram, GLO, None)\n",
      "    0.0225 | 0.4639 | 0.01999 | 'aluminium ingot, primary, to aluminium, wrought alloy market' (kilogr\n",
      "      0.0201 | 0.414 | 0.01554 | 'market for aluminium, primary, ingot' (kilogram, RoW, None)\n",
      "        0.0158 | 0.326 | 0.01092 | 'aluminium production, primary, ingot' (kilogram, CN, None)\n",
      "  0.0113 | 0.2334 | 0.03653 | 'market for copper, anode' (kilogram, GLO, None)\n",
      "  0.0377 | 0.7758 | 0.03205 | 'market for aluminium collector foil, for Li-ion battery' (kilogram, G\n",
      "    0.0375 | 0.7726 | 0.03205 | 'aluminium collector foil production, for Li-ion battery' (kilogram, G\n",
      "      0.0256 | 0.526 | 0.03205 | 'market for aluminium, wrought alloy' (kilogram, GLO, None)\n",
      "        0.0251 | 0.5175 | 0.0223 | 'aluminium ingot, primary, to aluminium, wrought alloy market' (kilogr\n",
      "  0.0257 | 0.5285 |  12.3 | 'market for heat, district or industrial, natural gas' (megajoule, RoW\n",
      "    0.0117 | 0.2408 | 4.457 | 'heat and power co-generation, natural gas, conventional power plant, \n",
      "  0.0691 | 1.423 | 0.1275 | 'market for copper collector foil, for Li-ion battery' (kilogram, GLO,\n",
      "    0.0684 | 1.408 | 0.1275 | 'copper collector foil production, for Li-ion battery' (kilogram, GLO,\n",
      "      0.0411 | 0.8452 | 0.1275 | 'market for copper, cathode' (kilogram, GLO, None)\n",
      "        0.0295 | 0.6072 | 0.07715 | 'electrorefining of copper, anode' (kilogram, GLO, None)\n"
     ]
    }
   ],
   "source": [
    "ba.utils.print_recursive_calculation(act, cc, max_level=4, use_matrix_values=True, _lca_obj=mc, _total_score=mc.score)"
   ]
  },
  {
   "cell_type": "code",
   "execution_count": 33,
   "id": "75ab7cd6-c37e-49ce-9e6a-683187bb1b9b",
   "metadata": {},
   "outputs": [
    {
     "name": "stdout",
     "output_type": "stream",
     "text": [
      "Fraction of score | Absolute score | Amount | Activity\n",
      "0001 | 18.15 |     1 | 'battery cell production, Li-ion, NMC111' (kilogram, CN, None)\n",
      "  0.668 | 12.12 |  0.41 | 'market for cathode, NMC111, for Li-ion battery' (kilogram, CN, None)\n",
      "    0.667 | 12.11 |  0.41 | 'cathode production, NMC111, for Li-ion battery' (kilogram, CN, None)\n",
      "      0.0106 | 0.1916 | 0.1806 | 'market group for electricity, medium voltage' (kilowatt hour, CN, Non\n",
      "      0.0226 | 0.4107 |  10.6 | 'market for heat, district or industrial, natural gas' (megajoule, RoW\n",
      "      0.622 | 11.29 | 0.3895 | 'market for NMC111 oxide' (kilogram, CN, None)\n",
      "        0.622 | 11.29 | 0.3895 | 'NMC111 oxide production, for Li-ion battery' (kilogram, CN, None)\n",
      "  0.0697 | 1.265 |   0.2 | 'market for anode, graphite, for Li-ion battery' (kilogram, CN, None)\n",
      "    0.0696 | 1.263 |   0.2 | 'anode production, graphite, for Li-ion battery' (kilogram, CN, None)\n",
      "      0.0583 | 1.059 | 0.188 | 'market for synthetic graphite, battery grade' (kilogram, CN, None)\n",
      "        0.0582 | 1.057 | 0.188 | 'synthetic graphite production, battery grade' (kilogram, CN, None)\n",
      "  0.0694 |  1.26 | 1.188 | 'market group for electricity, medium voltage' (kilowatt hour, CN, Non\n",
      "    0.0655 | 1.189 | 1.087 | 'market for electricity, medium voltage' (kilowatt hour, CN-SGCC, None\n",
      "      0.0652 | 1.183 | 1.091 | 'electricity voltage transformation from high to medium voltage' (kilo\n",
      "        0.0652 | 1.183 | 1.097 | 'market for electricity, high voltage' (kilowatt hour, CN-SGCC, None)\n",
      "  0.0387 | 0.7022 | 0.146 | 'market for electrolyte, for Li-ion battery' (kilogram, GLO, None)\n",
      "    0.0387 | 0.7022 | 0.146 | 'electrolyte production, for Li-ion battery' (kilogram, GLO, None)\n",
      "      0.021 | 0.3815 | 0.0184 | 'market for lithium hexafluorophosphate' (kilogram, GLO, None)\n",
      "        0.0198 | 0.3601 | 0.01749 | 'lithium hexafluorophosphate production' (kilogram, RoW, None)\n",
      "  0.0219 | 0.3975 | 0.0283 | 'market for aluminium, wrought alloy' (kilogram, GLO, None)\n",
      "    0.0215 | 0.3903 | 0.0197 | 'aluminium ingot, primary, to aluminium, wrought alloy market' (kilogr\n",
      "      0.019 | 0.3456 | 0.0153 | 'market for aluminium, primary, ingot' (kilogram, RoW, None)\n",
      "        0.0143 | 0.2602 | 0.01076 | 'aluminium production, primary, ingot' (kilogram, CN, None)\n",
      "  0.011 | 0.199 | 0.0335 | 'market for copper, anode' (kilogram, GLO, None)\n",
      "  0.0264 | 0.4797 |  0.03 | 'market for aluminium collector foil, for Li-ion battery' (kilogram, G\n",
      "    0.0262 | 0.4761 |  0.03 | 'aluminium collector foil production, for Li-ion battery' (kilogram, G\n",
      "      0.0232 | 0.4214 |  0.03 | 'market for aluminium, wrought alloy' (kilogram, GLO, None)\n",
      "        0.0228 | 0.4138 | 0.02088 | 'aluminium ingot, primary, to aluminium, wrought alloy market' (kilogr\n",
      "  0.0267 | 0.4845 | 12.51 | 'market for heat, district or industrial, natural gas' (megajoule, RoW\n",
      "    0.0112 | 0.2038 | 4.533 | 'heat and power co-generation, natural gas, conventional power plant, \n",
      "  0.0566 | 1.028 |  0.12 | 'market for copper collector foil, for Li-ion battery' (kilogram, GLO,\n",
      "    0.0559 | 1.014 |  0.12 | 'copper collector foil production, for Li-ion battery' (kilogram, GLO,\n",
      "      0.0442 | 0.8025 |  0.12 | 'market for copper, cathode' (kilogram, GLO, None)\n",
      "        0.0329 | 0.5979 | 0.0726 | 'electrorefining of copper, anode' (kilogram, GLO, None)\n"
     ]
    }
   ],
   "source": [
    "ba.utils.print_recursive_calculation(act, cc, max_level=4)"
   ]
  },
  {
   "cell_type": "markdown",
   "id": "17cad88a-df3f-48d0-9b32-cac8662ed0c7",
   "metadata": {},
   "source": [
    "Not immediately, and this is only one iteration."
   ]
  }
 ],
 "metadata": {
  "kernelspec": {
   "display_name": "Python 3 (ipykernel)",
   "language": "python",
   "name": "python3"
  },
  "language_info": {
   "codemirror_mode": {
    "name": "ipython",
    "version": 3
   },
   "file_extension": ".py",
   "mimetype": "text/x-python",
   "name": "python",
   "nbconvert_exporter": "python",
   "pygments_lexer": "ipython3",
   "version": "3.10.5"
  }
 },
 "nbformat": 4,
 "nbformat_minor": 5
}
