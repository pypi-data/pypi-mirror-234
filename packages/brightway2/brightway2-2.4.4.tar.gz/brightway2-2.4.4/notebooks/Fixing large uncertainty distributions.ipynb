{
 "cells": [
  {
   "cell_type": "markdown",
   "id": "1e7cc490-52ec-4418-a10e-e6e1e7b25a65",
   "metadata": {},
   "source": [
    "# Fixing large uncertainty distributions\n",
    "\n",
    "The notebook [Finding out why Monte Carlo results are significantly different than static ones](https://github.com/brightway-lca/brightway2/blob/master/notebooks/Investigating%20interesting%20Monte%20Carlo%20results.ipynb) showed that some uncertainty distributions can be unpredictably large or one-tailed.\n",
    "\n",
    "In this notebook I show how these distributions can be reduced to produce answers which seem more reasonable.\n",
    "\n",
    "One difficulty here is that our database is not well-normalized - all the uncertainty data is [stored as a binary blob](https://github.com/brightway-lca/brightway2-data/blob/0759011516ab02e601ad6f1f57424d935eca994b/bw2data/backends/schema.py#L21). This means we will have to load (deserialize) all the exchange data to see if it lies outside our accepted bounds.\n",
    "\n",
    "What is reasonable for a triangular distribution, like the ones found in the earlier notebook? We can think about a number of attributes:\n",
    "\n",
    "* The difference in left and right sides versus the mean\n",
    "* The difference beween the mode and the mean or median\n",
    "* The absolute or relative ratio of the upper bound to the mode\n",
    "* Whether the left side crosses zero\n",
    "\n",
    "For this example, we will consider the ratio of the average to the mode. Let's plot the expected distribution for the same database: ecoinvent 3.8, cutoff by classification."
   ]
  },
  {
   "cell_type": "code",
   "execution_count": 10,
   "id": "84499324-db0a-445f-af1c-3a24e8a850d3",
   "metadata": {},
   "outputs": [],
   "source": [
    "import bw2data as bd\n",
    "from bw2data.backends.schema import ExchangeDataset as ED\n",
    "import bw2calc as bc\n",
    "import bw2analyzer as ba\n",
    "import bw2io as bi\n",
    "import numpy as np\n",
    "import pandas as pd\n",
    "import seaborn as sb\n",
    "from matplotlib import pyplot as plt\n",
    "import stats_arrays as sa"
   ]
  },
  {
   "cell_type": "code",
   "execution_count": null,
   "id": "b26edb11-6cb9-41b6-b434-143bda23adfd",
   "metadata": {},
   "outputs": [],
   "source": [
    "bd.projects.set_current(\"ecoinvent 3.8 consequential 25\")"
   ]
  },
  {
   "cell_type": "markdown",
   "id": "e6f22cee-c63d-4ae7-840f-66859808aad3",
   "metadata": {},
   "source": [
    "Create a copy of the database that we will modify"
   ]
  },
  {
   "cell_type": "code",
   "execution_count": 7,
   "id": "f5af1279-a531-4e55-b9cf-7265153986ae",
   "metadata": {},
   "outputs": [
    {
     "name": "stdout",
     "output_type": "stream",
     "text": [
      "Not able to determine geocollections for all datasets. This database is not ready for regionalization.\n"
     ]
    },
    {
     "name": "stderr",
     "output_type": "stream",
     "text": [
      "Writing activities to SQLite3 database:\n",
      "0% [##############################] 100% | ETA: 00:00:00\n",
      "Total time elapsed: 00:00:44\n"
     ]
    },
    {
     "name": "stdout",
     "output_type": "stream",
     "text": [
      "Title: Writing activities to SQLite3 database:\n",
      "  Started: 07/04/2022 14:06:00\n",
      "  Finished: 07/04/2022 14:06:45\n",
      "  Total time elapsed: 00:00:44\n",
      "  CPU %: 91.40\n",
      "  Memory %: 30.40\n"
     ]
    },
    {
     "data": {
      "text/plain": [
       "Brightway2 SQLiteBackend: ecoinvent 3.8 consequential adjusted"
      ]
     },
     "execution_count": 7,
     "metadata": {},
     "output_type": "execute_result"
    }
   ],
   "source": [
    "bd.Database(\"ecoinvent 3.8 consequential\").copy(\"ecoinvent 3.8 consequential adjusted\")"
   ]
  },
  {
   "cell_type": "code",
   "execution_count": 9,
   "id": "b68d1e21-15b7-4426-add4-432d00180411",
   "metadata": {},
   "outputs": [
    {
     "data": {
      "text/plain": [
       "629959"
      ]
     },
     "execution_count": 9,
     "metadata": {},
     "output_type": "execute_result"
    }
   ],
   "source": [
    "queryset = ED.select().where(ED.output_database==\"ecoinvent 3.8 consequential adjusted\")\n",
    "queryset.count()"
   ]
  },
  {
   "cell_type": "markdown",
   "id": "e6fc8fdd-3cfa-4470-aeae-f56455243e10",
   "metadata": {},
   "source": [
    "Get triangular ratio"
   ]
  },
  {
   "cell_type": "code",
   "execution_count": 15,
   "id": "39435e47-97cd-40ac-a692-02c0aef6b90f",
   "metadata": {},
   "outputs": [],
   "source": [
    "def get_triangular_ratio(exc):\n",
    "    if exc.data.get('uncertainty type') != 5:\n",
    "        return None\n",
    "    mean = (exc.data.get('loc') + exc.data.get('minimum') + exc.data.get('maximum')) / 3\n",
    "    return mean / exc.data.get('loc')"
   ]
  },
  {
   "cell_type": "code",
   "execution_count": 19,
   "id": "315c8d9f-a8f3-4ad4-8d0f-fdaebd1e8b74",
   "metadata": {},
   "outputs": [],
   "source": [
    "ratios = [(get_triangular_ratio(exc), exc) for exc in queryset if get_triangular_ratio(exc) is not None]\n",
    "ratios.sort(reverse=True, key=lambda x: x[0])"
   ]
  },
  {
   "cell_type": "code",
   "execution_count": 17,
   "id": "87cbada5-82d1-4c93-80be-3f014a90567e",
   "metadata": {},
   "outputs": [
    {
     "data": {
      "text/plain": [
       "177"
      ]
     },
     "execution_count": 17,
     "metadata": {},
     "output_type": "execute_result"
    }
   ],
   "source": [
    "len(ratios)"
   ]
  },
  {
   "cell_type": "code",
   "execution_count": 21,
   "id": "cce9201c-870d-4e4e-9e8e-3ccc93274a07",
   "metadata": {},
   "outputs": [
    {
     "data": {
      "text/plain": [
       "[(2061.727333333331, <ExchangeDataset: 855054>),\n",
       " (985.6604534251463, <ExchangeDataset: 855055>),\n",
       " (667.0000000000001, <ExchangeDataset: 855052>),\n",
       " (666.9999999999999, <ExchangeDataset: 855050>),\n",
       " (185.97474811092914, <ExchangeDataset: 903711>),\n",
       " (85.94296951819075, <ExchangeDataset: 722572>),\n",
       " (85.94296951819075, <ExchangeDataset: 722573>),\n",
       " (11.306426553672315, <ExchangeDataset: 846346>),\n",
       " (11.306426553672315, <ExchangeDataset: 846347>),\n",
       " (11.306426553672315, <ExchangeDataset: 846348>),\n",
       " (11.306426553672315, <ExchangeDataset: 846349>),\n",
       " (6.672670348612234, <ExchangeDataset: 1081814>),\n",
       " (5.3982683982683985, <ExchangeDataset: 976534>),\n",
       " (5.3982683982683985, <ExchangeDataset: 760226>),\n",
       " (5.392131431041937, <ExchangeDataset: 976527>),\n",
       " (5.392131431041937, <ExchangeDataset: 976531>),\n",
       " (5.392131431041937, <ExchangeDataset: 760229>),\n",
       " (5.392131431041937, <ExchangeDataset: 760233>),\n",
       " (5.341880341880342, <ExchangeDataset: 976523>),\n",
       " (5.341880341880342, <ExchangeDataset: 760231>)]"
      ]
     },
     "execution_count": 21,
     "metadata": {},
     "output_type": "execute_result"
    }
   ],
   "source": [
    "ratios[:20]"
   ]
  },
  {
   "cell_type": "code",
   "execution_count": 24,
   "id": "ba3bf2c5-3956-4a6c-813f-f2bd7f8716c3",
   "metadata": {},
   "outputs": [
    {
     "data": {
      "text/plain": [
       "[Exchange: 0.0129362298845668 kilogram 'market for rosin size, for paper production' (kilogram, RER, None) to 'tissue paper production, virgin' (kilogram, GLO, None)>,\n",
       " Exchange: 0.0270637701154332 kilogram 'market for rosin size, for paper production' (kilogram, RoW, None) to 'tissue paper production, virgin' (kilogram, GLO, None)>,\n",
       " Exchange: 0.01 kilogram 'market for chemical, inorganic' (kilogram, GLO, None) to 'tissue paper production, virgin' (kilogram, GLO, None)>,\n",
       " Exchange: 0.001 kilogram 'market for chemical, organic' (kilogram, GLO, None) to 'tissue paper production, virgin' (kilogram, GLO, None)>,\n",
       " Exchange: 2143.47 kilogram 'market for sodium hydroxide, without water, in 50% solution state' (kilogram, GLO, None) to 'treatment of sulfidic tailing, off-site, high gold content' (kilogram, ZA, None)>,\n",
       " Exchange: 67800000.0 square meter 'Transformation, from unspecified' (square meter, None, ('natural resource', 'land')) to 'mine construction, gold' (unit, ZA, None)>,\n",
       " Exchange: 67800000.0 square meter 'Transformation, to unspecified' (square meter, None, ('natural resource', 'land')) to 'mine construction, gold' (unit, ZA, None)>,\n",
       " Exchange: 47200000.0 square meter 'Transformation, to unspecified' (square meter, None, ('natural resource', 'land')) to 'mine infrastructure construction, treatment of sulfidic tailing, off-site, high gold content' (unit, ZA, None)>,\n",
       " Exchange: 47200000.0 square meter 'Transformation, from unspecified' (square meter, None, ('natural resource', 'land')) to 'mine infrastructure construction, treatment of sulfidic tailing, off-site, high gold content' (unit, ZA, None)>,\n",
       " Exchange: 47200000.0 square meter 'Transformation, from mineral extraction site' (square meter, None, ('natural resource', 'land')) to 'mine infrastructure construction, treatment of sulfidic tailing, off-site, high gold content' (unit, ZA, None)>,\n",
       " Exchange: 47200000.0 square meter 'Transformation, to mineral extraction site' (square meter, None, ('natural resource', 'land')) to 'mine infrastructure construction, treatment of sulfidic tailing, off-site, high gold content' (unit, ZA, None)>]"
      ]
     },
     "execution_count": 24,
     "metadata": {},
     "output_type": "execute_result"
    }
   ],
   "source": [
    "[bd.backends.proxies.Exchange(b) for a, b in ratios if a > 10]"
   ]
  },
  {
   "cell_type": "markdown",
   "id": "255b1c65-65a2-4c37-a2ae-c27cccc4a15e",
   "metadata": {},
   "source": [
    "It seems like 11.3 might be a reasonable cutoff. Let's limit this ratio to 12:"
   ]
  },
  {
   "cell_type": "code",
   "execution_count": 26,
   "id": "646ee249-039d-4ebd-aa7b-9689482b6aab",
   "metadata": {},
   "outputs": [],
   "source": [
    "def fix_triangular_upper_limits(exc):\n",
    "    ratio = get_triangular_ratio(exc)\n",
    "    if ratio and ratio > 12:\n",
    "        exc.data['maximum'] = 12 * exc.data['loc']\n",
    "        exc.save()"
   ]
  },
  {
   "cell_type": "code",
   "execution_count": 27,
   "id": "5a1b36cd-ad8c-412c-85de-d7bd0fa896ae",
   "metadata": {},
   "outputs": [],
   "source": [
    "for ratio, exc in ratios:\n",
    "    fix_triangular_upper_limits(exc)"
   ]
  },
  {
   "cell_type": "code",
   "execution_count": 28,
   "id": "4d511290-f2a1-40e5-b368-5659017dd7ee",
   "metadata": {},
   "outputs": [],
   "source": [
    "bd.Database(\"ecoinvent 3.8 consequential adjusted\").process()"
   ]
  },
  {
   "cell_type": "markdown",
   "id": "9885210b-341b-4e99-a392-908ba7f84c5a",
   "metadata": {},
   "source": [
    "Is this enough to fix the Monte Carlo results? From first principles there should still be a big difference, but smaller..."
   ]
  },
  {
   "cell_type": "code",
   "execution_count": 35,
   "id": "47170954-85f9-4b32-9ea3-340a95eb1d0a",
   "metadata": {},
   "outputs": [],
   "source": [
    "tissue = bd.Database(\"ecoinvent 3.8 consequential adjusted\").get(name='tissue paper production, virgin')\n",
    "ipcc = ('IPCC 2013', 'climate change', 'GWP 100a')"
   ]
  },
  {
   "cell_type": "markdown",
   "id": "2a4b625c-b537-4e1a-9def-88236e1290cd",
   "metadata": {},
   "source": [
    "Create static and stochastic LCA instances"
   ]
  },
  {
   "cell_type": "code",
   "execution_count": 36,
   "id": "789393c7-3fea-4b38-ba82-0b6160540891",
   "metadata": {},
   "outputs": [],
   "source": [
    "static = bc.LCA({tissue: 1}, ipcc)\n",
    "static.lci()\n",
    "static.lcia()"
   ]
  },
  {
   "cell_type": "code",
   "execution_count": 37,
   "id": "15047cb7-2cdf-46a3-8a53-32abea87bb71",
   "metadata": {},
   "outputs": [],
   "source": [
    "mc = bc.LCA({tissue: 1}, ipcc, use_distributions=True)\n",
    "mc.lci()\n",
    "mc.lcia()"
   ]
  },
  {
   "cell_type": "markdown",
   "id": "d991c528-85d8-4866-ac71-1e5fd4a2ec28",
   "metadata": {},
   "source": [
    "Confirm that the scores are quite different"
   ]
  },
  {
   "cell_type": "code",
   "execution_count": 38,
   "id": "4bb17e20-12ad-4348-a0f8-53f091ddcdc0",
   "metadata": {},
   "outputs": [
    {
     "data": {
      "text/plain": [
       "(3.9271282663369003, 5.2474693807935004)"
      ]
     },
     "execution_count": 38,
     "metadata": {},
     "output_type": "execute_result"
    }
   ],
   "source": [
    "static.score, np.mean([mc.score for _ in zip(range(20), mc)])"
   ]
  },
  {
   "cell_type": "markdown",
   "id": "5ea9f894-e251-42b3-8a98-164243f6d0d7",
   "metadata": {},
   "source": [
    "Similar checks and adjustments can be done for other distribution types and cutoff criteria."
   ]
  }
 ],
 "metadata": {
  "kernelspec": {
   "display_name": "Python 3 (ipykernel)",
   "language": "python",
   "name": "python3"
  },
  "language_info": {
   "codemirror_mode": {
    "name": "ipython",
    "version": 3
   },
   "file_extension": ".py",
   "mimetype": "text/x-python",
   "name": "python",
   "nbconvert_exporter": "python",
   "pygments_lexer": "ipython3",
   "version": "3.10.5"
  }
 },
 "nbformat": 4,
 "nbformat_minor": 5
}
