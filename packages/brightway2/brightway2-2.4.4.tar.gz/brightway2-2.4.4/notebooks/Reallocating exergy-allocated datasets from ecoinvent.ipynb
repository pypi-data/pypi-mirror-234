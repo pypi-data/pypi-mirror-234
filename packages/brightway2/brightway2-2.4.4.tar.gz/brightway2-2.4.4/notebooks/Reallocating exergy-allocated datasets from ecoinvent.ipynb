{
 "cells": [
  {
   "cell_type": "markdown",
   "id": "0391d2db-663d-4703-8cef-7c0edb5e3fa5",
   "metadata": {},
   "source": [
    "# Reallocating combined heat and power datasets in Brightway\n",
    "\n",
    "This is a somewhat messy notebook on how we can use the data in allocated datasets to unallocate them, and then do group allocation to get the inventories we want."
   ]
  },
  {
   "cell_type": "code",
   "execution_count": 1,
   "id": "b686c985-4d40-4463-9467-cccd656c0ae6",
   "metadata": {},
   "outputs": [],
   "source": [
    "import bw2data as bd\n",
    "import bw2calc as bc\n",
    "import pandas as pd\n",
    "import copy"
   ]
  },
  {
   "cell_type": "code",
   "execution_count": 2,
   "id": "9a50b6d8-b97f-4df3-b6aa-0ce983c55f3f",
   "metadata": {},
   "outputs": [],
   "source": [
    "bd.projects.set_current(\"ei 3.8 cutoff\")"
   ]
  },
  {
   "cell_type": "markdown",
   "id": "5b089026-5041-47bb-8fb6-90727bbe8ebb",
   "metadata": {},
   "source": [
    "Get the CHP datasets we are working on:"
   ]
  },
  {
   "cell_type": "code",
   "execution_count": 3,
   "id": "5d2c1031-4abc-4882-8257-d92b6e7de606",
   "metadata": {},
   "outputs": [
    {
     "data": {
      "text/plain": [
       "['heat and power co-generation, natural gas, combined cycle power plant, 400MW electrical' (kilowatt hour, DE, None),\n",
       " 'heat and power co-generation, natural gas, combined cycle power plant, 400MW electrical' (megajoule, DE, None)]"
      ]
     },
     "execution_count": 3,
     "metadata": {},
     "output_type": "execute_result"
    }
   ],
   "source": [
    "CHP = [\n",
    "    x \n",
    "    for x in bd.Database('ecoinvent 3.8 cutoff') \n",
    "    if x['name'] == 'heat and power co-generation, natural gas, combined cycle power plant, 400MW electrical' \n",
    "    and x['location'] == 'DE'\n",
    "]\n",
    "CHP"
   ]
  },
  {
   "cell_type": "markdown",
   "id": "5817643b-118b-45de-af9b-a8a3f3082094",
   "metadata": {},
   "source": [
    "# Get unallocated combined dataset\n",
    "\n",
    "We can combine the allocated datasets together to get the unallocated dataset, but we need to know their relative production ratios. The absolute numbers are not necessary as our output value will scale up and down with the inputs.\n",
    "\n",
    "First, let's avoid some unit confusion by expressing everything in the same units. We need to be a bit careful - a unit conversion doesn't change the amount of biosphere flows, only the way that we express the production exchange value (in MJ, not kWh) and the production volume:"
   ]
  },
  {
   "cell_type": "code",
   "execution_count": 4,
   "id": "689dc2d8-d653-4dd7-b2a3-c2c7bec4c6f4",
   "metadata": {
    "tags": []
   },
   "outputs": [],
   "source": [
    "def extract_and_rescale(act, factor=1):\n",
    "    def rescale_exchange(exc, factor):\n",
    "        if exc['type'] == 'production':\n",
    "            exc['amount'] *= factor\n",
    "            exc['production volume'] *= factor\n",
    "        return exc\n",
    "        \n",
    "    data_dict = act.as_dict()\n",
    "    data_dict['exchanges'] = [rescale_exchange(exc.as_dict(), factor) for exc in act.exchanges()]\n",
    "    return data_dict"
   ]
  },
  {
   "cell_type": "markdown",
   "id": "a0296b4e-5b1f-410c-9fde-5846d1f4438f",
   "metadata": {},
   "source": [
    "Now we need to pick one allocated dataset to be the main one, and a unit to normalize to. As we know that the original data is normalized to one kilowatt hour of electricity, let's pick one megajoule of heat to prove we are not cheating."
   ]
  },
  {
   "cell_type": "code",
   "execution_count": 5,
   "id": "bf918a7f-bc07-4cc9-bf10-43eed2f29f16",
   "metadata": {},
   "outputs": [],
   "source": [
    "heat = extract_and_rescale(bd.get_node(name='heat and power co-generation, natural gas, combined cycle power plant, 400MW electrical', location='DE', unit='megajoule', database='ecoinvent 3.8 cutoff'), 1)\n",
    "elec = extract_and_rescale(bd.get_node(name='heat and power co-generation, natural gas, combined cycle power plant, 400MW electrical', location='DE', unit='kilowatt hour', database='ecoinvent 3.8 cutoff'), 3.6)"
   ]
  },
  {
   "cell_type": "markdown",
   "id": "6d147ffd-1bb2-44a8-93c0-ad92b3e5922e",
   "metadata": {},
   "source": [
    "We don't yet know how much electricity is produced relative to one megajoule of heat. Moreover, we have our exergetic allocation to remember as well - heat has lower exergy than electricity. We have these numbers:"
   ]
  },
  {
   "cell_type": "code",
   "execution_count": 6,
   "id": "b19265c4-2396-47be-b346-770cf9fa40f2",
   "metadata": {},
   "outputs": [
    {
     "name": "stdout",
     "output_type": "stream",
     "text": [
      "allocation factor for electricity (=1) vs. heat, where heat is calculated as the termodynamic mean temperature Tm = (Tfeed-Treturn)/ln(Tfeed/Treturn), relative to the application temperature (Tu, typically = 293 K), i.e. (Tm-Tu)/Tm\n"
     ]
    }
   ],
   "source": [
    "for activity in CHP:\n",
    "    for exc in activity.production():\n",
    "        print(exc['properties']['exergy']['comment'])\n",
    "    break"
   ]
  },
  {
   "cell_type": "markdown",
   "id": "92893eae-8a36-4270-b165-a9207a47eaf5",
   "metadata": {},
   "source": [
    "The factor 3.6 below is just the conversion from kWh to MJ."
   ]
  },
  {
   "cell_type": "code",
   "execution_count": 7,
   "id": "145e459b-31fb-410d-a852-2edaff00867e",
   "metadata": {},
   "outputs": [
    {
     "data": {
      "text/plain": [
       "{'electricity, high voltage': 3.6,\n",
       " 'heat, district or industrial, natural gas': 0.184213553594}"
      ]
     },
     "execution_count": 7,
     "metadata": {},
     "output_type": "execute_result"
    }
   ],
   "source": [
    "exergy = {\n",
    "    activity['reference product']: exc['properties']['exergy']['amount']\n",
    "    for activity in CHP\n",
    "    for exc in activity.production()\n",
    "}\n",
    "\n",
    "exergy"
   ]
  },
  {
   "cell_type": "markdown",
   "id": "be4b17f7-3b8f-44cb-9948-6ec8c7024a92",
   "metadata": {},
   "source": [
    "We have converted everything to megajoules, so let's fix this dictionary:"
   ]
  },
  {
   "cell_type": "code",
   "execution_count": 8,
   "id": "7720f52f-70ed-4be3-bc48-f51086c2f572",
   "metadata": {},
   "outputs": [],
   "source": [
    "exergy['electricity, high voltage'] = 1"
   ]
  },
  {
   "cell_type": "markdown",
   "id": "4235126c-2b23-490c-bea7-f703bbadd589",
   "metadata": {},
   "source": [
    "Our allocation is done by exergy, so our relative allocation factors should be:\n",
    "\n",
    "$$\n",
    "allocation_{i} = \\frac{exergy_{i} \\cdot production\\_volume_{i}}{\\sum_{j} ( exergy_{j} \\cdot production\\_volume_{j})}\n",
    "$$"
   ]
  },
  {
   "cell_type": "markdown",
   "id": "0caaf855-29b4-45e9-bf7a-96a0298145fa",
   "metadata": {},
   "source": [
    "We can then calculate our allocation factors. Heat should be much lower than electricity, as we know in the unallocated dataset there is more electricity being produced than heat, and heat has a much lower exergy value."
   ]
  },
  {
   "cell_type": "code",
   "execution_count": 9,
   "id": "1f49d1ed-fcb5-4f41-9c11-a4ea188ed4c0",
   "metadata": {},
   "outputs": [],
   "source": [
    "def get_allocation_factor(product, all_products):\n",
    "    return (\n",
    "        exergy[product['reference product']] \n",
    "        * next(exc['production volume'] for exc in product['exchanges'] if exc['type'] == 'production')\n",
    "        / sum([exergy[obj['reference product']] * next(exc['production volume'] for exc in obj['exchanges'] if exc['type'] == 'production') for obj in all_products])\n",
    "   )"
   ]
  },
  {
   "cell_type": "code",
   "execution_count": 10,
   "id": "b11848c6-25b5-4f97-8266-e5fcd9a49fc9",
   "metadata": {},
   "outputs": [
    {
     "data": {
      "text/plain": [
       "{'heat, district or industrial, natural gas': 0.12921890832494007,\n",
       " 'electricity, high voltage': 0.8707810916750599}"
      ]
     },
     "execution_count": 10,
     "metadata": {},
     "output_type": "execute_result"
    }
   ],
   "source": [
    "allocation_factors = {act['reference product']: get_allocation_factor(act, (heat, elec)) for act in (heat, elec)}\n",
    "allocation_factors"
   ]
  },
  {
   "cell_type": "markdown",
   "id": "3d2c9fea-d9bd-4221-adf0-a5e05cfcaa6d",
   "metadata": {},
   "source": [
    "Let's be clear about what these numbers mean (you probably already know this, but I sometimes get confused :). These are the relative shares of the *environmental burdens* and *input goods and services* of the unallocated data assigned to each one of the multiple output products. We can go backwards, but need to be careful because our `elec` and `heat` data are relative, not absolute, so just scaling everything up or down isn't correct. Moreover, reversing the application of any single allocation factor should result in the **total** amount of environmental burdens and input goods and services, so we can't reverse multiple allocated datasets and add them together.\n",
    "\n",
    "## Validation of allocation factors\n",
    "\n",
    "So what can we do? First, we can make sure that these allocation factors are correct. Let's reverse the allocation for electricity and make sure we get some values we know are correct from the [unlinked dataset](https://v38.ecoquery.ecoinvent.org/Details/UPR/87f4e644-7d1a-4510-bf6c-98a197d3176f/8b738ea0-f89e-4627-8679-433616064e82):\n",
    "\n",
    "* Carbon dioxide, fossil: 0.38448\n",
    "* Mercury: 4.9536E-10\n",
    "* natural gas, high pressure: 0.18462\n",
    "\n",
    "There is a single allocation factor being applied, so a few checks should be enough. We also need to bear in mind that we have electricity in megajoules, but the unallocated values are for 1 kilowatt hour (i.e. 3.6 megajoules) of electricity production."
   ]
  },
  {
   "cell_type": "code",
   "execution_count": 11,
   "id": "41303d94-7a61-4cdf-8d30-8fdbc83c75d2",
   "metadata": {},
   "outputs": [],
   "source": [
    "UNALLOCATED = {\n",
    "    \"Carbon dioxide, fossil\": 0.38448,\n",
    "    \"Mercury\": 4.9536E-10,\n",
    "    \"natural gas, high pressure\": 0.18462\n",
    "}"
   ]
  },
  {
   "cell_type": "code",
   "execution_count": 12,
   "id": "3c891eca-6e1d-4a22-b47f-c3b9bef3bd17",
   "metadata": {},
   "outputs": [
    {
     "name": "stdout",
     "output_type": "stream",
     "text": [
      "0.38448 0.38447999999999993\n",
      "4.9536e-10 4.953600000000003e-10\n",
      "0.18462 0.18461538461538501\n"
     ]
    }
   ],
   "source": [
    "for key, value in UNALLOCATED.items():\n",
    "    exc = next(exc for exc in elec['exchanges'] if exc['name'] == key)\n",
    "    print(value, exc['amount'] / allocation_factors[elec['reference product']])"
   ]
  },
  {
   "cell_type": "markdown",
   "id": "e89752aa-7de4-4788-ba14-48754fc22586",
   "metadata": {},
   "source": [
    "To do the same for heat, we need to know the ratio of heat (in energy, not exergy) to electricity produced in the unallocated dataset. We can get this from the production volumes:"
   ]
  },
  {
   "cell_type": "code",
   "execution_count": 13,
   "id": "0adb0b5b-88a5-4a11-b3ed-1b47533ab853",
   "metadata": {},
   "outputs": [
    {
     "data": {
      "text/plain": [
       "0.8055555555555561"
      ]
     },
     "execution_count": 13,
     "metadata": {},
     "output_type": "execute_result"
    }
   ],
   "source": [
    "heat_fraction = next(exc['production volume'] for exc in heat['exchanges'] if exc['type'] == 'production') / sum(exc['production volume'] for obj in (heat, elec) for exc in obj['exchanges'] if exc['type'] == 'production')\n",
    "heat_ratio = heat_fraction / (1 - heat_fraction)\n",
    "heat_ratio"
   ]
  },
  {
   "cell_type": "markdown",
   "id": "9ca8e282-ba6d-4ff8-ad0e-97990b727547",
   "metadata": {},
   "source": [
    "Or, the unallocated dataset was relative to 3.6 MJ of electricity production and $heat\\_ratio \\cdot 3.6$ MJ of heat production."
   ]
  },
  {
   "cell_type": "code",
   "execution_count": 14,
   "id": "c8b3c5b5-eab9-4dd2-b6d3-8ae32e329952",
   "metadata": {},
   "outputs": [
    {
     "name": "stdout",
     "output_type": "stream",
     "text": [
      "0.38448 0.384479999999999\n",
      "4.9536e-10 4.95359999999999e-10\n",
      "0.18462 0.18461538461538488\n"
     ]
    }
   ],
   "source": [
    "for key, value in UNALLOCATED.items():\n",
    "    exc = next(exc for exc in heat['exchanges'] if exc['name'] == key)\n",
    "    print(value, exc['amount'] / allocation_factors[heat['reference product']] * (3.6 * heat_ratio))"
   ]
  },
  {
   "cell_type": "markdown",
   "id": "53327c9d-3e7a-4509-9bf7-32ffaba60210",
   "metadata": {},
   "source": [
    "We can do one last check - let's get the total score from an LCIA calculation that we can compare with later on:"
   ]
  },
  {
   "cell_type": "code",
   "execution_count": 15,
   "id": "4fda97f9-b5ea-4780-b5d4-f68b42ff2e44",
   "metadata": {},
   "outputs": [],
   "source": [
    "lca = bc.LCA({\n",
    "    (elec['database'], elec['code']): 1, # one kWh, 3.6 MJ,\n",
    "    (heat['database'], heat['code']): 3.6 * heat_ratio,\n",
    "}, method=('IPCC 2013', 'climate change', 'GWP 100a'))\n",
    "lca.lci()\n",
    "lca.lcia()\n",
    "reference_score = lca.score"
   ]
  },
  {
   "cell_type": "markdown",
   "id": "5d5f460a-dc65-4d91-a598-acad0cd0b589",
   "metadata": {},
   "source": [
    "# Recombining datasets\n",
    "\n",
    "Once we have validation allocation, going to the unallocated datasets is relatively simple :)"
   ]
  },
  {
   "cell_type": "code",
   "execution_count": 16,
   "id": "d7c1a137-f60a-4f74-b92f-26858db15e9b",
   "metadata": {},
   "outputs": [],
   "source": [
    "production_scaling = {\n",
    "    'heat, district or industrial, natural gas': (3.6 * heat_ratio),\n",
    "    'electricity, high voltage': 1, # Already at 3.6 due to unit conversion\n",
    "}"
   ]
  },
  {
   "cell_type": "code",
   "execution_count": 17,
   "id": "9f590565-5729-4e8f-b8fd-456ce0859959",
   "metadata": {},
   "outputs": [],
   "source": [
    "def unallocate(ds, factor, other_datasets, production_scaling):\n",
    "    ds = copy.deepcopy(ds)\n",
    "    for exc in ds['exchanges']:\n",
    "        if exc['type'] != 'production':\n",
    "            exc['amount'] *= factor\n",
    "        elif exc['type'] == 'production' and exc['name'] == ds['reference product']:\n",
    "            exc['amount'] *= production_scaling[exc['name']]\n",
    "    for other_ds in other_datasets:\n",
    "        for exc in other_ds['exchanges']:\n",
    "            if exc['type'] == 'production' and exc['name'] == other_ds['reference product']:\n",
    "                ds['exchanges'].append(exc)\n",
    "    return ds"
   ]
  },
  {
   "cell_type": "code",
   "execution_count": 18,
   "id": "5d71faa3-5220-4346-80e0-5cfffee007c7",
   "metadata": {
    "tags": []
   },
   "outputs": [],
   "source": [
    "unallocated = unallocate(heat, (3.6 * heat_ratio) / allocation_factors[heat['reference product']], [elec], production_scaling)"
   ]
  },
  {
   "cell_type": "markdown",
   "id": "d02a40c1-fbe5-4769-bd74-135c6047d78d",
   "metadata": {},
   "source": [
    "# Allocating using grouped factors\n",
    "\n",
    "Some people seem quite excited about doing allocation using different factors for different groups of exchanges. As an example, we can use different values for biosphere and technosphere exchanges. Of course, we can make this as complex or simple as we want.\n",
    "\n",
    "We can also use allocation factors which don't sum to one, but we can skip the normalization step if they do."
   ]
  },
  {
   "cell_type": "code",
   "execution_count": 19,
   "id": "34591989-2e07-4f61-b4ee-0dd61aa3b791",
   "metadata": {},
   "outputs": [],
   "source": [
    "ALLOCATION_FACTORS = {\n",
    "    'biosphere': {\n",
    "        'heat, district or industrial, natural gas': 0.2,\n",
    "        'electricity, high voltage': 0.8,\n",
    "    },\n",
    "    'technosphere': {\n",
    "        'heat, district or industrial, natural gas': 0.5,\n",
    "        'electricity, high voltage': 0.5,\n",
    "    },    \n",
    "}"
   ]
  },
  {
   "cell_type": "code",
   "execution_count": 20,
   "id": "66cb65c5-fdba-4d5f-8144-4ad4b3fbabfa",
   "metadata": {},
   "outputs": [],
   "source": [
    "def allocation_by_groups(unallocated, factors):\n",
    "    allocated_data = []\n",
    "    \n",
    "    products = {exc['name'] for exc in unallocated['exchanges'] if exc['type'] == 'production'}\n",
    "    for product in products:\n",
    "        ds = copy.deepcopy(unallocated)\n",
    "        ds['reference product'] = product\n",
    "        for exc in ds['exchanges']:\n",
    "            if exc['type'] == 'production' and exc['name'] != product:\n",
    "                exc['amount'] = 0\n",
    "            elif exc['type'] == 'production':\n",
    "                code = exc['input'][1]\n",
    "            elif exc['type'] in factors:\n",
    "                exc['amount'] *= factors[exc['type']][product]\n",
    "        ds['code'] = code\n",
    "        allocated_data.append(ds)\n",
    "    return allocated_data"
   ]
  },
  {
   "cell_type": "code",
   "execution_count": 21,
   "id": "1af61e8c-d33a-41ee-9fed-14a810c63479",
   "metadata": {},
   "outputs": [],
   "source": [
    "new_datasets = allocation_by_groups(unallocated, ALLOCATION_FACTORS)"
   ]
  },
  {
   "cell_type": "markdown",
   "id": "f12b5769-49b9-4dbf-806c-899367ae3592",
   "metadata": {},
   "source": [
    "# Storing and using our new datasets\n",
    "\n",
    "We can store this data in different ways; here I will save it as a new Brightway database."
   ]
  },
  {
   "cell_type": "code",
   "execution_count": 22,
   "id": "cc49e674-7fa8-4a6f-8295-53814cb1fed1",
   "metadata": {},
   "outputs": [],
   "source": [
    "def change_database_codes(datasets, db_name):\n",
    "    for ds in datasets:\n",
    "        ds['database'] = db_name\n",
    "        for exc in ds['exchanges']:\n",
    "            if exc['type'] == 'production':\n",
    "                exc['input'] = (db_name, exc['input'][1])\n",
    "                del exc['output'] # Filled in by BW\n",
    "    return datasets"
   ]
  },
  {
   "cell_type": "code",
   "execution_count": 23,
   "id": "908bccc1-cdfb-4594-a58e-e44d2e1a0c12",
   "metadata": {},
   "outputs": [],
   "source": [
    "db_name = \"reallocated NG in Germany\""
   ]
  },
  {
   "cell_type": "code",
   "execution_count": 24,
   "id": "a68ebaea-a37d-4cc6-afb0-7eea182d3130",
   "metadata": {},
   "outputs": [],
   "source": [
    "new_datasets = change_database_codes(new_datasets, db_name)"
   ]
  },
  {
   "cell_type": "code",
   "execution_count": 25,
   "id": "917d420e-4caa-4da3-bd2b-e466f32fb4f2",
   "metadata": {},
   "outputs": [
    {
     "name": "stderr",
     "output_type": "stream",
     "text": [
      "Writing activities to SQLite3 database:\n",
      "0% [##] 100% | ETA: 00:00:00\n",
      "Total time elapsed: 00:00:00\n"
     ]
    },
    {
     "name": "stdout",
     "output_type": "stream",
     "text": [
      "Title: Writing activities to SQLite3 database:\n",
      "  Started: 08/24/2022 14:19:39\n",
      "  Finished: 08/24/2022 14:19:39\n",
      "  Total time elapsed: 00:00:00\n",
      "  CPU %: 268.20\n",
      "  Memory %: 1.37\n"
     ]
    }
   ],
   "source": [
    "new_db = bd.Database(db_name)\n",
    "new_db.write({(o['database'], o['code']): o for o in new_datasets})"
   ]
  },
  {
   "cell_type": "markdown",
   "id": "179d6918-2fe3-4c38-bfbb-782864c33c7f",
   "metadata": {},
   "source": [
    "Check that our allocated datasets have the correct individual and total LCA scores:"
   ]
  },
  {
   "cell_type": "code",
   "execution_count": 26,
   "id": "31fc4e8a-32fa-44a4-8c0b-fc412ffc5fc3",
   "metadata": {},
   "outputs": [],
   "source": [
    "lca = bc.LCA({\n",
    "    (db_name, elec['code']): 3.6, # Unit is now megajoule\n",
    "    (db_name, heat['code']): 3.6 * heat_ratio,\n",
    "}, method=('IPCC 2013', 'climate change', 'GWP 100a'))\n",
    "lca.lci()\n",
    "lca.lcia()\n",
    "new_allocated_score = lca.score"
   ]
  },
  {
   "cell_type": "code",
   "execution_count": 27,
   "id": "3b9a3276-3819-4f22-a585-e3f8a98aae70",
   "metadata": {},
   "outputs": [
    {
     "data": {
      "text/plain": [
       "(0.4772085315130064, 0.47720852124955737)"
      ]
     },
     "execution_count": 27,
     "metadata": {},
     "output_type": "execute_result"
    }
   ],
   "source": [
    "reference_score, new_allocated_score"
   ]
  },
  {
   "cell_type": "markdown",
   "id": "8bcc4d5d-7fd6-42ca-8b69-613b94fb6568",
   "metadata": {},
   "source": [
    "The split between different activities has changed though:"
   ]
  },
  {
   "cell_type": "code",
   "execution_count": 28,
   "id": "084b130d-d247-4bd4-bbab-a2db6a5ca360",
   "metadata": {},
   "outputs": [],
   "source": [
    "FUNC_UNITS = [\n",
    "    (('ecoinvent 3.8 cutoff', elec['code']), 1, \"Ecoinvent electricity\"),\n",
    "    (('ecoinvent 3.8 cutoff', heat['code']), 2.9, \"Ecoinvent heat\"),\n",
    "    ((db_name, elec['code']), 3.6, \"New electricity\"),\n",
    "    ((db_name, heat['code']), 2.9, \"New heat\"),\n",
    "]"
   ]
  },
  {
   "cell_type": "code",
   "execution_count": 29,
   "id": "878e2c93-5d52-4058-9e5f-6fd17bd8d7f1",
   "metadata": {},
   "outputs": [
    {
     "name": "stdout",
     "output_type": "stream",
     "text": [
      "Ecoinvent electricity 0.41554416740392963\n",
      "Ecoinvent heat 0.06166436410907783\n",
      "New electricity 0.3545886715411093\n",
      "New heat 0.12261984970844801\n"
     ]
    }
   ],
   "source": [
    "for key, amount, label in FUNC_UNITS:\n",
    "    lca.lcia({bd.get_activity(key).id: amount})\n",
    "    print(label, lca.score)"
   ]
  }
 ],
 "metadata": {
  "kernelspec": {
   "display_name": "Python 3 (ipykernel)",
   "language": "python",
   "name": "python3"
  },
  "language_info": {
   "codemirror_mode": {
    "name": "ipython",
    "version": 3
   },
   "file_extension": ".py",
   "mimetype": "text/x-python",
   "name": "python",
   "nbconvert_exporter": "python",
   "pygments_lexer": "ipython3",
   "version": "3.10.5"
  }
 },
 "nbformat": 4,
 "nbformat_minor": 5
}
