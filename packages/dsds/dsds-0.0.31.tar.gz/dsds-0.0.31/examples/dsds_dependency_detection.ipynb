{
 "cells": [
  {
   "cell_type": "code",
   "execution_count": 1,
   "metadata": {},
   "outputs": [],
   "source": [
    "import polars as pl"
   ]
  },
  {
   "cell_type": "markdown",
   "metadata": {},
   "source": [
    "# Dependency Detection + Violations"
   ]
  },
  {
   "cell_type": "code",
   "execution_count": 2,
   "metadata": {},
   "outputs": [
    {
     "data": {
      "text/html": [
       "<div><style>\n",
       ".dataframe > thead > tr > th,\n",
       ".dataframe > tbody > tr > td {\n",
       "  text-align: right;\n",
       "  white-space: pre-wrap;\n",
       "}\n",
       "</style>\n",
       "<small>shape: (5, 12)</small><table border=\"1\" class=\"dataframe\"><thead><tr><th>Id</th><th>ORGANIZATION</th><th>NAME</th><th>GENDER</th><th>SPECIALITY</th><th>ADDRESS</th><th>CITY</th><th>STATE</th><th>ZIP</th><th>LAT</th><th>LON</th><th>UTILIZATION</th></tr><tr><td>str</td><td>str</td><td>str</td><td>str</td><td>str</td><td>str</td><td>str</td><td>str</td><td>str</td><td>f64</td><td>f64</td><td>i64</td></tr></thead><tbody><tr><td>&quot;3421aa75-dec7-…</td><td>&quot;ef58ea08-d883-…</td><td>&quot;Tomas436 Sauer…</td><td>&quot;M&quot;</td><td>&quot;GENERAL PRACTI…</td><td>&quot;60 HOSPITAL RO…</td><td>&quot;LEOMINSTER&quot;</td><td>&quot;MA&quot;</td><td>&quot;01453&quot;</td><td>42.520838</td><td>-71.770876</td><td>1557</td></tr><tr><td>&quot;c9b3c857-2e24-…</td><td>&quot;69176529-fd1f-…</td><td>&quot;Suzette512 Mon…</td><td>&quot;F&quot;</td><td>&quot;GENERAL PRACTI…</td><td>&quot;330 MOUNT AUBU…</td><td>&quot;CAMBRIDGE&quot;</td><td>&quot;MA&quot;</td><td>&quot;02138&quot;</td><td>42.375967</td><td>-71.118275</td><td>2296</td></tr><tr><td>&quot;0359f968-d1a6-…</td><td>&quot;5e765f2b-e908-…</td><td>&quot;Gaynell126 Str…</td><td>&quot;F&quot;</td><td>&quot;GENERAL PRACTI…</td><td>&quot;211 PARK STREE…</td><td>&quot;ATTLEBORO&quot;</td><td>&quot;MA&quot;</td><td>&quot;02703&quot;</td><td>41.931653</td><td>-71.294503</td><td>2287</td></tr><tr><td>&quot;446d1609-858f-…</td><td>&quot;f1fbcbfb-fcfa-…</td><td>&quot;Patricia625 Sa…</td><td>&quot;F&quot;</td><td>&quot;GENERAL PRACTI…</td><td>&quot;ONE GENERAL ST…</td><td>&quot;LAWRENCE&quot;</td><td>&quot;MA&quot;</td><td>&quot;01842&quot;</td><td>42.700273</td><td>-71.161357</td><td>1327</td></tr><tr><td>&quot;e6283e46-fd81-…</td><td>&quot;e002090d-4e92-…</td><td>&quot;Jeanmarie510 B…</td><td>&quot;F&quot;</td><td>&quot;GENERAL PRACTI…</td><td>&quot;1493 CAMBRIDGE…</td><td>&quot;CAMBRIDGE&quot;</td><td>&quot;MA&quot;</td><td>&quot;02138&quot;</td><td>42.375967</td><td>-71.118275</td><td>3199</td></tr></tbody></table></div>"
      ],
      "text/plain": [
       "shape: (5, 12)\n",
       "┌─────────────┬────────────┬────────────┬────────┬───┬───────┬───────────┬────────────┬────────────┐\n",
       "│ Id          ┆ ORGANIZATI ┆ NAME       ┆ GENDER ┆ … ┆ ZIP   ┆ LAT       ┆ LON        ┆ UTILIZATIO │\n",
       "│ ---         ┆ ON         ┆ ---        ┆ ---    ┆   ┆ ---   ┆ ---       ┆ ---        ┆ N          │\n",
       "│ str         ┆ ---        ┆ str        ┆ str    ┆   ┆ str   ┆ f64       ┆ f64        ┆ ---        │\n",
       "│             ┆ str        ┆            ┆        ┆   ┆       ┆           ┆            ┆ i64        │\n",
       "╞═════════════╪════════════╪════════════╪════════╪═══╪═══════╪═══════════╪════════════╪════════════╡\n",
       "│ 3421aa75-de ┆ ef58ea08-d ┆ Tomas436   ┆ M      ┆ … ┆ 01453 ┆ 42.520838 ┆ -71.770876 ┆ 1557       │\n",
       "│ c7-378d-a9e ┆ 883-3957-8 ┆ Sauer652   ┆        ┆   ┆       ┆           ┆            ┆            │\n",
       "│ 0-0bc764e4… ┆ 300-150554 ┆            ┆        ┆   ┆       ┆           ┆            ┆            │\n",
       "│             ┆ ed…        ┆            ┆        ┆   ┆       ┆           ┆            ┆            │\n",
       "│ c9b3c857-2e ┆ 69176529-f ┆ Suzette512 ┆ F      ┆ … ┆ 02138 ┆ 42.375967 ┆ -71.118275 ┆ 2296       │\n",
       "│ 24-320c-a79 ┆ d1f-3b3f-a ┆ Monahan736 ┆        ┆   ┆       ┆           ┆            ┆            │\n",
       "│ a-87b8a60d… ┆ bce-a0a362 ┆            ┆        ┆   ┆       ┆           ┆            ┆            │\n",
       "│             ┆ 67…        ┆            ┆        ┆   ┆       ┆           ┆            ┆            │\n",
       "│ 0359f968-d1 ┆ 5e765f2b-e ┆ Gaynell126 ┆ F      ┆ … ┆ 02703 ┆ 41.931653 ┆ -71.294503 ┆ 2287       │\n",
       "│ a6-30eb-b1c ┆ 908-3888-9 ┆ Streich926 ┆        ┆   ┆       ┆           ┆            ┆            │\n",
       "│ c-e6cc0b4d… ┆ fc7-df2cb8 ┆            ┆        ┆   ┆       ┆           ┆            ┆            │\n",
       "│             ┆ 7b…        ┆            ┆        ┆   ┆       ┆           ┆            ┆            │\n",
       "│ 446d1609-85 ┆ f1fbcbfb-f ┆ Patricia62 ┆ F      ┆ … ┆ 01842 ┆ 42.700273 ┆ -71.161357 ┆ 1327       │\n",
       "│ 8f-3a54-8a5 ┆ cfa-3bd2-b ┆ 5          ┆        ┆   ┆       ┆           ┆            ┆            │\n",
       "│ 2-0c4eaced… ┆ 7f4-df20f1 ┆ Salgado989 ┆        ┆   ┆       ┆           ┆            ┆            │\n",
       "│             ┆ b3…        ┆            ┆        ┆   ┆       ┆           ┆            ┆            │\n",
       "│ e6283e46-fd ┆ e002090d-4 ┆ Jeanmarie5 ┆ F      ┆ … ┆ 02138 ┆ 42.375967 ┆ -71.118275 ┆ 3199       │\n",
       "│ 81-3611-945 ┆ e92-300e-b ┆ 10         ┆        ┆   ┆       ┆           ┆            ┆            │\n",
       "│ 9-0edb1c3d… ┆ 41e-7d1f21 ┆ Beatty507  ┆        ┆   ┆       ┆           ┆            ┆            │\n",
       "│             ┆ de…        ┆            ┆        ┆   ┆       ┆           ┆            ┆            │\n",
       "└─────────────┴────────────┴────────────┴────────┴───┴───────┴───────────┴────────────┴────────────┘"
      ]
     },
     "execution_count": 2,
     "metadata": {},
     "output_type": "execute_result"
    }
   ],
   "source": [
    "# This is the same dataset as used in \n",
    "# the demo by Microsoft: https://learn.microsoft.com/en-us/fabric/data-science/semantic-link-validate-data\n",
    "# However, dsds will be an open source package based on Polars, not\n",
    "# FabricDataFrame, which is a Microsoft product.\n",
    "import dsds.compare as comp\n",
    "\n",
    "df = pl.read_csv(\"../data/providers.csv\")\n",
    "df.head()"
   ]
  },
  {
   "cell_type": "code",
   "execution_count": 3,
   "metadata": {},
   "outputs": [
    {
     "name": "stderr",
     "output_type": "stream",
     "text": [
      "INFO:dsds.compare:The following columns are not considered because they are constants: ['STATE']\n"
     ]
    }
   ],
   "source": [
    "cols = [\"Id\", \"ORGANIZATION\", \"NAME\", \"GENDER\", \"ADDRESS\", \"CITY\", \"SPECIALITY\", \"STATE\", \"ZIP\", \"UTILIZATION\", \"LON\", \"LAT\"] # \"LAT\", \"LON\"]\n",
    "entropy, tree = comp.dependency_detection(df, cols=cols, threshold=0.015)"
   ]
  },
  {
   "cell_type": "code",
   "execution_count": 4,
   "metadata": {},
   "outputs": [
    {
     "data": {
      "image/svg+xml": [
       "<?xml version=\"1.0\" encoding=\"UTF-8\" standalone=\"no\"?>\n",
       "<!DOCTYPE svg PUBLIC \"-//W3C//DTD SVG 1.1//EN\"\n",
       " \"http://www.w3.org/Graphics/SVG/1.1/DTD/svg11.dtd\">\n",
       "<!-- Generated by graphviz version 2.50.0 (0)\n",
       " -->\n",
       "<!-- Title: Dependency Plot Pages: 1 -->\n",
       "<svg width=\"536pt\" height=\"332pt\"\n",
       " viewBox=\"0.00 0.00 535.79 332.00\" xmlns=\"http://www.w3.org/2000/svg\" xmlns:xlink=\"http://www.w3.org/1999/xlink\">\n",
       "<g id=\"graph0\" class=\"graph\" transform=\"scale(1 1) rotate(0) translate(4 328)\">\n",
       "<title>Dependency Plot</title>\n",
       "<polygon fill=\"white\" stroke=\"transparent\" points=\"-4,4 -4,-328 531.79,-328 531.79,4 -4,4\"/>\n",
       "<!-- UTILIZATION -->\n",
       "<g id=\"node1\" class=\"node\">\n",
       "<title>UTILIZATION</title>\n",
       "<ellipse fill=\"none\" stroke=\"black\" cx=\"65.64\" cy=\"-234\" rx=\"65.79\" ry=\"18\"/>\n",
       "<text text-anchor=\"middle\" x=\"65.64\" y=\"-230.3\" font-family=\"Times New Roman,serif\" font-size=\"14.00\">UTILIZATION</text>\n",
       "</g>\n",
       "<!-- Id -->\n",
       "<g id=\"node2\" class=\"node\">\n",
       "<title>Id</title>\n",
       "<ellipse fill=\"none\" stroke=\"black\" cx=\"225.64\" cy=\"-306\" rx=\"27\" ry=\"18\"/>\n",
       "<text text-anchor=\"middle\" x=\"225.64\" y=\"-302.3\" font-family=\"Times New Roman,serif\" font-size=\"14.00\">Id</text>\n",
       "</g>\n",
       "<!-- Id&#45;&gt;UTILIZATION -->\n",
       "<g id=\"edge1\" class=\"edge\">\n",
       "<title>Id&#45;&gt;UTILIZATION</title>\n",
       "<path fill=\"none\" stroke=\"black\" d=\"M203.73,-295.41C179.22,-284.69 138.93,-267.06 108.18,-253.61\"/>\n",
       "<polygon fill=\"black\" stroke=\"black\" points=\"109.53,-250.38 98.97,-249.58 106.73,-256.79 109.53,-250.38\"/>\n",
       "</g>\n",
       "<!-- ORGANIZATION -->\n",
       "<g id=\"node4\" class=\"node\">\n",
       "<title>ORGANIZATION</title>\n",
       "<ellipse fill=\"none\" stroke=\"black\" cx=\"225.64\" cy=\"-234\" rx=\"76.89\" ry=\"18\"/>\n",
       "<text text-anchor=\"middle\" x=\"225.64\" y=\"-230.3\" font-family=\"Times New Roman,serif\" font-size=\"14.00\">ORGANIZATION</text>\n",
       "</g>\n",
       "<!-- Id&#45;&gt;ORGANIZATION -->\n",
       "<g id=\"edge12\" class=\"edge\">\n",
       "<title>Id&#45;&gt;ORGANIZATION</title>\n",
       "<path fill=\"none\" stroke=\"black\" d=\"M225.64,-287.7C225.64,-279.98 225.64,-270.71 225.64,-262.11\"/>\n",
       "<polygon fill=\"black\" stroke=\"black\" points=\"229.14,-262.1 225.64,-252.1 222.14,-262.1 229.14,-262.1\"/>\n",
       "</g>\n",
       "<!-- NAME -->\n",
       "<g id=\"node8\" class=\"node\">\n",
       "<title>NAME</title>\n",
       "<ellipse fill=\"none\" stroke=\"black\" cx=\"357.64\" cy=\"-234\" rx=\"37.09\" ry=\"18\"/>\n",
       "<text text-anchor=\"middle\" x=\"357.64\" y=\"-230.3\" font-family=\"Times New Roman,serif\" font-size=\"14.00\">NAME</text>\n",
       "</g>\n",
       "<!-- Id&#45;&gt;NAME -->\n",
       "<g id=\"edge5\" class=\"edge\">\n",
       "<title>Id&#45;&gt;NAME</title>\n",
       "<path fill=\"none\" stroke=\"black\" d=\"M246.27,-294.06C267.23,-282.95 300.02,-265.56 324.61,-252.52\"/>\n",
       "<polygon fill=\"black\" stroke=\"black\" points=\"326.39,-255.53 333.59,-247.76 323.11,-249.35 326.39,-255.53\"/>\n",
       "</g>\n",
       "<!-- ZIP -->\n",
       "<g id=\"node3\" class=\"node\">\n",
       "<title>ZIP</title>\n",
       "<ellipse fill=\"none\" stroke=\"black\" cx=\"129.64\" cy=\"-162\" rx=\"27\" ry=\"18\"/>\n",
       "<text text-anchor=\"middle\" x=\"129.64\" y=\"-158.3\" font-family=\"Times New Roman,serif\" font-size=\"14.00\">ZIP</text>\n",
       "</g>\n",
       "<!-- LAT -->\n",
       "<g id=\"node6\" class=\"node\">\n",
       "<title>LAT</title>\n",
       "<ellipse fill=\"none\" stroke=\"black\" cx=\"139.64\" cy=\"-90\" rx=\"27\" ry=\"18\"/>\n",
       "<text text-anchor=\"middle\" x=\"139.64\" y=\"-86.3\" font-family=\"Times New Roman,serif\" font-size=\"14.00\">LAT</text>\n",
       "</g>\n",
       "<!-- ZIP&#45;&gt;LAT -->\n",
       "<g id=\"edge8\" class=\"edge\">\n",
       "<title>ZIP&#45;&gt;LAT</title>\n",
       "<path fill=\"none\" stroke=\"black\" d=\"M132.06,-144.05C133.17,-136.35 134.5,-127.03 135.73,-118.36\"/>\n",
       "<polygon fill=\"black\" stroke=\"black\" points=\"139.23,-118.67 137.18,-108.28 132.3,-117.68 139.23,-118.67\"/>\n",
       "</g>\n",
       "<!-- CITY -->\n",
       "<g id=\"node11\" class=\"node\">\n",
       "<title>CITY</title>\n",
       "<ellipse fill=\"none\" stroke=\"black\" cx=\"220.64\" cy=\"-90\" rx=\"31.4\" ry=\"18\"/>\n",
       "<text text-anchor=\"middle\" x=\"220.64\" y=\"-86.3\" font-family=\"Times New Roman,serif\" font-size=\"14.00\">CITY</text>\n",
       "</g>\n",
       "<!-- ZIP&#45;&gt;CITY -->\n",
       "<g id=\"edge10\" class=\"edge\">\n",
       "<title>ZIP&#45;&gt;CITY</title>\n",
       "<path fill=\"none\" stroke=\"black\" d=\"M146.76,-147.83C160.23,-137.47 179.22,-122.87 194.57,-111.06\"/>\n",
       "<polygon fill=\"black\" stroke=\"black\" points=\"196.88,-113.7 202.67,-104.83 192.61,-108.15 196.88,-113.7\"/>\n",
       "</g>\n",
       "<!-- ORGANIZATION&#45;&gt;ZIP -->\n",
       "<g id=\"edge2\" class=\"edge\">\n",
       "<title>ORGANIZATION&#45;&gt;ZIP</title>\n",
       "<path fill=\"none\" stroke=\"black\" d=\"M203.38,-216.76C189.12,-206.37 170.55,-192.83 155.62,-181.94\"/>\n",
       "<polygon fill=\"black\" stroke=\"black\" points=\"157.45,-178.94 147.31,-175.88 153.33,-184.6 157.45,-178.94\"/>\n",
       "</g>\n",
       "<!-- ADDRESS -->\n",
       "<g id=\"node10\" class=\"node\">\n",
       "<title>ADDRESS</title>\n",
       "<ellipse fill=\"none\" stroke=\"black\" cx=\"225.64\" cy=\"-162\" rx=\"50.89\" ry=\"18\"/>\n",
       "<text text-anchor=\"middle\" x=\"225.64\" y=\"-158.3\" font-family=\"Times New Roman,serif\" font-size=\"14.00\">ADDRESS</text>\n",
       "</g>\n",
       "<!-- ORGANIZATION&#45;&gt;ADDRESS -->\n",
       "<g id=\"edge7\" class=\"edge\">\n",
       "<title>ORGANIZATION&#45;&gt;ADDRESS</title>\n",
       "<path fill=\"none\" stroke=\"black\" d=\"M225.64,-215.7C225.64,-207.98 225.64,-198.71 225.64,-190.11\"/>\n",
       "<polygon fill=\"black\" stroke=\"black\" points=\"229.14,-190.1 225.64,-180.1 222.14,-190.1 229.14,-190.1\"/>\n",
       "</g>\n",
       "<!-- LON -->\n",
       "<g id=\"node5\" class=\"node\">\n",
       "<title>LON</title>\n",
       "<ellipse fill=\"none\" stroke=\"black\" cx=\"139.64\" cy=\"-18\" rx=\"28.7\" ry=\"18\"/>\n",
       "<text text-anchor=\"middle\" x=\"139.64\" y=\"-14.3\" font-family=\"Times New Roman,serif\" font-size=\"14.00\">LON</text>\n",
       "</g>\n",
       "<!-- LAT&#45;&gt;LON -->\n",
       "<g id=\"edge3\" class=\"edge\">\n",
       "<title>LAT&#45;&gt;LON</title>\n",
       "<path fill=\"none\" stroke=\"black\" d=\"M139.64,-71.7C139.64,-63.98 139.64,-54.71 139.64,-46.11\"/>\n",
       "<polygon fill=\"black\" stroke=\"black\" points=\"143.14,-46.1 139.64,-36.1 136.14,-46.1 143.14,-46.1\"/>\n",
       "</g>\n",
       "<!-- SPECIALITY -->\n",
       "<g id=\"node7\" class=\"node\">\n",
       "<title>SPECIALITY</title>\n",
       "<ellipse fill=\"none\" stroke=\"black\" cx=\"356.64\" cy=\"-162\" rx=\"61.19\" ry=\"18\"/>\n",
       "<text text-anchor=\"middle\" x=\"356.64\" y=\"-158.3\" font-family=\"Times New Roman,serif\" font-size=\"14.00\">SPECIALITY</text>\n",
       "</g>\n",
       "<!-- NAME&#45;&gt;SPECIALITY -->\n",
       "<g id=\"edge4\" class=\"edge\">\n",
       "<title>NAME&#45;&gt;SPECIALITY</title>\n",
       "<path fill=\"none\" stroke=\"black\" d=\"M357.4,-215.7C357.29,-207.98 357.15,-198.71 357.03,-190.11\"/>\n",
       "<polygon fill=\"black\" stroke=\"black\" points=\"360.53,-190.05 356.89,-180.1 353.53,-190.15 360.53,-190.05\"/>\n",
       "</g>\n",
       "<!-- GENDER -->\n",
       "<g id=\"node9\" class=\"node\">\n",
       "<title>GENDER</title>\n",
       "<ellipse fill=\"none\" stroke=\"black\" cx=\"481.64\" cy=\"-162\" rx=\"46.29\" ry=\"18\"/>\n",
       "<text text-anchor=\"middle\" x=\"481.64\" y=\"-158.3\" font-family=\"Times New Roman,serif\" font-size=\"14.00\">GENDER</text>\n",
       "</g>\n",
       "<!-- NAME&#45;&gt;GENDER -->\n",
       "<g id=\"edge6\" class=\"edge\">\n",
       "<title>NAME&#45;&gt;GENDER</title>\n",
       "<path fill=\"none\" stroke=\"black\" d=\"M380.97,-219.83C399.67,-209.28 426.18,-194.31 447.31,-182.38\"/>\n",
       "<polygon fill=\"black\" stroke=\"black\" points=\"449.3,-185.28 456.29,-177.31 445.86,-179.18 449.3,-185.28\"/>\n",
       "</g>\n",
       "<!-- ADDRESS&#45;&gt;LAT -->\n",
       "<g id=\"edge9\" class=\"edge\">\n",
       "<title>ADDRESS&#45;&gt;LAT</title>\n",
       "<path fill=\"none\" stroke=\"black\" d=\"M206.13,-145.12C193.65,-134.96 177.37,-121.71 164.04,-110.86\"/>\n",
       "<polygon fill=\"black\" stroke=\"black\" points=\"166.15,-108.06 156.19,-104.47 161.73,-113.49 166.15,-108.06\"/>\n",
       "</g>\n",
       "<!-- ADDRESS&#45;&gt;CITY -->\n",
       "<g id=\"edge11\" class=\"edge\">\n",
       "<title>ADDRESS&#45;&gt;CITY</title>\n",
       "<path fill=\"none\" stroke=\"black\" d=\"M224.41,-143.7C223.86,-135.98 223.2,-126.71 222.58,-118.11\"/>\n",
       "<polygon fill=\"black\" stroke=\"black\" points=\"226.07,-117.83 221.87,-108.1 219.09,-118.33 226.07,-117.83\"/>\n",
       "</g>\n",
       "</g>\n",
       "</svg>\n"
      ],
      "text/plain": [
       "<graphviz.graphs.Digraph at 0x1f1fa0c8810>"
      ]
     },
     "execution_count": 4,
     "metadata": {},
     "output_type": "execute_result"
    }
   ],
   "source": [
    "tree "
   ]
  },
  {
   "cell_type": "code",
   "execution_count": 5,
   "metadata": {},
   "outputs": [],
   "source": [
    "violations = comp.dependency_violation(df, entropy, threshold=0.05)"
   ]
  },
  {
   "cell_type": "code",
   "execution_count": 6,
   "metadata": {},
   "outputs": [
    {
     "name": "stdout",
     "output_type": "stream",
     "text": [
      "shape: (3, 4)\n",
      "┌────────────────────┬───────┬───────────────────────────┬──────────────────────────────────┐\n",
      "│ Column Name: NAME  ┆ count ┆ Col GENDER: Value & Count ┆ Reason                           │\n",
      "│ ---                ┆ ---   ┆ ---                       ┆ ---                              │\n",
      "│ str                ┆ u32   ┆ list[struct[2]]           ┆ str                              │\n",
      "╞════════════════════╪═══════╪═══════════════════════════╪══════════════════════════════════╡\n",
      "│ Joe656 Connelly992 ┆ 2     ┆ [{\"F\",1}, {\"M\",1}]        ┆ `NAME` should uniquely determine │\n",
      "│                    ┆       ┆                           ┆ `GENDER`                         │\n",
      "│ Dorian295 Lind531  ┆ 2     ┆ [{\"F\",1}, {\"M\",1}]        ┆ `NAME` should uniquely determine │\n",
      "│                    ┆       ┆                           ┆ `GENDER`                         │\n",
      "│ Drew592 Cassin499  ┆ 2     ┆ [{\"F\",1}, {\"M\",1}]        ┆ `NAME` should uniquely determine │\n",
      "│                    ┆       ┆                           ┆ `GENDER`                         │\n",
      "└────────────────────┴───────┴───────────────────────────┴──────────────────────────────────┘\n",
      "shape: (19, 4)\n",
      "┌────────────────────────┬───────┬────────────────────────────────────────┬────────────────────────┐\n",
      "│ Column Name: NAME      ┆ count ┆ Col SPECIALITY: Value & Count          ┆ Reason                 │\n",
      "│ ---                    ┆ ---   ┆ ---                                    ┆ ---                    │\n",
      "│ str                    ┆ u32   ┆ list[struct[2]]                        ┆ str                    │\n",
      "╞════════════════════════╪═══════╪════════════════════════════════════════╪════════════════════════╡\n",
      "│ Lynwood354 Monahan736  ┆ 4     ┆ [{\"PHYSICAL THERAPY\",1}, {\"GENERAL     ┆ `NAME` should uniquely │\n",
      "│                        ┆       ┆ PRACTICE\",3}]                          ┆ determine `SPECIALITY` │\n",
      "│ Tiana543 Blick895      ┆ 4     ┆ [{\"GENERAL PRACTICE\",3}, {\"PHYSICAL    ┆ `NAME` should uniquely │\n",
      "│                        ┆       ┆ THERAPY\",1}]                           ┆ determine `SPECIALITY` │\n",
      "│ Dorian295 Lind531      ┆ 2     ┆ [{\"ORAL SURGERY\",1}, {\"OPTOMETRY\",1}]  ┆ `NAME` should uniquely │\n",
      "│                        ┆       ┆                                        ┆ determine `SPECIALITY` │\n",
      "│ Devora529 Sipes176     ┆ 4     ┆ [{\"GENERAL PRACTICE\",3}, {\"PHYSICAL    ┆ `NAME` should uniquely │\n",
      "│                        ┆       ┆ THERAPY\",1}]                           ┆ determine `SPECIALITY` │\n",
      "│ …                      ┆ …     ┆ …                                      ┆ …                      │\n",
      "│ Drew592 Cassin499      ┆ 2     ┆ [{\"PHYSICAL THERAPY\",1},               ┆ `NAME` should uniquely │\n",
      "│                        ┆       ┆ {\"PSYCHIATRY\",1}]                      ┆ determine `SPECIALITY` │\n",
      "│ Slyvia34 Nolan344      ┆ 2     ┆ [{\"VASCULAR SURGERY\",1}, {\"GENERAL     ┆ `NAME` should uniquely │\n",
      "│                        ┆       ┆ SURGERY\",1}]                           ┆ determine `SPECIALITY` │\n",
      "│ Leonor133 Nájera755    ┆ 4     ┆ [{\"GENERAL PRACTICE\",3}, {\"PHYSICAL    ┆ `NAME` should uniquely │\n",
      "│                        ┆       ┆ THERAPY\",1}]                           ┆ determine `SPECIALITY` │\n",
      "│ Mohammed454 Parisian75 ┆ 3     ┆ [{\"GENERAL PRACTICE\",2}, {\"PHYSICAL    ┆ `NAME` should uniquely │\n",
      "│                        ┆       ┆ THERAPY\",1}]                           ┆ determine `SPECIALITY` │\n",
      "└────────────────────────┴───────┴────────────────────────────────────────┴────────────────────────┘\n",
      "shape: (44, 4)\n",
      "┌────────────────────────────┬───────┬────────────────────────────────┬─────────────────────────┐\n",
      "│ Column Name: NAME          ┆ count ┆ Col UTILIZATION: Value & Count ┆ Reason                  │\n",
      "│ ---                        ┆ ---   ┆ ---                            ┆ ---                     │\n",
      "│ str                        ┆ u32   ┆ list[struct[2]]                ┆ str                     │\n",
      "╞════════════════════════════╪═══════╪════════════════════════════════╪═════════════════════════╡\n",
      "│ Maile198 Frami345          ┆ 2     ┆ [{8,1}, {2658,1}]              ┆ `NAME` should uniquely  │\n",
      "│                            ┆       ┆                                ┆ determine `UTILIZATION` │\n",
      "│ Benton624 Becker968        ┆ 3     ┆ [{182,1}, {184,1}, {42,1}]     ┆ `NAME` should uniquely  │\n",
      "│                            ┆       ┆                                ┆ determine `UTILIZATION` │\n",
      "│ Veda284 Pfeffer420         ┆ 2     ┆ [{1811,1}, {742,1}]            ┆ `NAME` should uniquely  │\n",
      "│                            ┆       ┆                                ┆ determine `UTILIZATION` │\n",
      "│ Guadalupe206 Valenzuela371 ┆ 3     ┆ [{27,1}, {1641,1}, {118,1}]    ┆ `NAME` should uniquely  │\n",
      "│                            ┆       ┆                                ┆ determine `UTILIZATION` │\n",
      "│ …                          ┆ …     ┆ …                              ┆ …                       │\n",
      "│ Colby655 Schowalter414     ┆ 4     ┆ [{49,1}, {0,2}, {2225,1}]      ┆ `NAME` should uniquely  │\n",
      "│                            ┆       ┆                                ┆ determine `UTILIZATION` │\n",
      "│ Tiana543 Blick895          ┆ 4     ┆ [{0,1}, {1413,1}, … {248,1}]   ┆ `NAME` should uniquely  │\n",
      "│                            ┆       ┆                                ┆ determine `UTILIZATION` │\n",
      "│ Brittani427 Satterfield305 ┆ 3     ┆ [{0,1}, {1682,1}, {182,1}]     ┆ `NAME` should uniquely  │\n",
      "│                            ┆       ┆                                ┆ determine `UTILIZATION` │\n",
      "│ Óscar156 Mateo562          ┆ 3     ┆ [{1006,1}, {574,1}, {1,1}]     ┆ `NAME` should uniquely  │\n",
      "│                            ┆       ┆                                ┆ determine `UTILIZATION` │\n",
      "└────────────────────────────┴───────┴────────────────────────────────┴─────────────────────────┘\n",
      "shape: (19, 4)\n",
      "┌──────────────────┬───────┬───────────────────────────────────┬───────────────────────────────────┐\n",
      "│ Column Name: ZIP ┆ count ┆ Col CITY: Value & Count           ┆ Reason                            │\n",
      "│ ---              ┆ ---   ┆ ---                               ┆ ---                               │\n",
      "│ str              ┆ u32   ┆ list[struct[2]]                   ┆ str                               │\n",
      "╞══════════════════╪═══════╪═══════════════════════════════════╪═══════════════════════════════════╡\n",
      "│ 2128             ┆ 2     ┆ [{\"EAST BOSTON\",1}, {\"BOSTON\",1}] ┆ `ZIP` should uniquely determine   │\n",
      "│                  ┆       ┆                                   ┆ `CITY`                            │\n",
      "│ 01201            ┆ 2     ┆ [{\"PITTSFIELD\",1},                ┆ `ZIP` should uniquely determine   │\n",
      "│                  ┆       ┆ {\"PITTSFILED\",1}]                 ┆ `CITY`                            │\n",
      "│ 01104            ┆ 3     ┆ [{\"Springfield\",1},               ┆ `ZIP` should uniquely determine   │\n",
      "│                  ┆       ┆ {\"SPRINGFIELD\",2}]                ┆ `CITY`                            │\n",
      "│ 02747-1262       ┆ 10    ┆ [{\"DARTMOUTH\",9}, {\"NORTH         ┆ `ZIP` should uniquely determine   │\n",
      "│                  ┆       ┆ DARTMOUTH\",1}]                    ┆ `CITY`                            │\n",
      "│ …                ┆ …     ┆ …                                 ┆ …                                 │\n",
      "│ 02169            ┆ 3     ┆ [{\"Quincy\",1}, {\"QUINCY\",2}]      ┆ `ZIP` should uniquely determine   │\n",
      "│                  ┆       ┆                                   ┆ `CITY`                            │\n",
      "│ 02190-2314       ┆ 4     ┆ [{\"WEYMOUTH\",1}, {\"SOUTH          ┆ `ZIP` should uniquely determine   │\n",
      "│                  ┆       ┆ WEYMOUTH\",3}]                     ┆ `CITY`                            │\n",
      "│ 02360            ┆ 2     ┆ [{\"Plymouth\",1}, {\"PLYMOUTH\",1}]  ┆ `ZIP` should uniquely determine   │\n",
      "│                  ┆       ┆                                   ┆ `CITY`                            │\n",
      "│ 02135-3514       ┆ 55    ┆ [{\"BRIGHTON\",2}, {\"BOSTON\",53}]   ┆ `ZIP` should uniquely determine   │\n",
      "│                  ┆       ┆                                   ┆ `CITY`                            │\n",
      "└──────────────────┴───────┴───────────────────────────────────┴───────────────────────────────────┘\n",
      "shape: (10, 4)\n",
      "┌──────────────────────┬───────┬───────────────────────────────────────┬───────────────────────────┐\n",
      "│ Column Name: ADDRESS ┆ count ┆ Col CITY: Value & Count               ┆ Reason                    │\n",
      "│ ---                  ┆ ---   ┆ ---                                   ┆ ---                       │\n",
      "│ str                  ┆ u32   ┆ list[struct[2]]                       ┆ str                       │\n",
      "╞══════════════════════╪═══════╪═══════════════════════════════════════╪═══════════════════════════╡\n",
      "│ 25 OLD WESTPORT RD   ┆ 4     ┆ [{\"DARTMOUTH\",3}, {\"NORTH             ┆ `ADDRESS` should uniquely │\n",
      "│                      ┆       ┆ DARTMOUTH\",1}]                        ┆ determine `CITY`          │\n",
      "│ 271 MAIN ST          ┆ 3     ┆ [{\"STONEHAM\",1}, {\"EAST DOUGLAS\",2}]  ┆ `ADDRESS` should uniquely │\n",
      "│                      ┆       ┆                                       ┆ determine `CITY`          │\n",
      "│ 2360 CRANBERRY HWY   ┆ 3     ┆ [{\"WEST WAREHAM\",1}, {\"W WAREHAM\",2}] ┆ `ADDRESS` should uniquely │\n",
      "│                      ┆       ┆                                       ┆ determine `CITY`          │\n",
      "│ 11 NEVINS ST         ┆ 55    ┆ [{\"BOSTON\",53}, {\"BRIGHTON\",2}]       ┆ `ADDRESS` should uniquely │\n",
      "│                      ┆       ┆                                       ┆ determine `CITY`          │\n",
      "│ …                    ┆ …     ┆ …                                     ┆ …                         │\n",
      "│ 340 MAPLE ST         ┆ 12    ┆ [{\"MARLBORO\",11}, {\"MARLBOROUGH\",1}]  ┆ `ADDRESS` should uniquely │\n",
      "│                      ┆       ┆                                       ┆ determine `CITY`          │\n",
      "│ 10 LANGLEY RD        ┆ 2     ┆ [{\"NEWTON CENTER\",1}, {\"NEWTON        ┆ `ADDRESS` should uniquely │\n",
      "│                      ┆       ┆ CENTRE\",1}]                           ┆ determine `CITY`          │\n",
      "│ 33 UNION ST          ┆ 4     ┆ [{\"WEYMOUTH\",1}, {\"SOUTH              ┆ `ADDRESS` should uniquely │\n",
      "│                      ┆       ┆ WEYMOUTH\",3}]                         ┆ determine `CITY`          │\n",
      "│ 92 FAUNCE CORNER RD  ┆ 10    ┆ [{\"NORTH DARTMOUTH\",1},               ┆ `ADDRESS` should uniquely │\n",
      "│                      ┆       ┆ {\"DARTMOUTH\",9}]                      ┆ determine `CITY`          │\n",
      "└──────────────────────┴───────┴───────────────────────────────────────┴───────────────────────────┘\n",
      "shape: (50, 4)\n",
      "┌───────────────────────┬───────┬─────────────────────────────────────────┬────────────────────────┐\n",
      "│ Column Name: NAME     ┆ count ┆ Col CITY: Value & Count                 ┆ Reason                 │\n",
      "│ ---                   ┆ ---   ┆ ---                                     ┆ ---                    │\n",
      "│ str                   ┆ u32   ┆ list[struct[2]]                         ┆ str                    │\n",
      "╞═══════════════════════╪═══════╪═════════════════════════════════════════╪════════════════════════╡\n",
      "│ Lon587 Lind531        ┆ 2     ┆ [{\"GARDNER\",1}, {\"WORCESTER\",1}]        ┆ `NAME` should uniquely │\n",
      "│                       ┆       ┆                                         ┆ determine `CITY`       │\n",
      "│ Hassan290 Rath779     ┆ 3     ┆ [{\"Brockton\",1}, {\"TAUNTON\",1},         ┆ `NAME` should uniquely │\n",
      "│                       ┆       ┆ {\"PLYMOUTH\",1}]                         ┆ determine `CITY`       │\n",
      "│ Tressa150 Kovacek682  ┆ 2     ┆ [{\"AYER\",1}, {\"TEATICKET\",1}]           ┆ `NAME` should uniquely │\n",
      "│                       ┆       ┆                                         ┆ determine `CITY`       │\n",
      "│ Clint766 Goldner995   ┆ 2     ┆ [{\"NORTHAMPTON\",1}, {\"W CONCORD\",1}]    ┆ `NAME` should uniquely │\n",
      "│                       ┆       ┆                                         ┆ determine `CITY`       │\n",
      "│ …                     ┆ …     ┆ …                                       ┆ …                      │\n",
      "│ Leonor133 Nájera755   ┆ 4     ┆ [{\"Hyannis\",1}, {\"NEWBURYPORT\",1}, …    ┆ `NAME` should uniquely │\n",
      "│                       ┆       ┆ {\"CHELSEA\",1}…                          ┆ determine `CITY`       │\n",
      "│ Crista774 Keebler762  ┆ 3     ┆ [{\"SALISBURY\",1}, {\"BOSTON\",2}]         ┆ `NAME` should uniquely │\n",
      "│                       ┆       ┆                                         ┆ determine `CITY`       │\n",
      "│ Suzette512 Monahan736 ┆ 3     ┆ [{\"Brockton\",1}, {\"FALL RIVER\",1},      ┆ `NAME` should uniquely │\n",
      "│                       ┆       ┆ {\"CAMBRIDGE\",1}…                        ┆ determine `CITY`       │\n",
      "│ Edie35 Howell947      ┆ 2     ┆ [{\"MEDFORD\",1}, {\"SOUTH WEYMOUTH\",1}]   ┆ `NAME` should uniquely │\n",
      "│                       ┆       ┆                                         ┆ determine `CITY`       │\n",
      "└───────────────────────┴───────┴─────────────────────────────────────────┴────────────────────────┘\n",
      "shape: (1, 4)\n",
      "┌──────────────────┬───────┬────────────────────────┬───────────────────────────────────────┐\n",
      "│ Column Name: LAT ┆ count ┆ Col LON: Value & Count ┆ Reason                                │\n",
      "│ ---              ┆ ---   ┆ ---                    ┆ ---                                   │\n",
      "│ f64              ┆ u32   ┆ list[struct[2]]        ┆ str                                   │\n",
      "╞══════════════════╪═══════╪════════════════════════╪═══════════════════════════════════════╡\n",
      "│ 42.455723        ┆ 102   ┆ [{-71.059019,1},       ┆ `LAT` should uniquely determine `LON` │\n",
      "│                  ┆       ┆ {-71.059019,101}]      ┆                                       │\n",
      "└──────────────────┴───────┴────────────────────────┴───────────────────────────────────────┘\n",
      "shape: (20, 4)\n",
      "┌──────────────────┬───────┬───────────────────────────────────┬───────────────────────────────────┐\n",
      "│ Column Name: ZIP ┆ count ┆ Col LON: Value & Count            ┆ Reason                            │\n",
      "│ ---              ┆ ---   ┆ ---                               ┆ ---                               │\n",
      "│ str              ┆ u32   ┆ list[struct[2]]                   ┆ str                               │\n",
      "╞══════════════════╪═══════╪═══════════════════════════════════╪═══════════════════════════════════╡\n",
      "│ 02135-3514       ┆ 55    ┆ [{-71.020173,2}, {-71.018253,53}] ┆ `ZIP` should uniquely determine   │\n",
      "│                  ┆       ┆                                   ┆ `LON`                             │\n",
      "│ 1887             ┆ 2     ┆ [{-71.143865,1}, {-71.136861,1}]  ┆ `ZIP` should uniquely determine   │\n",
      "│                  ┆       ┆                                   ┆ `LON`                             │\n",
      "│ 02601            ┆ 2     ┆ [{-70.294235,1}, {-70.740536,1}]  ┆ `ZIP` should uniquely determine   │\n",
      "│                  ┆       ┆                                   ┆ `LON`                             │\n",
      "│ 01930            ┆ 3     ┆ [{-70.685875,2}, {-70.66085,1}]   ┆ `ZIP` should uniquely determine   │\n",
      "│                  ┆       ┆                                   ┆ `LON`                             │\n",
      "│ …                ┆ …     ┆ …                                 ┆ …                                 │\n",
      "│ 01950            ┆ 4     ┆ [{-70.886646,1}, {-70.891095,3}]  ┆ `ZIP` should uniquely determine   │\n",
      "│                  ┆       ┆                                   ┆ `LON`                             │\n",
      "│ 02360            ┆ 2     ┆ [{-70.656654,1}, {-70.62403,1}]   ┆ `ZIP` should uniquely determine   │\n",
      "│                  ┆       ┆                                   ┆ `LON`                             │\n",
      "│ 02301            ┆ 3     ┆ [{-71.05398,1}, {-71.024638,1},   ┆ `ZIP` should uniquely determine   │\n",
      "│                  ┆       ┆ {-71.06661,1}]                    ┆ `LON`                             │\n",
      "│ 2721             ┆ 3     ┆ [{-71.148062,1}, {-71.16356,1},   ┆ `ZIP` should uniquely determine   │\n",
      "│                  ┆       ┆ {-71.153062,1}]                   ┆ `LON`                             │\n",
      "└──────────────────┴───────┴───────────────────────────────────┴───────────────────────────────────┘\n",
      "shape: (7, 4)\n",
      "┌───────────────────────┬───────┬────────────────────────┬─────────────────────────────────────┐\n",
      "│ Column Name: ADDRESS  ┆ count ┆ Col LON: Value & Count ┆ Reason                              │\n",
      "│ ---                   ┆ ---   ┆ ---                    ┆ ---                                 │\n",
      "│ str                   ┆ u32   ┆ list[struct[2]]        ┆ str                                 │\n",
      "╞═══════════════════════╪═══════╪════════════════════════╪═════════════════════════════════════╡\n",
      "│ 11 NEVINS ST          ┆ 55    ┆ [{-71.018253,53},      ┆ `ADDRESS` should uniquely determine │\n",
      "│                       ┆       ┆ {-71.020173,2}]        ┆ `LON`                               │\n",
      "│ 25 OLD WESTPORT RD    ┆ 4     ┆ [{-70.958229,3},       ┆ `ADDRESS` should uniquely determine │\n",
      "│                       ┆       ┆ {-70.999158,1}]        ┆ `LON`                               │\n",
      "│ 800 WASHINGTON ST     ┆ 3     ┆ [{-71.018253,1},       ┆ `ADDRESS` should uniquely determine │\n",
      "│                       ┆       ┆ {-71.195971,2}]        ┆ `LON`                               │\n",
      "│ 2360 CRANBERRY HWY    ┆ 3     ┆ [{-70.757872,1},       ┆ `ADDRESS` should uniquely determine │\n",
      "│                       ┆       ┆ {-70.740536,2}]        ┆ `LON`                               │\n",
      "│ 92 FAUNCE CORNER RD   ┆ 10    ┆ [{-70.999158,1},       ┆ `ADDRESS` should uniquely determine │\n",
      "│                       ┆       ┆ {-70.958229,9}]        ┆ `LON`                               │\n",
      "│ 800 WASHINGTON STREET ┆ 2     ┆ [{-71.020173,1},       ┆ `ADDRESS` should uniquely determine │\n",
      "│                       ┆       ┆ {-71.195955,1}]        ┆ `LON`                               │\n",
      "│ 271 MAIN ST           ┆ 3     ┆ [{-71.715992,2},       ┆ `ADDRESS` should uniquely determine │\n",
      "│                       ┆       ┆ {-71.097665,1}]        ┆ `LON`                               │\n",
      "└───────────────────────┴───────┴────────────────────────┴─────────────────────────────────────┘\n",
      "shape: (51, 4)\n",
      "┌───────────────────────┬───────┬────────────────────────────────────┬────────────────────────┐\n",
      "│ Column Name: NAME     ┆ count ┆ Col LON: Value & Count             ┆ Reason                 │\n",
      "│ ---                   ┆ ---   ┆ ---                                ┆ ---                    │\n",
      "│ str                   ┆ u32   ┆ list[struct[2]]                    ┆ str                    │\n",
      "╞═══════════════════════╪═══════╪════════════════════════════════════╪════════════════════════╡\n",
      "│ Joe656 Connelly992    ┆ 2     ┆ [{-72.741588,1}, {-71.165065,1}]   ┆ `NAME` should uniquely │\n",
      "│                       ┆       ┆                                    ┆ determine `LON`        │\n",
      "│ Maile198 Frami345     ┆ 2     ┆ [{-71.159085,1}, {-71.208402,1}]   ┆ `NAME` should uniquely │\n",
      "│                       ┆       ┆                                    ┆ determine `LON`        │\n",
      "│ Dorian295 Lind531     ┆ 2     ┆ [{-71.101033,1}, {-71.260947,1}]   ┆ `NAME` should uniquely │\n",
      "│                       ┆       ┆                                    ┆ determine `LON`        │\n",
      "│ Von197 Mraz590        ┆ 3     ┆ [{-72.597063,1}, {-71.80521,1},    ┆ `NAME` should uniquely │\n",
      "│                       ┆       ┆ {-70.88899,1}]                     ┆ determine `LON`        │\n",
      "│ …                     ┆ …     ┆ …                                  ┆ …                      │\n",
      "│ Slyvia34 Nolan344     ┆ 2     ┆ [{-71.165065,1}, {-71.144319,1}]   ┆ `NAME` should uniquely │\n",
      "│                       ┆       ┆                                    ┆ determine `LON`        │\n",
      "│ Hassan290 Rath779     ┆ 3     ┆ [{-70.62403,1}, {-71.106073,1},    ┆ `NAME` should uniquely │\n",
      "│                       ┆       ┆ {-71.06661,1}]                     ┆ determine `LON`        │\n",
      "│ Tiana543 Blick895     ┆ 4     ┆ [{-72.03404,1}, {-71.547214,1}, …  ┆ `NAME` should uniquely │\n",
      "│                       ┆       ┆ {-70.844005,1}]                    ┆ determine `LON`        │\n",
      "│ Lynwood354 Monahan736 ┆ 4     ┆ [{-71.547214,1}, {-72.514674,1}, … ┆ `NAME` should uniquely │\n",
      "│                       ┆       ┆ {-71.020173,1}]                    ┆ determine `LON`        │\n",
      "└───────────────────────┴───────┴────────────────────────────────────┴────────────────────────┘\n",
      "shape: (21, 4)\n",
      "┌──────────────────┬───────┬────────────────────────────────┬─────────────────────────────────┐\n",
      "│ Column Name: ZIP ┆ count ┆ Col LAT: Value & Count         ┆ Reason                          │\n",
      "│ ---              ┆ ---   ┆ ---                            ┆ ---                             │\n",
      "│ str              ┆ u32   ┆ list[struct[2]]                ┆ str                             │\n",
      "╞══════════════════╪═══════╪════════════════════════════════╪═════════════════════════════════╡\n",
      "│ 02747-1242       ┆ 2     ┆ [{41.56651,1}, {41.646686,1}]  ┆ `ZIP` should uniquely determine │\n",
      "│                  ┆       ┆                                ┆ `LAT`                           │\n",
      "│ 2128             ┆ 2     ┆ [{42.36345,1}, {42.371988,1}]  ┆ `ZIP` should uniquely determine │\n",
      "│                  ┆       ┆                                ┆ `LAT`                           │\n",
      "│ 1605             ┆ 2     ┆ [{42.302311,1}, {42.292559,1}] ┆ `ZIP` should uniquely determine │\n",
      "│                  ┆       ┆                                ┆ `LAT`                           │\n",
      "│ 2721             ┆ 3     ┆ [{41.672608,1}, {41.698396,1}, ┆ `ZIP` should uniquely determine │\n",
      "│                  ┆       ┆ {41.695659,1}]                 ┆ `LAT`                           │\n",
      "│ …                ┆ …     ┆ …                              ┆ …                               │\n",
      "│ 02601            ┆ 2     ┆ [{41.651745,1}, {41.748854,1}] ┆ `ZIP` should uniquely determine │\n",
      "│                  ┆       ┆                                ┆ `LAT`                           │\n",
      "│ 01605            ┆ 2     ┆ [{42.297756,1}, {42.269478,1}] ┆ `ZIP` should uniquely determine │\n",
      "│                  ┆       ┆                                ┆ `LAT`                           │\n",
      "│ 02169            ┆ 3     ┆ [{42.261006,2}, {42.272617,1}] ┆ `ZIP` should uniquely determine │\n",
      "│                  ┆       ┆                                ┆ `LAT`                           │\n",
      "│ 01757            ┆ 4     ┆ [{42.158692,1}, {42.158692,3}] ┆ `ZIP` should uniquely determine │\n",
      "│                  ┆       ┆                                ┆ `LAT`                           │\n",
      "└──────────────────┴───────┴────────────────────────────────┴─────────────────────────────────┘\n",
      "shape: (8, 4)\n",
      "┌───────────────────────┬───────┬─────────────────────────────────┬───────────────────────────┐\n",
      "│ Column Name: ADDRESS  ┆ count ┆ Col LAT: Value & Count          ┆ Reason                    │\n",
      "│ ---                   ┆ ---   ┆ ---                             ┆ ---                       │\n",
      "│ str                   ┆ u32   ┆ list[struct[2]]                 ┆ str                       │\n",
      "╞═══════════════════════╪═══════╪═════════════════════════════════╪═══════════════════════════╡\n",
      "│ 800 WASHINGTON STREET ┆ 2     ┆ [{42.33196,1}, {42.18736,1}]    ┆ `ADDRESS` should uniquely │\n",
      "│                       ┆       ┆                                 ┆ determine `LAT`           │\n",
      "│ 800 WASHINGTON ST     ┆ 3     ┆ [{42.187364,2}, {42.338551,1}]  ┆ `ADDRESS` should uniquely │\n",
      "│                       ┆       ┆                                 ┆ determine `LAT`           │\n",
      "│ 2360 CRANBERRY HWY    ┆ 3     ┆ [{41.791736,1}, {41.748854,2}]  ┆ `ADDRESS` should uniquely │\n",
      "│                       ┆       ┆                                 ┆ determine `LAT`           │\n",
      "│ 340 MAPLE ST          ┆ 12    ┆ [{42.349617,1}, {42.349617,11}] ┆ `ADDRESS` should uniquely │\n",
      "│                       ┆       ┆                                 ┆ determine `LAT`           │\n",
      "│ 25 OLD WESTPORT RD    ┆ 4     ┆ [{41.646686,1}, {41.56651,3}]   ┆ `ADDRESS` should uniquely │\n",
      "│                       ┆       ┆                                 ┆ determine `LAT`           │\n",
      "│ 11 NEVINS ST          ┆ 55    ┆ [{42.33196,2}, {42.338551,53}]  ┆ `ADDRESS` should uniquely │\n",
      "│                       ┆       ┆                                 ┆ determine `LAT`           │\n",
      "│ 92 FAUNCE CORNER RD   ┆ 10    ┆ [{41.56651,9}, {41.646686,1}]   ┆ `ADDRESS` should uniquely │\n",
      "│                       ┆       ┆                                 ┆ determine `LAT`           │\n",
      "│ 271 MAIN ST           ┆ 3     ┆ [{42.080784,2}, {42.474208,1}]  ┆ `ADDRESS` should uniquely │\n",
      "│                       ┆       ┆                                 ┆ determine `LAT`           │\n",
      "└───────────────────────┴───────┴─────────────────────────────────┴───────────────────────────┘\n",
      "shape: (51, 4)\n",
      "┌─────────────────────────┬───────┬──────────────────────────────────┬────────────────────────┐\n",
      "│ Column Name: NAME       ┆ count ┆ Col LAT: Value & Count           ┆ Reason                 │\n",
      "│ ---                     ┆ ---   ┆ ---                              ┆ ---                    │\n",
      "│ str                     ┆ u32   ┆ list[struct[2]]                  ┆ str                    │\n",
      "╞═════════════════════════╪═══════╪══════════════════════════════════╪════════════════════════╡\n",
      "│ Garth972 Wyman904       ┆ 4     ┆ [{42.211656,1}, {42.77449,1}, …  ┆ `NAME` should uniquely │\n",
      "│                         ┆       ┆ {42.625777,1}]                   ┆ determine `LAT`        │\n",
      "│ Malinda718 Cassin499    ┆ 3     ┆ [{42.411887,1}, {42.350555,1},   ┆ `NAME` should uniquely │\n",
      "│                         ┆       ┆ {42.34461,1}]                    ┆ determine `LAT`        │\n",
      "│ Von197 Mraz590          ┆ 3     ┆ [{41.642064,1}, {42.586487,1},   ┆ `NAME` should uniquely │\n",
      "│                         ┆       ┆ {42.614671,1}]                   ┆ determine `LAT`        │\n",
      "│ Jc393 Borer986          ┆ 3     ┆ [{42.110065,1}, {42.289437,1},   ┆ `NAME` should uniquely │\n",
      "│                         ┆       ┆ {42.349617,1}]                   ┆ determine `LAT`        │\n",
      "│ …                       ┆ …     ┆ …                                ┆ …                      │\n",
      "│ Colby655 Schowalter414  ┆ 4     ┆ [{42.349617,1}, {41.725351,1}, … ┆ `NAME` should uniquely │\n",
      "│                         ┆       ┆ {42.376077,1}]                   ┆ determine `LAT`        │\n",
      "│ Pedro316 Castellanos521 ┆ 2     ┆ [{42.33196,1}, {42.534279,1}]    ┆ `NAME` should uniquely │\n",
      "│                         ┆       ┆                                  ┆ determine `LAT`        │\n",
      "│ Gaynell126 Streich926   ┆ 3     ┆ [{42.32809,1}, {41.661474,1},    ┆ `NAME` should uniquely │\n",
      "│                         ┆       ┆ {41.931653,1}]                   ┆ determine `LAT`        │\n",
      "│ Vern731 Powlowski563    ┆ 4     ┆ [{42.844794,1}, {42.265556,1}, … ┆ `NAME` should uniquely │\n",
      "│                         ┆       ┆ {42.370051,1}]                   ┆ determine `LAT`        │\n",
      "└─────────────────────────┴───────┴──────────────────────────────────┴────────────────────────┘\n",
      "shape: (34, 4)\n",
      "┌──────────────────────┬───────┬────────────────────────┬─────────────────────────────────────┐\n",
      "│ Column Name: ADDRESS ┆ count ┆ Col ZIP: Value & Count ┆ Reason                              │\n",
      "│ ---                  ┆ ---   ┆ ---                    ┆ ---                                 │\n",
      "│ str                  ┆ u32   ┆ list[struct[2]]        ┆ str                                 │\n",
      "╞══════════════════════╪═══════╪════════════════════════╪═════════════════════════════════════╡\n",
      "│ 1 BROOKLINE PL       ┆ 8     ┆ [{\"02445-7296\",1},     ┆ `ADDRESS` should uniquely determine │\n",
      "│                      ┆       ┆ {\"02445-7237\",1},      ┆ `ZIP`                               │\n",
      "│                      ┆       ┆ {\"02445-7277\"…         ┆                                     │\n",
      "│ 2 S BRIDGE DR        ┆ 6     ┆ [{\"01001-2000\",5},     ┆ `ADDRESS` should uniquely determine │\n",
      "│                      ┆       ┆ {\"01001-2015\",1}]      ┆ `ZIP`                               │\n",
      "│ 1030 PRESIDENT AVE   ┆ 2     ┆ [{\"02720-5929\",1},     ┆ `ADDRESS` should uniquely determine │\n",
      "│                      ┆       ┆ {\"02720-5923\",1}]      ┆ `ZIP`                               │\n",
      "│ 990 PARADISE RD      ┆ 2     ┆ [{\"01907-1395\",1},     ┆ `ADDRESS` should uniquely determine │\n",
      "│                      ┆       ┆ {\"01907-1309\",1}]      ┆ `ZIP`                               │\n",
      "│ …                    ┆ …     ┆ …                      ┆ …                                   │\n",
      "│ 955 MAIN ST          ┆ 14    ┆ [{\"01890-4302\",2},     ┆ `ADDRESS` should uniquely determine │\n",
      "│                      ┆       ┆ {\"01890-4300\",1},      ┆ `ZIP`                               │\n",
      "│                      ┆       ┆ {\"01890-4303\"…         ┆                                     │\n",
      "│ 271 MAIN ST          ┆ 3     ┆ [{\"01516-2170\",2},     ┆ `ADDRESS` should uniquely determine │\n",
      "│                      ┆       ┆ {\"02180-3580\",1}]      ┆ `ZIP`                               │\n",
      "│ 199 REEDSDALE RD     ┆ 5     ┆ [{\"02186-3926\",4},     ┆ `ADDRESS` should uniquely determine │\n",
      "│                      ┆       ┆ {\"02186-3900\",1}]      ┆ `ZIP`                               │\n",
      "│ 101 MAIN ST          ┆ 2     ┆ [{\"02155-4530\",1},     ┆ `ADDRESS` should uniquely determine │\n",
      "│                      ┆       ┆ {\"02155-4540\",1}]      ┆ `ZIP`                               │\n",
      "└──────────────────────┴───────┴────────────────────────┴─────────────────────────────────────┘\n",
      "shape: (51, 4)\n",
      "┌─────────────────────────┬───────┬───────────────────────────────────────┬────────────────────────┐\n",
      "│ Column Name: NAME       ┆ count ┆ Col ZIP: Value & Count                ┆ Reason                 │\n",
      "│ ---                     ┆ ---   ┆ ---                                   ┆ ---                    │\n",
      "│ str                     ┆ u32   ┆ list[struct[2]]                       ┆ str                    │\n",
      "╞═════════════════════════╪═══════╪═══════════════════════════════════════╪════════════════════════╡\n",
      "│ Hassan290 Rath779       ┆ 3     ┆ [{\"02301\",1}, {\"2780\",1},             ┆ `NAME` should uniquely │\n",
      "│                         ┆       ┆ {\"02360\",1}]                          ┆ determine `ZIP`        │\n",
      "│ Pamelia915 Harber290    ┆ 2     ┆ [{\"02215\",1}, {\"2747\",1}]             ┆ `NAME` should uniquely │\n",
      "│                         ┆       ┆                                       ┆ determine `ZIP`        │\n",
      "│ Von197 Mraz590          ┆ 3     ┆ [{\"01420\",1}, {\"2719\",1},             ┆ `NAME` should uniquely │\n",
      "│                         ┆       ┆ {\"01301\",1}]                          ┆ determine `ZIP`        │\n",
      "│ Gertrudis163 Schaden604 ┆ 3     ┆ [{\"02302\",1}, {\"01605\",1},            ┆ `NAME` should uniquely │\n",
      "│                         ┆       ┆ {\"1887\",1}]                           ┆ determine `ZIP`        │\n",
      "│ …                       ┆ …     ┆ …                                     ┆ …                      │\n",
      "│ Wayne846 Mertz280       ┆ 3     ┆ [{\"01104\",1}, {\"01089\",1},            ┆ `NAME` should uniquely │\n",
      "│                         ┆       ┆ {\"2532\",1}]                           ┆ determine `ZIP`        │\n",
      "│ Tiana543 Blick895       ┆ 4     ┆ [{\"01930\",1}, {\"01550\",1}, …          ┆ `NAME` should uniquely │\n",
      "│                         ┆       ┆ {\"2339\",1}]                           ┆ determine `ZIP`        │\n",
      "│ Dorian295 Lind531       ┆ 2     ┆ [{\"02144-2705\",1}, {\"01821-1916\",1}]  ┆ `NAME` should uniquely │\n",
      "│                         ┆       ┆                                       ┆ determine `ZIP`        │\n",
      "│ Fannie183 Kirlin939     ┆ 2     ┆ [{\"01605-3094\",1}, {\"02370-1075\",1}]  ┆ `NAME` should uniquely │\n",
      "│                         ┆       ┆                                       ┆ determine `ZIP`        │\n",
      "└─────────────────────────┴───────┴───────────────────────────────────────┴────────────────────────┘\n",
      "shape: (51, 4)\n",
      "┌────────────────────────────┬───────┬────────────────────────────────────┬────────────────────────┐\n",
      "│ Column Name: NAME          ┆ count ┆ Col ADDRESS: Value & Count         ┆ Reason                 │\n",
      "│ ---                        ┆ ---   ┆ ---                                ┆ ---                    │\n",
      "│ str                        ┆ u32   ┆ list[struct[2]]                    ┆ str                    │\n",
      "╞════════════════════════════╪═══════╪════════════════════════════════════╪════════════════════════╡\n",
      "│ Brittani427 Satterfield305 ┆ 3     ┆ [{\"175 ELM ST\",1}, {\"525 LONG POND ┆ `NAME` should uniquely │\n",
      "│                            ┆       ┆ DRIVE\",1}, {\"88…                   ┆ determine `ADDRESS`    │\n",
      "│ Pedro316 Castellanos521    ┆ 2     ┆ [{\"77 WARREN ST 1ST FLOOR AND 2ND  ┆ `NAME` should uniquely │\n",
      "│                            ┆       ┆ FLOOR\",1}, {\"1 E…                  ┆ determine `ADDRESS`    │\n",
      "│ Patricia625 Salgado989     ┆ 2     ┆ [{\"528 NEWTON STREET\",1}, {\"ONE    ┆ `NAME` should uniquely │\n",
      "│                            ┆       ┆ GENERAL STREET\",1}…                ┆ determine `ADDRESS`    │\n",
      "│ Benton624 Becker968        ┆ 3     ┆ [{\"736 CAMBRIDGE STREET\",1}, {\"116 ┆ `NAME` should uniquely │\n",
      "│                            ┆       ┆ Long Pond Road\"…                   ┆ determine `ADDRESS`    │\n",
      "│ …                          ┆ …     ┆ …                                  ┆ …                      │\n",
      "│ Jamie386 Eichmann909       ┆ 2     ┆ [{\"1 HARBORSIDE DRIVE\",1}, {\"125   ┆ `NAME` should uniquely │\n",
      "│                            ┆       ┆ PARKER HILL AVENU…                 ┆ determine `ADDRESS`    │\n",
      "│ Edie35 Howell947           ┆ 2     ┆ [{\"55 FOGG ROAD\",1}, {\"170         ┆ `NAME` should uniquely │\n",
      "│                            ┆       ┆ GOVERNORS AVENUE\",1}]              ┆ determine `ADDRESS`    │\n",
      "│ Tiana543 Blick895          ┆ 4     ┆ [{\"100 SOUTH STREET\",1}, {\"221     ┆ `NAME` should uniquely │\n",
      "│                            ┆       ┆ BOSTON POST RD\",1},…               ┆ determine `ADDRESS`    │\n",
      "│ Guadalupe206 Valenzuela371 ┆ 3     ┆ [{\"629 PLEASANT STREET\",1}, {\"130  ┆ `NAME` should uniquely │\n",
      "│                            ┆       ┆ Marshall Road\",1…                  ┆ determine `ADDRESS`    │\n",
      "└────────────────────────────┴───────┴────────────────────────────────────┴────────────────────────┘\n",
      "shape: (51, 4)\n",
      "┌────────────────────────┬───────┬──────────────────────────────────────┬──────────────────────────┐\n",
      "│ Column Name: NAME      ┆ count ┆ Col ORGANIZATION: Value & Count      ┆ Reason                   │\n",
      "│ ---                    ┆ ---   ┆ ---                                  ┆ ---                      │\n",
      "│ str                    ┆ u32   ┆ list[struct[2]]                      ┆ str                      │\n",
      "╞════════════════════════╪═══════╪══════════════════════════════════════╪══════════════════════════╡\n",
      "│ Jamie386 Eichmann909   ┆ 2     ┆ [{\"9a7149fa-49fc-3c87-b935-d29c55808 ┆ `NAME` should uniquely   │\n",
      "│                        ┆       ┆ 717\",1}, {\"0f7…                      ┆ determine `ORGANIZATION` │\n",
      "│ Mohammed454 Parisian75 ┆ 3     ┆ [{\"60457c13-adb2-3415-82c5-86ab5dab5 ┆ `NAME` should uniquely   │\n",
      "│                        ┆       ┆ f93\",1}, {\"b06…                      ┆ determine `ORGANIZATION` │\n",
      "│ Clint766 Goldner995    ┆ 2     ┆ [{\"03347b4d-994e-302b-848b-58019a4e2 ┆ `NAME` should uniquely   │\n",
      "│                        ┆       ┆ 74d\",1}, {\"108…                      ┆ determine `ORGANIZATION` │\n",
      "│ Jesús825 Quiroz936     ┆ 3     ┆ [{\"4f3a530e-a2f7-3de0-9a09-c0a70a9ab ┆ `NAME` should uniquely   │\n",
      "│                        ┆       ┆ 894\",1}, {\"18f…                      ┆ determine `ORGANIZATION` │\n",
      "│ …                      ┆ …     ┆ …                                    ┆ …                        │\n",
      "│ Slyvia34 Nolan344      ┆ 2     ┆ [{\"a441cbca-6d65-33ff-980c-d8e58235b ┆ `NAME` should uniquely   │\n",
      "│                        ┆       ┆ 7e5\",1}, {\"f6c…                      ┆ determine `ORGANIZATION` │\n",
      "│ Tiana543 Blick895      ┆ 4     ┆ [{\"4bdaa4c2-c664-3089-aee2-7137abbad ┆ `NAME` should uniquely   │\n",
      "│                        ┆       ┆ 27f\",1}, {\"4e9…                      ┆ determine `ORGANIZATION` │\n",
      "│ Sanford861 Kilback373  ┆ 2     ┆ [{\"e5fefe87-d60d-390a-b563-5a8b493df ┆ `NAME` should uniquely   │\n",
      "│                        ┆       ┆ 9a3\",1}, {\"e78…                      ┆ determine `ORGANIZATION` │\n",
      "│ Patricia625 Salgado989 ┆ 2     ┆ [{\"f1fbcbfb-fcfa-3bd2-b7f4-df20f1b3c ┆ `NAME` should uniquely   │\n",
      "│                        ┆       ┆ 3a4\",1}, {\"4fe…                      ┆ determine `ORGANIZATION` │\n",
      "└────────────────────────┴───────┴──────────────────────────────────────┴──────────────────────────┘\n"
     ]
    }
   ],
   "source": [
    "with pl.Config(fmt_str_lengths=50):\n",
    "    for v in violations:\n",
    "        print(v)"
   ]
  },
  {
   "cell_type": "code",
   "execution_count": null,
   "metadata": {},
   "outputs": [],
   "source": []
  },
  {
   "cell_type": "markdown",
   "metadata": {},
   "source": [
    "# General Data Prescreen"
   ]
  },
  {
   "cell_type": "code",
   "execution_count": 7,
   "metadata": {},
   "outputs": [],
   "source": [
    "import dsds.prescreen as ps"
   ]
  },
  {
   "cell_type": "code",
   "execution_count": 8,
   "metadata": {},
   "outputs": [
    {
     "data": {
      "text/html": [
       "<div><style>\n",
       ".dataframe > thead > tr > th,\n",
       ".dataframe > tbody > tr > td {\n",
       "  text-align: right;\n",
       "  white-space: pre-wrap;\n",
       "}\n",
       "</style>\n",
       "<small>shape: (5, 22)</small><table border=\"1\" class=\"dataframe\"><thead><tr><th>ID</th><th>Gender</th><th>DOB</th><th>Lead_Creation_Date</th><th>City_Code</th><th>City_Category</th><th>Employer_Code</th><th>Employer_Category1</th><th>Employer_Category2</th><th>Monthly_Income</th><th>Customer_Existing_Primary_Bank_Code</th><th>Primary_Bank_Type</th><th>Contacted</th><th>Source</th><th>Source_Category</th><th>Existing_EMI</th><th>Loan_Amount</th><th>Loan_Period</th><th>Interest_Rate</th><th>EMI</th><th>Var1</th><th>Approved</th></tr><tr><td>str</td><td>str</td><td>str</td><td>date</td><td>str</td><td>str</td><td>str</td><td>str</td><td>i64</td><td>f64</td><td>str</td><td>str</td><td>str</td><td>str</td><td>str</td><td>f64</td><td>i64</td><td>i64</td><td>f64</td><td>i64</td><td>i64</td><td>i64</td></tr></thead><tbody><tr><td>&quot;APPC9049317122…</td><td>&quot;Female&quot;</td><td>&quot;23/07/79&quot;</td><td>2016-07-15</td><td>&quot;C10001&quot;</td><td>&quot;A&quot;</td><td>&quot;COM0044082&quot;</td><td>&quot;A&quot;</td><td>4</td><td>2000.0</td><td>&quot;B001&quot;</td><td>&quot;P&quot;</td><td>&quot;N&quot;</td><td>&quot;S122&quot;</td><td>&quot;G&quot;</td><td>0.0</td><td>null</td><td>null</td><td>null</td><td>null</td><td>0</td><td>0</td></tr><tr><td>&quot;APPD4061126334…</td><td>&quot;Male&quot;</td><td>&quot;07/12/86&quot;</td><td>2016-07-04</td><td>&quot;C10003&quot;</td><td>&quot;A&quot;</td><td>&quot;COM0000002&quot;</td><td>&quot;C&quot;</td><td>1</td><td>3500.0</td><td>&quot;B002&quot;</td><td>&quot;P&quot;</td><td>&quot;Y&quot;</td><td>&quot;S122&quot;</td><td>&quot;G&quot;</td><td>0.0</td><td>20000</td><td>2</td><td>13.25</td><td>953</td><td>10</td><td>0</td></tr><tr><td>&quot;APPE7028924942…</td><td>&quot;Male&quot;</td><td>&quot;10/12/82&quot;</td><td>2016-07-19</td><td>&quot;C10125&quot;</td><td>&quot;C&quot;</td><td>&quot;COM0005267&quot;</td><td>&quot;C&quot;</td><td>4</td><td>2250.0</td><td>&quot;B003&quot;</td><td>&quot;G&quot;</td><td>&quot;Y&quot;</td><td>&quot;S143&quot;</td><td>&quot;B&quot;</td><td>0.0</td><td>45000</td><td>4</td><td>null</td><td>null</td><td>0</td><td>0</td></tr><tr><td>&quot;APPF8027386553…</td><td>&quot;Male&quot;</td><td>&quot;30/01/89&quot;</td><td>2016-07-09</td><td>&quot;C10477&quot;</td><td>&quot;C&quot;</td><td>&quot;COM0004143&quot;</td><td>&quot;A&quot;</td><td>4</td><td>3500.0</td><td>&quot;B003&quot;</td><td>&quot;G&quot;</td><td>&quot;Y&quot;</td><td>&quot;S143&quot;</td><td>&quot;B&quot;</td><td>0.0</td><td>92000</td><td>5</td><td>null</td><td>null</td><td>7</td><td>0</td></tr><tr><td>&quot;APPG6099443664…</td><td>&quot;Male&quot;</td><td>&quot;19/04/85&quot;</td><td>2016-07-20</td><td>&quot;C10002&quot;</td><td>&quot;A&quot;</td><td>&quot;COM0001781&quot;</td><td>&quot;A&quot;</td><td>4</td><td>10000.0</td><td>&quot;B001&quot;</td><td>&quot;P&quot;</td><td>&quot;Y&quot;</td><td>&quot;S134&quot;</td><td>&quot;B&quot;</td><td>2500.0</td><td>50000</td><td>2</td><td>null</td><td>null</td><td>10</td><td>0</td></tr></tbody></table></div>"
      ],
      "text/plain": [
       "shape: (5, 22)\n",
       "┌────────────────┬────────┬──────────┬────────────────┬───┬───────────────┬──────┬──────┬──────────┐\n",
       "│ ID             ┆ Gender ┆ DOB      ┆ Lead_Creation_ ┆ … ┆ Interest_Rate ┆ EMI  ┆ Var1 ┆ Approved │\n",
       "│ ---            ┆ ---    ┆ ---      ┆ Date           ┆   ┆ ---           ┆ ---  ┆ ---  ┆ ---      │\n",
       "│ str            ┆ str    ┆ str      ┆ ---            ┆   ┆ f64           ┆ i64  ┆ i64  ┆ i64      │\n",
       "│                ┆        ┆          ┆ date           ┆   ┆               ┆      ┆      ┆          │\n",
       "╞════════════════╪════════╪══════════╪════════════════╪═══╪═══════════════╪══════╪══════╪══════════╡\n",
       "│ APPC9049317122 ┆ Female ┆ 23/07/79 ┆ 2016-07-15     ┆ … ┆ null          ┆ null ┆ 0    ┆ 0        │\n",
       "│ 5              ┆        ┆          ┆                ┆   ┆               ┆      ┆      ┆          │\n",
       "│ APPD4061126334 ┆ Male   ┆ 07/12/86 ┆ 2016-07-04     ┆ … ┆ 13.25         ┆ 953  ┆ 10   ┆ 0        │\n",
       "│ 4              ┆        ┆          ┆                ┆   ┆               ┆      ┆      ┆          │\n",
       "│ APPE7028924942 ┆ Male   ┆ 10/12/82 ┆ 2016-07-19     ┆ … ┆ null          ┆ null ┆ 0    ┆ 0        │\n",
       "│ 3              ┆        ┆          ┆                ┆   ┆               ┆      ┆      ┆          │\n",
       "│ APPF8027386553 ┆ Male   ┆ 30/01/89 ┆ 2016-07-09     ┆ … ┆ null          ┆ null ┆ 7    ┆ 0        │\n",
       "│ 7              ┆        ┆          ┆                ┆   ┆               ┆      ┆      ┆          │\n",
       "│ APPG6099443664 ┆ Male   ┆ 19/04/85 ┆ 2016-07-20     ┆ … ┆ null          ┆ null ┆ 10   ┆ 0        │\n",
       "│ 1              ┆        ┆          ┆                ┆   ┆               ┆      ┆      ┆          │\n",
       "└────────────────┴────────┴──────────┴────────────────┴───┴───────────────┴──────┴──────┴──────────┘"
      ]
     },
     "execution_count": 8,
     "metadata": {},
     "output_type": "execute_result"
    }
   ],
   "source": [
    "df = pl.read_csv(\"../data/train2.csv\").with_columns(\n",
    "    pl.col(\"Lead_Creation_Date\").str.to_date(format=r\"%d/%m/%y\")\n",
    ")\n",
    "df.head()"
   ]
  },
  {
   "cell_type": "code",
   "execution_count": 9,
   "metadata": {},
   "outputs": [
    {
     "data": {
      "text/html": [
       "<div><style>\n",
       ".dataframe > thead > tr > th,\n",
       ".dataframe > tbody > tr > td {\n",
       "  text-align: right;\n",
       "  white-space: pre-wrap;\n",
       "}\n",
       "</style>\n",
       "<small>shape: (21, 12)</small><table border=\"1\" class=\"dataframe\"><thead><tr><th>feature</th><th>year</th><th>month</th><th>count</th><th>5%_quantile</th><th>95%_quantile</th><th>null%</th><th>mean</th><th>null_PoP_%diff</th><th>mean_PoP_%diff</th><th>null_%diff_overall</th><th>mean_%diff_overall</th></tr><tr><td>str</td><td>i32</td><td>u32</td><td>u32</td><td>f64</td><td>f64</td><td>f64</td><td>f64</td><td>f64</td><td>f64</td><td>f64</td><td>f64</td></tr></thead><tbody><tr><td>&quot;Approved&quot;</td><td>2016</td><td>7</td><td>21576</td><td>0.0</td><td>0.0</td><td>0.0</td><td>0.014368</td><td>null</td><td>null</td><td>inf</td><td>-0.018016</td></tr><tr><td>&quot;Approved&quot;</td><td>2016</td><td>8</td><td>22404</td><td>0.0</td><td>0.0</td><td>0.0</td><td>0.016247</td><td>inf</td><td>0.130798</td><td>inf</td><td>0.110425</td></tr><tr><td>&quot;Approved&quot;</td><td>2016</td><td>9</td><td>25733</td><td>0.0</td><td>0.0</td><td>0.0</td><td>0.013446</td><td>inf</td><td>-0.17242</td><td>inf</td><td>-0.081034</td></tr><tr><td>&quot;EMI&quot;</td><td>2016</td><td>7</td><td>21576</td><td>349.0</td><td>2457.0</td><td>0.645578</td><td>1072.715706</td><td>null</td><td>null</td><td>-0.051264</td><td>-0.026102</td></tr><tr><td>&quot;EMI&quot;</td><td>2016</td><td>8</td><td>22404</td><td>318.0</td><td>2594.0</td><td>0.666756</td><td>1101.787168</td><td>0.032804</td><td>0.027101</td><td>-0.020141</td><td>0.000291</td></tr><tr><td>&quot;EMI&quot;</td><td>2016</td><td>9</td><td>25733</td><td>346.0</td><td>2693.0</td><td>0.721641</td><td>1131.824934</td><td>0.082317</td><td>0.027263</td><td>0.060518</td><td>0.027562</td></tr><tr><td>&quot;Existing_EMI&quot;</td><td>2016</td><td>7</td><td>21576</td><td>0.0</td><td>1940.0</td><td>0.0</td><td>399.605358</td><td>null</td><td>null</td><td>-1.0</td><td>0.107159</td></tr><tr><td>&quot;Existing_EMI&quot;</td><td>2016</td><td>8</td><td>22404</td><td>0.0</td><td>1830.0</td><td>0.000089</td><td>376.982564</td><td>inf</td><td>-0.056613</td><td>-0.877975</td><td>0.044479</td></tr><tr><td>&quot;Existing_EMI&quot;</td><td>2016</td><td>9</td><td>25733</td><td>0.0</td><td>1650.0</td><td>0.001904</td><td>314.435838</td><td>20.330509</td><td>-0.165914</td><td>1.602851</td><td>-0.128815</td></tr><tr><td>&quot;Interest_Rate&quot;</td><td>2016</td><td>7</td><td>21576</td><td>13.49</td><td>24.0</td><td>0.645578</td><td>17.934755</td><td>null</td><td>null</td><td>-0.051264</td><td>-0.066558</td></tr><tr><td>&quot;Interest_Rate&quot;</td><td>2016</td><td>8</td><td>22404</td><td>13.5</td><td>31.5</td><td>0.666756</td><td>19.258886</td><td>0.032804</td><td>0.07383</td><td>-0.020141</td><td>0.002359</td></tr><tr><td>&quot;Interest_Rate&quot;</td><td>2016</td><td>9</td><td>25733</td><td>13.5</td><td>35.5</td><td>0.721641</td><td>20.531561</td><td>0.082317</td><td>0.066082</td><td>0.060518</td><td>0.068597</td></tr><tr><td>&quot;Loan_Amount&quot;</td><td>2016</td><td>7</td><td>21576</td><td>10000.0</td><td>100000.0</td><td>0.360632</td><td>39891.772381</td><td>null</td><td>null</td><td>-0.092686</td><td>0.011712</td></tr><tr><td>&quot;Loan_Amount&quot;</td><td>2016</td><td>8</td><td>22404</td><td>10000.0</td><td>100000.0</td><td>0.355115</td><td>39695.736434</td><td>-0.015298</td><td>-0.004914</td><td>-0.106567</td><td>0.00674</td></tr><tr><td>&quot;Loan_Amount&quot;</td><td>2016</td><td>9</td><td>25733</td><td>10000.0</td><td>100000.0</td><td>0.465239</td><td>38688.031393</td><td>0.310108</td><td>-0.025386</td><td>0.170494</td><td>-0.018817</td></tr><tr><td>&quot;Loan_Period&quot;</td><td>2016</td><td>7</td><td>21576</td><td>2.0</td><td>5.0</td><td>0.360632</td><td>4.073505</td><td>null</td><td>null</td><td>-0.092686</td><td>0.047004</td></tr><tr><td>&quot;Loan_Period&quot;</td><td>2016</td><td>8</td><td>22404</td><td>2.0</td><td>5.0</td><td>0.355115</td><td>3.893549</td><td>-0.015298</td><td>-0.044177</td><td>-0.106567</td><td>0.00075</td></tr><tr><td>&quot;Loan_Period&quot;</td><td>2016</td><td>9</td><td>25733</td><td>2.0</td><td>5.0</td><td>0.465239</td><td>3.704237</td><td>0.310108</td><td>-0.048622</td><td>0.170494</td><td>-0.047908</td></tr><tr><td>&quot;Var1&quot;</td><td>2016</td><td>7</td><td>21576</td><td>0.0</td><td>10.0</td><td>0.0</td><td>4.526187</td><td>null</td><td>null</td><td>inf</td><td>0.146321</td></tr><tr><td>&quot;Var1&quot;</td><td>2016</td><td>8</td><td>22404</td><td>0.0</td><td>10.0</td><td>0.0</td><td>4.153767</td><td>inf</td><td>-0.082281</td><td>inf</td><td>0.052001</td></tr><tr><td>&quot;Var1&quot;</td><td>2016</td><td>9</td><td>25733</td><td>0.0</td><td>10.0</td><td>0.0</td><td>3.285276</td><td>inf</td><td>-0.209085</td><td>inf</td><td>-0.167957</td></tr></tbody></table></div>"
      ],
      "text/plain": [
       "shape: (21, 12)\n",
       "┌─────────────┬──────┬───────┬───────┬───┬──────────────┬──────────────┬─────────────┬─────────────┐\n",
       "│ feature     ┆ year ┆ month ┆ count ┆ … ┆ null_PoP_%di ┆ mean_PoP_%di ┆ null_%diff_ ┆ mean_%diff_ │\n",
       "│ ---         ┆ ---  ┆ ---   ┆ ---   ┆   ┆ ff           ┆ ff           ┆ overall     ┆ overall     │\n",
       "│ str         ┆ i32  ┆ u32   ┆ u32   ┆   ┆ ---          ┆ ---          ┆ ---         ┆ ---         │\n",
       "│             ┆      ┆       ┆       ┆   ┆ f64          ┆ f64          ┆ f64         ┆ f64         │\n",
       "╞═════════════╪══════╪═══════╪═══════╪═══╪══════════════╪══════════════╪═════════════╪═════════════╡\n",
       "│ Approved    ┆ 2016 ┆ 7     ┆ 21576 ┆ … ┆ null         ┆ null         ┆ inf         ┆ -0.018016   │\n",
       "│ Approved    ┆ 2016 ┆ 8     ┆ 22404 ┆ … ┆ inf          ┆ 0.130798     ┆ inf         ┆ 0.110425    │\n",
       "│ Approved    ┆ 2016 ┆ 9     ┆ 25733 ┆ … ┆ inf          ┆ -0.17242     ┆ inf         ┆ -0.081034   │\n",
       "│ EMI         ┆ 2016 ┆ 7     ┆ 21576 ┆ … ┆ null         ┆ null         ┆ -0.051264   ┆ -0.026102   │\n",
       "│ …           ┆ …    ┆ …     ┆ …     ┆ … ┆ …            ┆ …            ┆ …           ┆ …           │\n",
       "│ Loan_Period ┆ 2016 ┆ 9     ┆ 25733 ┆ … ┆ 0.310108     ┆ -0.048622    ┆ 0.170494    ┆ -0.047908   │\n",
       "│ Var1        ┆ 2016 ┆ 7     ┆ 21576 ┆ … ┆ null         ┆ null         ┆ inf         ┆ 0.146321    │\n",
       "│ Var1        ┆ 2016 ┆ 8     ┆ 22404 ┆ … ┆ inf          ┆ -0.082281    ┆ inf         ┆ 0.052001    │\n",
       "│ Var1        ┆ 2016 ┆ 9     ┆ 25733 ┆ … ┆ inf          ┆ -0.209085    ┆ inf         ┆ -0.167957   │\n",
       "└─────────────┴──────┴───────┴───────┴───┴──────────────┴──────────────┴─────────────┴─────────────┘"
      ]
     },
     "execution_count": 9,
     "metadata": {},
     "output_type": "execute_result"
    }
   ],
   "source": [
    "ps.over_time_report_num(\n",
    "    df,\n",
    "    time_col = \"Lead_Creation_Date\",\n",
    "    cols = [\"Interest_Rate\", \"Loan_Period\", \"Loan_Amount\", \"Existing_EMI\", \"EMI\", \"Var1\", \"Approved\"],\n",
    "    interval = \"monthly\"\n",
    ")"
   ]
  },
  {
   "cell_type": "code",
   "execution_count": 10,
   "metadata": {},
   "outputs": [
    {
     "data": {
      "text/html": [
       "<div><style>\n",
       ".dataframe > thead > tr > th,\n",
       ".dataframe > tbody > tr > td {\n",
       "  text-align: right;\n",
       "  white-space: pre-wrap;\n",
       "}\n",
       "</style>\n",
       "<small>shape: (6, 3)</small><table border=\"1\" class=\"dataframe\"><thead><tr><th>features</th><th>Approved</th><th>Var1</th></tr><tr><td>str</td><td>f64</td><td>f64</td></tr></thead><tbody><tr><td>&quot;Interest_Rate&quot;</td><td>-0.094387</td><td>-0.554138</td></tr><tr><td>&quot;Loan_Period&quot;</td><td>-0.000375</td><td>-0.065702</td></tr><tr><td>&quot;Loan_Amount&quot;</td><td>0.046502</td><td>0.307945</td></tr><tr><td>&quot;Existing_EMI&quot;</td><td>0.027821</td><td>0.00662</td></tr><tr><td>&quot;EMI&quot;</td><td>0.050129</td><td>0.293474</td></tr><tr><td>&quot;Approved&quot;</td><td>1.0</td><td>0.11244</td></tr></tbody></table></div>"
      ],
      "text/plain": [
       "shape: (6, 3)\n",
       "┌───────────────┬───────────┬───────────┐\n",
       "│ features      ┆ Approved  ┆ Var1      │\n",
       "│ ---           ┆ ---       ┆ ---       │\n",
       "│ str           ┆ f64       ┆ f64       │\n",
       "╞═══════════════╪═══════════╪═══════════╡\n",
       "│ Interest_Rate ┆ -0.094387 ┆ -0.554138 │\n",
       "│ Loan_Period   ┆ -0.000375 ┆ -0.065702 │\n",
       "│ Loan_Amount   ┆ 0.046502  ┆ 0.307945  │\n",
       "│ Existing_EMI  ┆ 0.027821  ┆ 0.00662   │\n",
       "│ EMI           ┆ 0.050129  ┆ 0.293474  │\n",
       "│ Approved      ┆ 1.0       ┆ 0.11244   │\n",
       "└───────────────┴───────────┴───────────┘"
      ]
     },
     "execution_count": 10,
     "metadata": {},
     "output_type": "execute_result"
    }
   ],
   "source": [
    "ps.corr_report(\n",
    "    df\n",
    "    , features = [\"Interest_Rate\", \"Loan_Period\", \"Loan_Amount\", \"Existing_EMI\", \"EMI\", \"Approved\"]\n",
    "    , targets = [\"Approved\", \"Var1\"]\n",
    ")"
   ]
  },
  {
   "cell_type": "code",
   "execution_count": 11,
   "metadata": {},
   "outputs": [
    {
     "data": {
      "text/html": [
       "<div><style>\n",
       ".dataframe > thead > tr > th,\n",
       ".dataframe > tbody > tr > td {\n",
       "  text-align: right;\n",
       "  white-space: pre-wrap;\n",
       "}\n",
       "</style>\n",
       "<small>shape: (0, 3)</small><table border=\"1\" class=\"dataframe\"><thead><tr><th>features</th><th>corr &gt; 0.50</th><th>corr &lt; -0.50</th></tr><tr><td>str</td><td>list[null]</td><td>list[null]</td></tr></thead><tbody></tbody></table></div>"
      ],
      "text/plain": [
       "shape: (0, 3)\n",
       "┌──────────┬─────────────┬──────────────┐\n",
       "│ features ┆ corr > 0.50 ┆ corr < -0.50 │\n",
       "│ ---      ┆ ---         ┆ ---          │\n",
       "│ str      ┆ list[null]  ┆ list[null]   │\n",
       "╞══════════╪═════════════╪══════════════╡\n",
       "└──────────┴─────────────┴──────────────┘"
      ]
     },
     "execution_count": 11,
     "metadata": {},
     "output_type": "execute_result"
    }
   ],
   "source": [
    "ps.infer_highly_correlated(\n",
    "    df, threshold=0.5\n",
    ")"
   ]
  },
  {
   "cell_type": "code",
   "execution_count": 12,
   "metadata": {},
   "outputs": [
    {
     "data": {
      "text/html": [
       "<div><style>\n",
       ".dataframe > thead > tr > th,\n",
       ".dataframe > tbody > tr > td {\n",
       "  text-align: right;\n",
       "  white-space: pre-wrap;\n",
       "}\n",
       "</style>\n",
       "<small>shape: (12, 11)</small><table border=\"1\" class=\"dataframe\"><thead><tr><th>feature</th><th>n_unique</th><th>has_null</th><th>category_w_min_count</th><th>min_count</th><th>category_w_max_count</th><th>max_count</th><th>avg_count</th><th>min_successive_diff</th><th>avg_successive_diff</th><th>max_successive_diff</th></tr><tr><td>str</td><td>u32</td><td>bool</td><td>str</td><td>u32</td><td>str</td><td>u32</td><td>f64</td><td>i64</td><td>f64</td><td>i64</td></tr></thead><tbody><tr><td>&quot;ID&quot;</td><td>69713</td><td>false</td><td>&quot;APPA1000090502…</td><td>1</td><td>&quot;APPZ9099717294…</td><td>1</td><td>1.0</td><td>0</td><td>0.0</td><td>0</td></tr><tr><td>&quot;Gender&quot;</td><td>2</td><td>false</td><td>&quot;Female&quot;</td><td>29764</td><td>&quot;Male&quot;</td><td>39949</td><td>34856.5</td><td>10185</td><td>10185.0</td><td>10185</td></tr><tr><td>&quot;DOB&quot;</td><td>10760</td><td>true</td><td>&quot;01/01/53&quot;</td><td>1</td><td>&quot;11/01/82&quot;</td><td>253</td><td>6.478903</td><td>0</td><td>0.023422</td><td>70</td></tr><tr><td>&quot;City_Code&quot;</td><td>679</td><td>true</td><td>&quot;C10435&quot;</td><td>1</td><td>&quot;C10001&quot;</td><td>10007</td><td>102.670103</td><td>0</td><td>14.758112</td><td>2823</td></tr><tr><td>&quot;City_Category&quot;</td><td>4</td><td>true</td><td>null</td><td>814</td><td>&quot;A&quot;</td><td>49885</td><td>17428.25</td><td>4374</td><td>16357.0</td><td>38191</td></tr><tr><td>&quot;Employer_Code&quot;</td><td>36618</td><td>true</td><td>&quot;COM0001195&quot;</td><td>1</td><td>null</td><td>4018</td><td>1.90379</td><td>0</td><td>0.109703</td><td>3561</td></tr><tr><td>&quot;Employer_Categ…</td><td>4</td><td>true</td><td>null</td><td>4018</td><td>&quot;A&quot;</td><td>33336</td><td>17428.25</td><td>3753</td><td>9772.666667</td><td>15280</td></tr><tr><td>&quot;Customer_Exist…</td><td>58</td><td>true</td><td>&quot;B057&quot;</td><td>1</td><td>&quot;B001&quot;</td><td>14197</td><td>1201.948276</td><td>0</td><td>249.052632</td><td>5150</td></tr><tr><td>&quot;Primary_Bank_T…</td><td>3</td><td>true</td><td>null</td><td>9391</td><td>&quot;P&quot;</td><td>39619</td><td>23237.666667</td><td>11312</td><td>15114.0</td><td>18916</td></tr><tr><td>&quot;Contacted&quot;</td><td>2</td><td>false</td><td>&quot;N&quot;</td><td>24438</td><td>&quot;Y&quot;</td><td>45275</td><td>34856.5</td><td>20837</td><td>20837.0</td><td>20837</td></tr><tr><td>&quot;Source&quot;</td><td>29</td><td>false</td><td>&quot;S130&quot;</td><td>1</td><td>&quot;S122&quot;</td><td>30941</td><td>2403.896552</td><td>0</td><td>1105.0</td><td>19403</td></tr><tr><td>&quot;Source_Categor…</td><td>7</td><td>false</td><td>&quot;A&quot;</td><td>3</td><td>&quot;B&quot;</td><td>29812</td><td>9959.0</td><td>38</td><td>4968.166667</td><td>15144</td></tr></tbody></table></div>"
      ],
      "text/plain": [
       "shape: (12, 11)\n",
       "┌────────────┬──────────┬──────────┬───────────┬───┬───────────┬───────────┬───────────┬───────────┐\n",
       "│ feature    ┆ n_unique ┆ has_null ┆ category_ ┆ … ┆ avg_count ┆ min_succe ┆ avg_succe ┆ max_succe │\n",
       "│ ---        ┆ ---      ┆ ---      ┆ w_min_cou ┆   ┆ ---       ┆ ssive_dif ┆ ssive_dif ┆ ssive_dif │\n",
       "│ str        ┆ u32      ┆ bool     ┆ nt        ┆   ┆ f64       ┆ f         ┆ f         ┆ f         │\n",
       "│            ┆          ┆          ┆ ---       ┆   ┆           ┆ ---       ┆ ---       ┆ ---       │\n",
       "│            ┆          ┆          ┆ str       ┆   ┆           ┆ i64       ┆ f64       ┆ i64       │\n",
       "╞════════════╪══════════╪══════════╪═══════════╪═══╪═══════════╪═══════════╪═══════════╪═══════════╡\n",
       "│ ID         ┆ 69713    ┆ false    ┆ APPA10000 ┆ … ┆ 1.0       ┆ 0         ┆ 0.0       ┆ 0         │\n",
       "│            ┆          ┆          ┆ 905029    ┆   ┆           ┆           ┆           ┆           │\n",
       "│ Gender     ┆ 2        ┆ false    ┆ Female    ┆ … ┆ 34856.5   ┆ 10185     ┆ 10185.0   ┆ 10185     │\n",
       "│ DOB        ┆ 10760    ┆ true     ┆ 01/01/53  ┆ … ┆ 6.478903  ┆ 0         ┆ 0.023422  ┆ 70        │\n",
       "│ City_Code  ┆ 679      ┆ true     ┆ C10435    ┆ … ┆ 102.67010 ┆ 0         ┆ 14.758112 ┆ 2823      │\n",
       "│            ┆          ┆          ┆           ┆   ┆ 3         ┆           ┆           ┆           │\n",
       "│ …          ┆ …        ┆ …        ┆ …         ┆ … ┆ …         ┆ …         ┆ …         ┆ …         │\n",
       "│ Primary_Ba ┆ 3        ┆ true     ┆ null      ┆ … ┆ 23237.666 ┆ 11312     ┆ 15114.0   ┆ 18916     │\n",
       "│ nk_Type    ┆          ┆          ┆           ┆   ┆ 667       ┆           ┆           ┆           │\n",
       "│ Contacted  ┆ 2        ┆ false    ┆ N         ┆ … ┆ 34856.5   ┆ 20837     ┆ 20837.0   ┆ 20837     │\n",
       "│ Source     ┆ 29       ┆ false    ┆ S130      ┆ … ┆ 2403.8965 ┆ 0         ┆ 1105.0    ┆ 19403     │\n",
       "│            ┆          ┆          ┆           ┆   ┆ 52        ┆           ┆           ┆           │\n",
       "│ Source_Cat ┆ 7        ┆ false    ┆ A         ┆ … ┆ 9959.0    ┆ 38        ┆ 4968.1666 ┆ 15144     │\n",
       "│ egory      ┆          ┆          ┆           ┆   ┆           ┆           ┆ 67        ┆           │\n",
       "└────────────┴──────────┴──────────┴───────────┴───┴───────────┴───────────┴───────────┴───────────┘"
      ]
     },
     "execution_count": 12,
     "metadata": {},
     "output_type": "execute_result"
    }
   ],
   "source": [
    "ps.str_cats_report(df)"
   ]
  },
  {
   "cell_type": "code",
   "execution_count": 13,
   "metadata": {},
   "outputs": [
    {
     "data": {
      "text/plain": [
       "['Lead_Creation_Date']"
      ]
     },
     "execution_count": 13,
     "metadata": {},
     "output_type": "execute_result"
    }
   ],
   "source": [
    "ps.get_datetime_cols(df)"
   ]
  },
  {
   "cell_type": "code",
   "execution_count": 15,
   "metadata": {},
   "outputs": [
    {
     "data": {
      "text/plain": [
       "True"
      ]
     },
     "execution_count": 15,
     "metadata": {},
     "output_type": "execute_result"
    }
   ],
   "source": [
    "ps.check_binary_target(df, \"Approved\")"
   ]
  },
  {
   "cell_type": "code",
   "execution_count": 16,
   "metadata": {},
   "outputs": [
    {
     "data": {
      "text/plain": [
       "['Interest_Rate', 'EMI']"
      ]
     },
     "execution_count": 16,
     "metadata": {},
     "output_type": "execute_result"
    }
   ],
   "source": [
    "ps.infer_nulls(df)"
   ]
  },
  {
   "cell_type": "code",
   "execution_count": 21,
   "metadata": {},
   "outputs": [
    {
     "data": {
      "text/plain": [
       "['ID']"
      ]
     },
     "execution_count": 21,
     "metadata": {},
     "output_type": "execute_result"
    }
   ],
   "source": [
    "ps.infer_highly_unique(df)"
   ]
  },
  {
   "cell_type": "code",
   "execution_count": 22,
   "metadata": {},
   "outputs": [
    {
     "data": {
      "text/plain": [
       "[]"
      ]
     },
     "execution_count": 22,
     "metadata": {},
     "output_type": "execute_result"
    }
   ],
   "source": [
    "ps.infer_constants(df)"
   ]
  },
  {
   "cell_type": "code",
   "execution_count": null,
   "metadata": {},
   "outputs": [],
   "source": []
  }
 ],
 "metadata": {
  "kernelspec": {
   "display_name": ".venv",
   "language": "python",
   "name": "python3"
  },
  "language_info": {
   "codemirror_mode": {
    "name": "ipython",
    "version": 3
   },
   "file_extension": ".py",
   "mimetype": "text/x-python",
   "name": "python",
   "nbconvert_exporter": "python",
   "pygments_lexer": "ipython3",
   "version": "3.11.3"
  }
 },
 "nbformat": 4,
 "nbformat_minor": 2
}
