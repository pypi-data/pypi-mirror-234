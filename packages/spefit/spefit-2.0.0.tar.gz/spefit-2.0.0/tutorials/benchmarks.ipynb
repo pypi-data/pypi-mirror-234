{
 "cells": [
  {
   "cell_type": "markdown",
   "metadata": {},
   "source": [
    "# Benchmarks\n",
    "\n",
    "A major priority of this package is to ensure the algorithms provided for fitting the SPE spectra are optimised to minimise execution time. Changes to the package should be assessed against this benchmarking notebook to ensure the changes have not resulted in a reduced efficiency."
   ]
  },
  {
   "cell_type": "code",
   "execution_count": 1,
   "metadata": {
    "ExecuteTime": {
     "start_time": "2023-10-06T10:50:05.155361Z",
     "end_time": "2023-10-06T10:50:10.113629Z"
    }
   },
   "outputs": [
    {
     "name": "stderr",
     "output_type": "stream",
     "text": [
      "/Users/Jason/Software/spefit/spefit/fitter.py:6: TqdmExperimentalWarning: Using `tqdm.autonotebook.tqdm` in notebook mode. Use `tqdm.tqdm` instead to force console mode (e.g. in jupyter console)\n",
      "  from tqdm.autonotebook import trange\n"
     ]
    }
   ],
   "source": [
    "from spefit.pdf import PDF, PMTSingleGaussian\n",
    "from spefit.cost import Cost\n",
    "from spefit.container import ChargeContainer\n",
    "from spefit.fitter import CameraFitter, minimize_with_iminuit\n",
    "import numpy as np\n",
    "import pandas as pd\n",
    "pd.options.display.float_format = '{:,.2e}'.format"
   ]
  },
  {
   "cell_type": "markdown",
   "metadata": {},
   "source": [
    "## 1. PDF Class Calling"
   ]
  },
  {
   "cell_type": "code",
   "execution_count": 2,
   "metadata": {
    "ExecuteTime": {
     "start_time": "2023-10-06T10:50:10.167489Z",
     "end_time": "2023-10-06T10:50:11.435546Z"
    }
   },
   "outputs": [],
   "source": [
    "x = np.linspace(-5, 10, 1000)\n",
    "time_dict = {}\n",
    "for pdf_class in PDF.__subclasses__():\n",
    "    pdf = pdf_class(n_illuminations=3)\n",
    "    parameters = np.array(list(pdf.initial.values()))  # Use the initial values set in the PDF\n",
    "    time = %timeit -q -o pdf(x, parameters, 0)\n",
    "    time_dict[pdf_class.__name__] = time.average"
   ]
  },
  {
   "cell_type": "code",
   "execution_count": 3,
   "metadata": {
    "ExecuteTime": {
     "start_time": "2023-10-06T10:50:11.441759Z",
     "end_time": "2023-10-06T10:50:11.454716Z"
    }
   },
   "outputs": [
    {
     "data": {
      "text/plain": "                     Time (seconds)\nPMTSingleGaussian          7.01e-05\nSiPMGentile                1.07e-04\nSiPMModifiedPoisson        1.13e-04",
      "text/html": "<div>\n<style scoped>\n    .dataframe tbody tr th:only-of-type {\n        vertical-align: middle;\n    }\n\n    .dataframe tbody tr th {\n        vertical-align: top;\n    }\n\n    .dataframe thead th {\n        text-align: right;\n    }\n</style>\n<table border=\"1\" class=\"dataframe\">\n  <thead>\n    <tr style=\"text-align: right;\">\n      <th></th>\n      <th>Time (seconds)</th>\n    </tr>\n  </thead>\n  <tbody>\n    <tr>\n      <th>PMTSingleGaussian</th>\n      <td>7.01e-05</td>\n    </tr>\n    <tr>\n      <th>SiPMGentile</th>\n      <td>1.07e-04</td>\n    </tr>\n    <tr>\n      <th>SiPMModifiedPoisson</th>\n      <td>1.13e-04</td>\n    </tr>\n  </tbody>\n</table>\n</div>"
     },
     "execution_count": 3,
     "metadata": {},
     "output_type": "execute_result"
    }
   ],
   "source": [
    "df = pd.DataFrame.from_dict(time_dict, orient=\"index\")\n",
    "df.rename({0: \"Time (seconds)\"}, axis='columns')"
   ]
  },
  {
   "cell_type": "markdown",
   "metadata": {},
   "source": [
    "## 2. Cost Calling"
   ]
  },
  {
   "cell_type": "code",
   "execution_count": 4,
   "metadata": {
    "ExecuteTime": {
     "start_time": "2023-10-06T10:50:11.454815Z",
     "end_time": "2023-10-06T10:50:11.488290Z"
    }
   },
   "outputs": [],
   "source": [
    "x = np.linspace(-5, 10, 1000)\n",
    "pdf = PMTSingleGaussian(n_illuminations=3)\n",
    "parameters = np.array(list(pdf.initial.values()))  # Use the initial values set in the PDF\n",
    "charges = []\n",
    "for i in range(pdf.n_illuminations):\n",
    "    y = pdf(x, parameters, i)  # Calculate PDF via the direct call to the PDF function\n",
    "    c = np.random.choice(x, p=y / y.sum(), size=20000)  # Inverse transform sampling\n",
    "    charges.append(ChargeContainer(c, n_bins=100, range_=(-3, 6)))"
   ]
  },
  {
   "cell_type": "code",
   "execution_count": 5,
   "metadata": {
    "ExecuteTime": {
     "start_time": "2023-10-06T10:50:11.483740Z",
     "end_time": "2023-10-06T10:50:12.407797Z"
    }
   },
   "outputs": [],
   "source": [
    "time_dict = {}\n",
    "for cost_class in Cost.__subclasses__():    \n",
    "    cost = cost_class(pdf, charges)\n",
    "    time = %timeit -q -o cost(parameters)\n",
    "    time_dict[cost_class.__name__] = time.average"
   ]
  },
  {
   "cell_type": "code",
   "execution_count": 6,
   "metadata": {
    "ExecuteTime": {
     "start_time": "2023-10-06T10:50:12.412471Z",
     "end_time": "2023-10-06T10:50:12.416228Z"
    }
   },
   "outputs": [
    {
     "data": {
      "text/plain": "              Time (seconds)\nUnbinnedNLL         4.20e-03\nBinnedNLL           5.81e-05\nLeastSquares        4.33e-05",
      "text/html": "<div>\n<style scoped>\n    .dataframe tbody tr th:only-of-type {\n        vertical-align: middle;\n    }\n\n    .dataframe tbody tr th {\n        vertical-align: top;\n    }\n\n    .dataframe thead th {\n        text-align: right;\n    }\n</style>\n<table border=\"1\" class=\"dataframe\">\n  <thead>\n    <tr style=\"text-align: right;\">\n      <th></th>\n      <th>Time (seconds)</th>\n    </tr>\n  </thead>\n  <tbody>\n    <tr>\n      <th>UnbinnedNLL</th>\n      <td>4.20e-03</td>\n    </tr>\n    <tr>\n      <th>BinnedNLL</th>\n      <td>5.81e-05</td>\n    </tr>\n    <tr>\n      <th>LeastSquares</th>\n      <td>4.33e-05</td>\n    </tr>\n  </tbody>\n</table>\n</div>"
     },
     "execution_count": 6,
     "metadata": {},
     "output_type": "execute_result"
    }
   ],
   "source": [
    "df = pd.DataFrame.from_dict(time_dict, orient=\"index\")\n",
    "df.rename({0: \"Time (seconds)\"}, axis='columns')"
   ]
  },
  {
   "cell_type": "markdown",
   "metadata": {},
   "source": [
    "## 3. Cost Minimization"
   ]
  },
  {
   "cell_type": "code",
   "execution_count": 7,
   "metadata": {
    "ExecuteTime": {
     "start_time": "2023-10-06T10:50:12.415226Z",
     "end_time": "2023-10-06T10:50:32.509889Z"
    }
   },
   "outputs": [],
   "source": [
    "time_dict = {}\n",
    "for cost_class in Cost.__subclasses__():    \n",
    "    cost = cost_class(pdf, charges)\n",
    "    time = %timeit -q -o minimize_with_iminuit(cost)\n",
    "    time_dict[cost_class.__name__] = time.average"
   ]
  },
  {
   "cell_type": "code",
   "execution_count": 8,
   "metadata": {
    "ExecuteTime": {
     "start_time": "2023-10-06T10:50:32.516600Z",
     "end_time": "2023-10-06T10:50:32.522082Z"
    }
   },
   "outputs": [
    {
     "data": {
      "text/plain": "              Time (seconds)\nUnbinnedNLL         5.50e-01\nBinnedNLL           8.52e-03\nLeastSquares        1.07e-02",
      "text/html": "<div>\n<style scoped>\n    .dataframe tbody tr th:only-of-type {\n        vertical-align: middle;\n    }\n\n    .dataframe tbody tr th {\n        vertical-align: top;\n    }\n\n    .dataframe thead th {\n        text-align: right;\n    }\n</style>\n<table border=\"1\" class=\"dataframe\">\n  <thead>\n    <tr style=\"text-align: right;\">\n      <th></th>\n      <th>Time (seconds)</th>\n    </tr>\n  </thead>\n  <tbody>\n    <tr>\n      <th>UnbinnedNLL</th>\n      <td>5.50e-01</td>\n    </tr>\n    <tr>\n      <th>BinnedNLL</th>\n      <td>8.52e-03</td>\n    </tr>\n    <tr>\n      <th>LeastSquares</th>\n      <td>1.07e-02</td>\n    </tr>\n  </tbody>\n</table>\n</div>"
     },
     "execution_count": 8,
     "metadata": {},
     "output_type": "execute_result"
    }
   ],
   "source": [
    "df = pd.DataFrame.from_dict(time_dict, orient=\"index\")\n",
    "df.rename({0: \"Time (seconds)\"}, axis='columns')"
   ]
  },
  {
   "cell_type": "markdown",
   "metadata": {},
   "source": [
    "## 4. Camera Fitting"
   ]
  },
  {
   "cell_type": "code",
   "execution_count": 9,
   "metadata": {
    "ExecuteTime": {
     "start_time": "2023-10-06T10:50:32.520319Z",
     "end_time": "2023-10-06T10:50:34.008137Z"
    }
   },
   "outputs": [],
   "source": [
    "pixel_charges = [c.values[:, None] * np.ones((1, 3000)) for c in charges]\n",
    "fitter = CameraFitter(pdf, 100, (-3, 6), \"BinnedNLL\")"
   ]
  },
  {
   "cell_type": "code",
   "execution_count": 10,
   "metadata": {
    "ExecuteTime": {
     "start_time": "2023-10-06T10:50:34.014348Z",
     "end_time": "2023-10-06T10:51:35.053233Z"
    }
   },
   "outputs": [
    {
     "data": {
      "text/plain": "  0%|          | 0/3000 [00:00<?, ?it/s]",
      "application/vnd.jupyter.widget-view+json": {
       "version_major": 2,
       "version_minor": 0,
       "model_id": "8512ca2eb536463ebcc1ee51e24d474e"
      }
     },
     "metadata": {},
     "output_type": "display_data"
    }
   ],
   "source": [
    "fitter.process(pixel_charges)"
   ]
  },
  {
   "cell_type": "code",
   "execution_count": 11,
   "metadata": {
    "ExecuteTime": {
     "start_time": "2023-10-06T10:51:35.055642Z",
     "end_time": "2023-10-06T10:53:13.744755Z"
    }
   },
   "outputs": [
    {
     "name": "stdout",
     "output_type": "stream",
     "text": [
      "Multiprocessing pixel SPE fit (n_processes = 3)\n"
     ]
    },
    {
     "data": {
      "text/plain": "  0%|          | 0/3000 [00:00<?, ?it/s]",
      "application/vnd.jupyter.widget-view+json": {
       "version_major": 2,
       "version_minor": 0,
       "model_id": "d1992f3385c04cee9c68597a7c7b568d"
      }
     },
     "metadata": {},
     "output_type": "display_data"
    }
   ],
   "source": [
    "fitter.multiprocess(pixel_charges, n_processes=3)"
   ]
  },
  {
   "cell_type": "code",
   "execution_count": 11,
   "metadata": {
    "ExecuteTime": {
     "start_time": "2023-10-06T10:53:13.699218Z",
     "end_time": "2023-10-06T10:53:13.798909Z"
    }
   },
   "outputs": [],
   "source": []
  }
 ],
 "metadata": {
  "kernelspec": {
   "name": "sstcam",
   "language": "python",
   "display_name": "sstcam"
  },
  "language_info": {
   "codemirror_mode": {
    "name": "ipython",
    "version": 3
   },
   "file_extension": ".py",
   "mimetype": "text/x-python",
   "name": "python",
   "nbconvert_exporter": "python",
   "pygments_lexer": "ipython3",
   "version": "3.7.5"
  }
 },
 "nbformat": 4,
 "nbformat_minor": 4
}
