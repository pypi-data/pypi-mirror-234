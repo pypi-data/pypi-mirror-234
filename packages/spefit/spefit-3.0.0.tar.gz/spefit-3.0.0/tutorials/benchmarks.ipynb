{
 "cells": [
  {
   "cell_type": "markdown",
   "metadata": {},
   "source": [
    "# Benchmarks\n",
    "\n",
    "A major priority of this package is to ensure the algorithms provided for fitting the SPE spectra are optimised to minimise execution time. Changes to the package should be assessed against this benchmarking notebook to ensure the changes have not resulted in a reduced efficiency."
   ]
  },
  {
   "cell_type": "code",
   "execution_count": 1,
   "metadata": {
    "ExecuteTime": {
     "start_time": "2023-10-09T07:20:53.031218Z",
     "end_time": "2023-10-09T07:20:55.842037Z"
    }
   },
   "outputs": [
    {
     "name": "stderr",
     "output_type": "stream",
     "text": [
      "/Users/Jason/Software/spefit/spefit/fitter.py:6: TqdmExperimentalWarning: Using `tqdm.autonotebook.tqdm` in notebook mode. Use `tqdm.tqdm` instead to force console mode (e.g. in jupyter console)\n",
      "  from tqdm.autonotebook import trange\n"
     ]
    }
   ],
   "source": [
    "from spefit.pdf import PDF, PMTSingleGaussianMultiIllumination\n",
    "from spefit.cost import Cost\n",
    "from spefit.dataset import Dataset\n",
    "from spefit.fitter import CameraFitter, minimize_with_iminuit\n",
    "import numpy as np\n",
    "import pandas as pd\n",
    "pd.options.display.float_format = '{:,.2e}'.format"
   ]
  },
  {
   "cell_type": "markdown",
   "metadata": {},
   "source": [
    "## 1. PDF Class Calling"
   ]
  },
  {
   "cell_type": "code",
   "execution_count": 2,
   "metadata": {
    "ExecuteTime": {
     "start_time": "2023-10-09T07:20:55.890248Z",
     "end_time": "2023-10-09T07:21:03.289620Z"
    }
   },
   "outputs": [],
   "source": [
    "x = np.linspace(-5, 10, 1000)\n",
    "time_dict = {}\n",
    "for pdf_class in PDF.__subclasses__():\n",
    "    if pdf_class.__name__ in [\"PDFSimultaneous\"]:\n",
    "        continue\n",
    "\n",
    "    pdf = pdf_class()\n",
    "    time = %timeit -q -o pdf(x, pdf.initial, 0)\n",
    "    time_dict[pdf_class.__name__] = time.average"
   ]
  },
  {
   "cell_type": "code",
   "execution_count": 3,
   "metadata": {
    "ExecuteTime": {
     "start_time": "2023-10-09T07:21:03.290362Z",
     "end_time": "2023-10-09T07:21:03.303222Z"
    }
   },
   "outputs": [
    {
     "data": {
      "text/plain": "                     Time (seconds)\nPMTSingleGaussian          4.89e-05\nSiPMGentile                7.24e-05\nSiPMModifiedPoisson        8.15e-05",
      "text/html": "<div>\n<style scoped>\n    .dataframe tbody tr th:only-of-type {\n        vertical-align: middle;\n    }\n\n    .dataframe tbody tr th {\n        vertical-align: top;\n    }\n\n    .dataframe thead th {\n        text-align: right;\n    }\n</style>\n<table border=\"1\" class=\"dataframe\">\n  <thead>\n    <tr style=\"text-align: right;\">\n      <th></th>\n      <th>Time (seconds)</th>\n    </tr>\n  </thead>\n  <tbody>\n    <tr>\n      <th>PMTSingleGaussian</th>\n      <td>4.89e-05</td>\n    </tr>\n    <tr>\n      <th>SiPMGentile</th>\n      <td>7.24e-05</td>\n    </tr>\n    <tr>\n      <th>SiPMModifiedPoisson</th>\n      <td>8.15e-05</td>\n    </tr>\n  </tbody>\n</table>\n</div>"
     },
     "execution_count": 3,
     "metadata": {},
     "output_type": "execute_result"
    }
   ],
   "source": [
    "df = pd.DataFrame.from_dict(time_dict, orient=\"index\")\n",
    "df.rename({0: \"Time (seconds)\"}, axis='columns')"
   ]
  },
  {
   "cell_type": "markdown",
   "metadata": {},
   "source": [
    "## 2. Cost Calling"
   ]
  },
  {
   "cell_type": "code",
   "execution_count": 4,
   "metadata": {
    "ExecuteTime": {
     "start_time": "2023-10-09T07:21:03.303726Z",
     "end_time": "2023-10-09T07:21:03.317596Z"
    }
   },
   "outputs": [],
   "source": [
    "x = np.linspace(-5, 10, 1000)\n",
    "# Create the simultaneous fit model\n",
    "pdf = PMTSingleGaussianMultiIllumination()\n",
    "charges = []\n",
    "for i in range(pdf.n_pdfs):\n",
    "    y = pdf(x, pdf.initial, i)  # Calculate PDF via the direct call to the PDF function\n",
    "    c = np.random.choice(x, p=y / y.sum(), size=20000)  # Inverse transform sampling\n",
    "    charges.append(Dataset(c, n_bins=100, range_=(-3, 6)))"
   ]
  },
  {
   "cell_type": "code",
   "execution_count": 5,
   "metadata": {
    "ExecuteTime": {
     "start_time": "2023-10-09T07:21:03.325091Z",
     "end_time": "2023-10-09T07:21:07.074580Z"
    }
   },
   "outputs": [],
   "source": [
    "time_dict = {}\n",
    "for cost_class in Cost.__subclasses__():    \n",
    "    cost = cost_class(pdf, charges)\n",
    "    time = %timeit -q -o cost(pdf.initial)\n",
    "    time_dict[cost_class.__name__] = time.average"
   ]
  },
  {
   "cell_type": "code",
   "execution_count": 6,
   "metadata": {
    "ExecuteTime": {
     "start_time": "2023-10-09T07:21:07.078375Z",
     "end_time": "2023-10-09T07:21:07.082844Z"
    }
   },
   "outputs": [
    {
     "data": {
      "text/plain": "              Time (seconds)\nUnbinnedNLL         2.77e-03\nBinnedNLL           3.70e-05\nLeastSquares        4.56e-05",
      "text/html": "<div>\n<style scoped>\n    .dataframe tbody tr th:only-of-type {\n        vertical-align: middle;\n    }\n\n    .dataframe tbody tr th {\n        vertical-align: top;\n    }\n\n    .dataframe thead th {\n        text-align: right;\n    }\n</style>\n<table border=\"1\" class=\"dataframe\">\n  <thead>\n    <tr style=\"text-align: right;\">\n      <th></th>\n      <th>Time (seconds)</th>\n    </tr>\n  </thead>\n  <tbody>\n    <tr>\n      <th>UnbinnedNLL</th>\n      <td>2.77e-03</td>\n    </tr>\n    <tr>\n      <th>BinnedNLL</th>\n      <td>3.70e-05</td>\n    </tr>\n    <tr>\n      <th>LeastSquares</th>\n      <td>4.56e-05</td>\n    </tr>\n  </tbody>\n</table>\n</div>"
     },
     "execution_count": 6,
     "metadata": {},
     "output_type": "execute_result"
    }
   ],
   "source": [
    "df = pd.DataFrame.from_dict(time_dict, orient=\"index\")\n",
    "df.rename({0: \"Time (seconds)\"}, axis='columns')"
   ]
  },
  {
   "cell_type": "markdown",
   "metadata": {},
   "source": [
    "## 3. Cost Minimization"
   ]
  },
  {
   "cell_type": "code",
   "execution_count": 7,
   "metadata": {
    "ExecuteTime": {
     "start_time": "2023-10-09T07:21:08.900588Z",
     "end_time": "2023-10-09T07:21:26.042195Z"
    }
   },
   "outputs": [],
   "source": [
    "time_dict = {}\n",
    "for cost_class in Cost.__subclasses__():    \n",
    "    cost = cost_class(pdf, charges)\n",
    "    time = %timeit -q -o minimize_with_iminuit(cost)\n",
    "    time_dict[cost_class.__name__] = time.average"
   ]
  },
  {
   "cell_type": "code",
   "execution_count": 8,
   "metadata": {
    "ExecuteTime": {
     "start_time": "2023-10-09T07:21:26.046740Z",
     "end_time": "2023-10-09T07:21:26.051881Z"
    }
   },
   "outputs": [
    {
     "data": {
      "text/plain": "              Time (seconds)\nUnbinnedNLL         5.80e-01\nBinnedNLL           8.42e-03\nLeastSquares        8.89e-03",
      "text/html": "<div>\n<style scoped>\n    .dataframe tbody tr th:only-of-type {\n        vertical-align: middle;\n    }\n\n    .dataframe tbody tr th {\n        vertical-align: top;\n    }\n\n    .dataframe thead th {\n        text-align: right;\n    }\n</style>\n<table border=\"1\" class=\"dataframe\">\n  <thead>\n    <tr style=\"text-align: right;\">\n      <th></th>\n      <th>Time (seconds)</th>\n    </tr>\n  </thead>\n  <tbody>\n    <tr>\n      <th>UnbinnedNLL</th>\n      <td>5.80e-01</td>\n    </tr>\n    <tr>\n      <th>BinnedNLL</th>\n      <td>8.42e-03</td>\n    </tr>\n    <tr>\n      <th>LeastSquares</th>\n      <td>8.89e-03</td>\n    </tr>\n  </tbody>\n</table>\n</div>"
     },
     "execution_count": 8,
     "metadata": {},
     "output_type": "execute_result"
    }
   ],
   "source": [
    "df = pd.DataFrame.from_dict(time_dict, orient=\"index\")\n",
    "df.rename({0: \"Time (seconds)\"}, axis='columns')"
   ]
  },
  {
   "cell_type": "markdown",
   "metadata": {},
   "source": [
    "## 4. Camera Fitting"
   ]
  },
  {
   "cell_type": "code",
   "execution_count": 9,
   "metadata": {
    "ExecuteTime": {
     "start_time": "2023-10-09T07:21:26.050614Z",
     "end_time": "2023-10-09T07:21:27.290593Z"
    }
   },
   "outputs": [],
   "source": [
    "pixel_charges = [c.values[:, None] * np.ones((1, 3000)) for c in charges]\n",
    "fitter = CameraFitter(pdf, 100, (-3, 6), \"BinnedNLL\")"
   ]
  },
  {
   "cell_type": "code",
   "execution_count": 10,
   "metadata": {
    "ExecuteTime": {
     "start_time": "2023-10-09T07:21:27.293069Z",
     "end_time": "2023-10-09T07:22:18.240497Z"
    }
   },
   "outputs": [
    {
     "data": {
      "text/plain": "  0%|          | 0/3000 [00:00<?, ?it/s]",
      "application/vnd.jupyter.widget-view+json": {
       "version_major": 2,
       "version_minor": 0,
       "model_id": "a4009dd5fefc4bf58b8112da864031ae"
      }
     },
     "metadata": {},
     "output_type": "display_data"
    }
   ],
   "source": [
    "fitter.process(pixel_charges)"
   ]
  },
  {
   "cell_type": "code",
   "execution_count": 11,
   "metadata": {
    "ExecuteTime": {
     "start_time": "2023-10-09T07:22:18.241854Z",
     "end_time": "2023-10-09T07:23:34.389767Z"
    }
   },
   "outputs": [
    {
     "name": "stdout",
     "output_type": "stream",
     "text": [
      "Multiprocessing pixel SPE fit (n_processes = 3)\n"
     ]
    },
    {
     "data": {
      "text/plain": "  0%|          | 0/3000 [00:00<?, ?it/s]",
      "application/vnd.jupyter.widget-view+json": {
       "version_major": 2,
       "version_minor": 0,
       "model_id": "75a0d19d47b144b496bcb006622eef9a"
      }
     },
     "metadata": {},
     "output_type": "display_data"
    }
   ],
   "source": [
    "fitter.multiprocess(pixel_charges, n_processes=3)"
   ]
  },
  {
   "cell_type": "code",
   "execution_count": 11,
   "metadata": {
    "ExecuteTime": {
     "start_time": "2023-10-09T07:23:34.383591Z",
     "end_time": "2023-10-09T07:23:34.400695Z"
    }
   },
   "outputs": [],
   "source": []
  },
  {
   "cell_type": "code",
   "execution_count": 11,
   "outputs": [],
   "source": [],
   "metadata": {
    "collapsed": false,
    "ExecuteTime": {
     "start_time": "2023-10-09T07:23:34.387001Z",
     "end_time": "2023-10-09T07:23:34.401448Z"
    }
   }
  }
 ],
 "metadata": {
  "kernelspec": {
   "name": "sstcam",
   "language": "python",
   "display_name": "sstcam"
  },
  "language_info": {
   "codemirror_mode": {
    "name": "ipython",
    "version": 3
   },
   "file_extension": ".py",
   "mimetype": "text/x-python",
   "name": "python",
   "nbconvert_exporter": "python",
   "pygments_lexer": "ipython3",
   "version": "3.7.5"
  }
 },
 "nbformat": 4,
 "nbformat_minor": 4
}
