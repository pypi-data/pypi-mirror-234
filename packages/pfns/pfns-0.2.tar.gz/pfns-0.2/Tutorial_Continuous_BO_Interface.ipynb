{
 "cells": [
  {
   "cell_type": "markdown",
   "id": "657642b6",
   "metadata": {},
   "source": [
    "# Continuous benchmarks\n",
    "To use our model on continuous setups, we recommend using the interface in `pfns/pfn_bo_bayesmark.py`.\n",
    "This is a standard BayesMark interface.\n",
    "The calls to this interface used in our BayesMark experiments are given in `pfns/config.json`."
   ]
  },
  {
   "cell_type": "code",
   "execution_count": null,
   "id": "e5f0b80f",
   "metadata": {},
   "outputs": [],
   "source": [
    "import pfns"
   ]
  },
  {
   "cell_type": "code",
   "execution_count": null,
   "id": "e1f18a73",
   "metadata": {},
   "outputs": [],
   "source": [
    "# copied from `pfns/config.json`\n",
    "config = {\n",
    "            \"pfn_file\": pfns.hebo_plus_model,\n",
    "            # alternatively give a relative path from pfns\n",
    "            #\"pfn_file\" : \"final_models/model_hebo_morebudget_9_unused_features_3.pt\",\n",
    "            \"minimize\": 1,\n",
    "            \"fit_encoder_from_step\": None,\n",
    "            \"sample_only_valid\": 1,\n",
    "            \"pre_sample_size\": 1000,\n",
    "            \"num_candidates\": 10,\n",
    "            \"max_initial_design\": 1,\n",
    "            \"fixed_initial_guess\": 0.0\n",
    "        }"
   ]
  },
  {
   "cell_type": "code",
   "execution_count": null,
   "id": "92a3979a",
   "metadata": {},
   "outputs": [],
   "source": [
    "import warnings\n",
    "warnings.filterwarnings('ignore', category=FutureWarning)"
   ]
  },
  {
   "cell_type": "code",
   "execution_count": null,
   "id": "779d3b02",
   "metadata": {
    "scrolled": false
   },
   "outputs": [],
   "source": [
    "from pfns.pfn_bo_bayesmark import PFNOptimizer\n",
    "from bayesmark.experiment import _build_test_problem, run_study, OBJECTIVE_NAMES\n",
    "import os\n",
    "\n",
    "\n",
    "#function_instance = _build_test_problem(model_name='ada', dataset='breast', scorer='nll', path=None)\n",
    "function_instance = _build_test_problem(model_name='ada', dataset='boston', scorer='mse', path=None)\n",
    "\n",
    "# Setup optimizer\n",
    "api_config = function_instance.get_api_config()\n",
    "# check is file\n",
    "\n",
    "opt = PFNOptimizer(api_config, verbose=True, device=\"cpu:0\", **config)\n",
    "\n",
    "function_evals, timing, suggest_log = run_study(\n",
    "    opt, function_instance, n_calls=3, n_suggestions=1, callback=None, n_obj=len(OBJECTIVE_NAMES),\n",
    ")"
   ]
  },
  {
   "cell_type": "code",
   "execution_count": null,
   "id": "b9c37d46",
   "metadata": {},
   "outputs": [],
   "source": []
  }
 ],
 "metadata": {
  "kernelspec": {
   "display_name": "Python 3 (ipykernel)",
   "language": "python",
   "name": "python3"
  },
  "language_info": {
   "codemirror_mode": {
    "name": "ipython",
    "version": 3
   },
   "file_extension": ".py",
   "mimetype": "text/x-python",
   "name": "python",
   "nbconvert_exporter": "python",
   "pygments_lexer": "ipython3",
   "version": "3.10.11"
  }
 },
 "nbformat": 4,
 "nbformat_minor": 5
}
