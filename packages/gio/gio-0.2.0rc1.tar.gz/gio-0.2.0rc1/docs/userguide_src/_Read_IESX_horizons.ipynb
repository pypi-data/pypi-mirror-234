{
 "cells": [
  {
   "cell_type": "markdown",
   "id": "ce4d3082",
   "metadata": {},
   "source": [
    "# Read IESX horizons"
   ]
  },
  {
   "cell_type": "code",
   "execution_count": 3,
   "id": "eb4be46e",
   "metadata": {},
   "outputs": [
    {
     "data": {
      "text/html": [
       "<div>\n",
       "<style scoped>\n",
       "    .dataframe tbody tr th:only-of-type {\n",
       "        vertical-align: middle;\n",
       "    }\n",
       "\n",
       "    .dataframe tbody tr th {\n",
       "        vertical-align: top;\n",
       "    }\n",
       "\n",
       "    .dataframe thead th {\n",
       "        text-align: right;\n",
       "    }\n",
       "</style>\n",
       "<table border=\"1\" class=\"dataframe\">\n",
       "  <thead>\n",
       "    <tr style=\"text-align: right;\">\n",
       "      <th></th>\n",
       "      <th>geometry</th>\n",
       "      <th>horizon</th>\n",
       "      <th>linename</th>\n",
       "      <th>dataset</th>\n",
       "      <th>min</th>\n",
       "      <th>max</th>\n",
       "      <th>mean</th>\n",
       "      <th>points</th>\n",
       "    </tr>\n",
       "  </thead>\n",
       "  <tbody>\n",
       "    <tr>\n",
       "      <th>0</th>\n",
       "      <td>LINESTRING Z (419840.089 4668132.100 2756.250,...</td>\n",
       "      <td>Fault to seafloor</td>\n",
       "      <td>276-109</td>\n",
       "      <td>normTOv</td>\n",
       "      <td>2732.92</td>\n",
       "      <td>3549.57</td>\n",
       "      <td>3085.832679</td>\n",
       "      <td>68</td>\n",
       "    </tr>\n",
       "    <tr>\n",
       "      <th>1</th>\n",
       "      <td>LINESTRING Z (412513.896 4679451.120 2570.420,...</td>\n",
       "      <td>Fault to seafloor</td>\n",
       "      <td>272-100</td>\n",
       "      <td>normTOv</td>\n",
       "      <td>2732.92</td>\n",
       "      <td>3549.57</td>\n",
       "      <td>3085.832679</td>\n",
       "      <td>68</td>\n",
       "    </tr>\n",
       "    <tr>\n",
       "      <th>2</th>\n",
       "      <td>LINESTRING Z (417373.758 4666148.690 3549.570,...</td>\n",
       "      <td>Fault to seafloor</td>\n",
       "      <td>272-100</td>\n",
       "      <td>normTOv</td>\n",
       "      <td>2732.92</td>\n",
       "      <td>3549.57</td>\n",
       "      <td>3085.832679</td>\n",
       "      <td>68</td>\n",
       "    </tr>\n",
       "  </tbody>\n",
       "</table>\n",
       "</div>"
      ],
      "text/plain": [
       "                                            geometry            horizon  \\\n",
       "0  LINESTRING Z (419840.089 4668132.100 2756.250,...  Fault to seafloor   \n",
       "1  LINESTRING Z (412513.896 4679451.120 2570.420,...  Fault to seafloor   \n",
       "2  LINESTRING Z (417373.758 4666148.690 3549.570,...  Fault to seafloor   \n",
       "\n",
       "  linename  dataset      min      max         mean  points  \n",
       "0  276-109  normTOv  2732.92  3549.57  3085.832679      68  \n",
       "1  272-100  normTOv  2732.92  3549.57  3085.832679      68  \n",
       "2  272-100  normTOv  2732.92  3549.57  3085.832679      68  "
      ]
     },
     "execution_count": 3,
     "metadata": {},
     "output_type": "execute_result"
    }
   ],
   "source": [
    "import gio\n",
    "\n",
    "df = gio.read_iesx_from_petrel('../data/Petrel/IESX2D_horizon_extract.txt')\n",
    "df"
   ]
  },
  {
   "cell_type": "code",
   "execution_count": 5,
   "id": "702ea3d3",
   "metadata": {},
   "outputs": [
    {
     "data": {
      "image/svg+xml": [
       "<svg xmlns=\"http://www.w3.org/2000/svg\" xmlns:xlink=\"http://www.w3.org/1999/xlink\" width=\"300\" height=\"300\" viewBox=\"419328.22059999994 4668102.3076 541.6608000000706 804.3947999998927\" preserveAspectRatio=\"xMinYMin meet\"><g transform=\"matrix(1,0,0,-1,0,9337009.01)\"><polyline fill=\"none\" stroke=\"#66cc99\" stroke-width=\"5.362631999999285\" points=\"419840.089,4668132.1 419833.299,4668142.59 419826.509,4668153.08 419819.72,4668163.57 419812.93,4668174.06 419806.14,4668184.55 419799.35,4668195.04 419792.56,4668205.53 419785.771,4668216.02 419778.981,4668226.51 419772.191,4668237.0 419765.401,4668247.49 419758.611,4668257.98 419751.822,4668268.47 419745.032,4668278.96 419738.242,4668289.45 419731.452,4668299.94 419724.662,4668310.44 419717.873,4668320.93 419711.083,4668331.42 419704.293,4668341.91 419697.503,4668352.4 419690.713,4668362.89 419683.924,4668373.38 419677.134,4668383.87 419670.344,4668394.36 419663.554,4668404.85 419656.764,4668415.34 419649.975,4668425.83 419643.185,4668436.32 419636.395,4668446.81 419629.605,4668457.3 419622.815,4668467.79 419616.026,4668478.28 419609.236,4668488.77 419602.446,4668499.26 419595.656,4668509.75 419588.866,4668520.24 419582.077,4668530.73 419575.287,4668541.22 419568.497,4668551.71 419561.707,4668562.2 419554.917,4668572.69 419548.128,4668583.18 419541.338,4668593.67 419534.548,4668604.16 419527.758,4668614.65 419520.968,4668625.14 419514.179,4668635.63 419507.389,4668646.12 419500.599,4668656.61 419493.809,4668667.11 419487.019,4668677.6 419480.23,4668688.09 419473.44,4668698.58 419466.65,4668709.07 419459.86,4668719.56 419453.07,4668730.05 419446.281,4668740.54 419439.491,4668751.03 419432.701,4668761.52 419425.911,4668772.01 419419.121,4668782.5 419412.332,4668792.99 419405.542,4668803.48 419398.752,4668813.97 419391.962,4668824.46 419385.172,4668834.95 419378.383,4668845.44 419371.593,4668855.93 419364.803,4668866.42 419358.013,4668876.91\" opacity=\"0.8\" /></g></svg>"
      ],
      "text/plain": [
       "<shapely.geometry.linestring.LineString at 0x7f5128439ee0>"
      ]
     },
     "execution_count": 5,
     "metadata": {},
     "output_type": "execute_result"
    }
   ],
   "source": [
    "df.iloc[0]['geometry']"
   ]
  },
  {
   "cell_type": "code",
   "execution_count": 16,
   "id": "8b4c3a37",
   "metadata": {
    "scrolled": true
   },
   "outputs": [
    {
     "data": {
      "text/plain": [
       "[(412513.896, 4679451.12, 2570.42),\n",
       " (412507.107, 4679461.61, 2583.13),\n",
       " (412500.317, 4679472.1, 2595.84),\n",
       " (412493.527, 4679482.59, 2608.54),\n",
       " (412486.737, 4679493.08, 2621.25),\n",
       " (412479.947, 4679503.57, 2633.96),\n",
       " (412473.158, 4679514.06, 2646.66),\n",
       " (412466.368, 4679524.55, 2659.37),\n",
       " (412459.578, 4679535.04, 2672.08),\n",
       " (412452.788, 4679545.53, 2684.79),\n",
       " (412445.998, 4679556.02, 2697.49),\n",
       " (412439.209, 4679566.51, 2710.2),\n",
       " (412432.419, 4679577.01, 2722.91),\n",
       " (412425.629, 4679587.5, 2735.61),\n",
       " (412418.839, 4679597.99, 2748.32),\n",
       " (412412.049, 4679608.48, 2761.03),\n",
       " (412405.26, 4679618.97, 2773.74),\n",
       " (412398.47, 4679629.46, 2786.44),\n",
       " (412391.68, 4679639.95, 2799.15),\n",
       " (412384.89, 4679650.44, 2811.86),\n",
       " (412378.1, 4679660.93, 2824.56),\n",
       " (412371.311, 4679671.42, 2837.27),\n",
       " (412364.521, 4679681.91, 2849.98),\n",
       " (412357.731, 4679692.4, 2862.68),\n",
       " (412350.941, 4679702.89, 2875.39),\n",
       " (412344.151, 4679713.38, 2888.1),\n",
       " (412337.362, 4679723.87, 2900.81),\n",
       " (412330.572, 4679734.36, 2913.51),\n",
       " (412323.782, 4679744.85, 2926.22),\n",
       " (412316.992, 4679755.34, 2938.93),\n",
       " (412310.202, 4679765.83, 2951.63),\n",
       " (412303.413, 4679776.32, 2964.34),\n",
       " (412296.623, 4679786.81, 2977.05),\n",
       " (412289.833, 4679797.3, 2989.76),\n",
       " (412283.043, 4679807.79, 3002.46),\n",
       " (412276.253, 4679818.28, 3015.17),\n",
       " (412269.464, 4679828.77, 3027.88),\n",
       " (412262.674, 4679839.26, 3040.58),\n",
       " (412255.884, 4679849.75, 3053.29),\n",
       " (412249.094, 4679860.24, 3066.0),\n",
       " (412242.304, 4679870.73, 3078.7),\n",
       " (412235.515, 4679881.22, 3091.41),\n",
       " (412228.725, 4679891.71, 3104.12),\n",
       " (412221.935, 4679902.2, 3116.83),\n",
       " (412215.145, 4679912.69, 3129.53),\n",
       " (412208.355, 4679923.18, 3142.24),\n",
       " (412201.566, 4679933.68, 3154.95),\n",
       " (412194.776, 4679944.17, 3167.65),\n",
       " (412187.986, 4679954.66, 3180.36),\n",
       " (412181.196, 4679965.15, 3193.07),\n",
       " (412174.406, 4679975.64, 3205.78),\n",
       " (412167.617, 4679986.13, 3218.48),\n",
       " (412160.827, 4679996.62, 3231.19),\n",
       " (412154.037, 4680007.11, 3243.9),\n",
       " (412147.247, 4680017.6, 3256.6),\n",
       " (412140.457, 4680028.09, 3269.31),\n",
       " (412133.668, 4680038.58, 3282.02),\n",
       " (412126.878, 4680049.07, 3294.73),\n",
       " (412120.088, 4680059.56, 3307.43),\n",
       " (412113.298, 4680070.05, 3320.14),\n",
       " (412106.508, 4680080.54, 3332.85),\n",
       " (412099.719, 4680091.03, 3345.55),\n",
       " (412092.929, 4680101.52, 3358.26),\n",
       " (412086.139, 4680112.01, 3370.97),\n",
       " (412079.349, 4680122.5, 3383.67),\n",
       " (412072.559, 4680132.99, 3396.38),\n",
       " (412065.77, 4680143.48, 3409.09),\n",
       " (412058.98, 4680153.97, 3421.8),\n",
       " (412052.19, 4680164.46, 3434.5),\n",
       " (412045.4, 4680174.95, 3447.21),\n",
       " (412038.61, 4680185.44, 3459.92),\n",
       " (412031.821, 4680195.93, 3472.62),\n",
       " (412025.031, 4680206.42, 3485.33),\n",
       " (412018.241, 4680216.91, 3498.04),\n",
       " (412011.451, 4680227.4, 3510.75),\n",
       " (412004.661, 4680237.89, 3523.45),\n",
       " (411997.872, 4680248.38, 3536.16),\n",
       " (411991.082, 4680258.87, 3548.87),\n",
       " (411984.292, 4680269.36, 3561.57),\n",
       " (411977.502, 4680279.85, 3574.28),\n",
       " (411970.712, 4680290.34, 3586.99),\n",
       " (411963.923, 4680300.84, 3599.69),\n",
       " (411957.133, 4680311.33, 3612.4),\n",
       " (411950.343, 4680321.82, 3625.11),\n",
       " (411943.553, 4680332.31, 3637.82),\n",
       " (411936.763, 4680342.8, 3650.52),\n",
       " (411929.974, 4680353.29, 3663.23),\n",
       " (411923.184, 4680363.78, 3675.94),\n",
       " (411916.394, 4680374.27, 3688.64),\n",
       " (411909.604, 4680384.76, 3701.35),\n",
       " (411902.814, 4680395.25, 3714.06),\n",
       " (411896.025, 4680405.74, 3726.77),\n",
       " (411889.235, 4680416.23, 3739.47),\n",
       " (411882.445, 4680426.72, 3752.18),\n",
       " (411875.655, 4680437.21, 3764.89),\n",
       " (411868.865, 4680447.7, 3777.59),\n",
       " (411862.076, 4680458.19, 3790.3),\n",
       " (411855.286, 4680468.68, 3803.01),\n",
       " (411848.496, 4680479.17, 3815.71),\n",
       " (411841.706, 4680489.66, 3828.42),\n",
       " (411834.917, 4680500.15, 3841.13),\n",
       " (411828.127, 4680510.64, 3853.84),\n",
       " (411821.337, 4680521.13, 3866.54),\n",
       " (411814.547, 4680531.62, 3879.25),\n",
       " (411807.757, 4680542.11, 3891.96),\n",
       " (411800.968, 4680552.6, 3904.66),\n",
       " (411794.178, 4680563.09, 3917.37),\n",
       " (411787.388, 4680573.58, 3930.08),\n",
       " (411780.598, 4680584.07, 3942.79),\n",
       " (411773.808, 4680594.56, 3955.49),\n",
       " (411767.019, 4680605.05, 3968.2),\n",
       " (411760.229, 4680615.54, 3980.91),\n",
       " (411753.439, 4680626.03, 3993.61),\n",
       " (411746.649, 4680636.52, 4006.32),\n",
       " (411739.859, 4680647.01, 4019.03),\n",
       " (411733.07, 4680657.5, 4031.73),\n",
       " (411726.28, 4680668.0, 4044.44),\n",
       " (411719.49, 4680678.49, 4057.15),\n",
       " (411712.7, 4680688.98, 4069.86),\n",
       " (411705.91, 4680699.47, 4082.56)]"
      ]
     },
     "execution_count": 16,
     "metadata": {},
     "output_type": "execute_result"
    }
   ],
   "source": [
    "list(df.iloc[1]['geometry'].coords)"
   ]
  },
  {
   "cell_type": "code",
   "execution_count": 17,
   "id": "6ff78cba",
   "metadata": {},
   "outputs": [],
   "source": [
    "import numpy as np\n",
    "\n",
    "x, y, z = np.array(list(df.iloc[1]['geometry'].coords)).T"
   ]
  },
  {
   "cell_type": "code",
   "execution_count": 19,
   "id": "e7d30ab5",
   "metadata": {},
   "outputs": [
    {
     "data": {
      "text/plain": [
       "[<matplotlib.lines.Line2D at 0x7f51278d5250>]"
      ]
     },
     "execution_count": 19,
     "metadata": {},
     "output_type": "execute_result"
    },
    {
     "data": {
      "image/png": "[encoded data removed]",
      "text/plain": [
       "<Figure size 432x288 with 1 Axes>"
      ]
     },
     "metadata": {
      "needs_background": "light"
     },
     "output_type": "display_data"
    }
   ],
   "source": [
    "import matplotlib.pyplot as plt\n",
    "\n",
    "plt.plot(x, z)"
   ]
  },
  {
   "cell_type": "code",
   "execution_count": null,
   "id": "4ac78de0",
   "metadata": {},
   "outputs": [],
   "source": []
  }
 ],
 "metadata": {
  "kernelspec": {
   "display_name": "py39",
   "language": "python",
   "name": "py39"
  },
  "language_info": {
   "codemirror_mode": {
    "name": "ipython",
    "version": 3
   },
   "file_extension": ".py",
   "mimetype": "text/x-python",
   "name": "python",
   "nbconvert_exporter": "python",
   "pygments_lexer": "ipython3",
   "version": "3.9.7"
  }
 },
 "nbformat": 4,
 "nbformat_minor": 5
}
