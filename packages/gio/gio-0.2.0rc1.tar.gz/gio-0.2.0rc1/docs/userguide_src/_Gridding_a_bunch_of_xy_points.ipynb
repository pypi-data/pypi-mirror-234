{
 "cells": [
  {
   "cell_type": "code",
   "execution_count": 4,
   "id": "79658288",
   "metadata": {},
   "outputs": [
    {
     "data": {
      "text/plain": [
       "('mybucket',)"
      ]
     },
     "execution_count": 4,
     "metadata": {},
     "output_type": "execute_result"
    }
   ],
   "source": [
    "s = \"https://mybucket.s3.amazonaws.com/\"\n",
    "import re\n",
    "re.search(r'//(.+?)\\.s3', s).groups(0)"
   ]
  },
  {
   "cell_type": "markdown",
   "id": "28f9a8ee",
   "metadata": {},
   "source": [
    "# Gridding a bunch of x, y points\n",
    "\n",
    "Often in earth science we'd like to represent some spatial data with a sampled, discretized, regular grid. You might call this a **raster**, a **surface**, a **horizon**, or just a **grid**. Or something else. Here's a very small one:\n",
    "\n",
    "    3   4   7   9\n",
    "    2   3   7   8\n",
    "    1   3       8\n",
    "    0   2   5   8\n",
    "    \n",
    "You can think of this as a map of heights (or depths, or temperatures, or anything). It has one missing value; we'll get to that.\n",
    "\n",
    "Notice that there are no coordinates as such, just implicit 'row' and 'column' coordinates. So the value 4 is at (0, 1) for example, and the 5 is at (3, 2). That might seem a bit backwards: we'd normally give the 'x' coordinate first, then the 'y', but this is how matrices are indexed. People conventionally call these row, column indices i and j respectively. They will look like this:\n",
    "\n",
    "       j  0   1   2   3\n",
    "\n",
    "    i  0  3   4   7   9\n",
    "       1  2   3   7   8\n",
    "       2  1   3 NaN   8\n",
    "       3  0   2   5   8\n",
    "\n",
    "We can represent a grid like this as a `numpy` array. Notice that we don't need to have every sample &mdash; one or more might be missing. In their place, we'd have NaNs, not-a-numbers, which are null values that won't be plotted and will generally be ignored.\n",
    "\n",
    "## Adding real-world coordinates\n",
    "\n",
    "Very often, we'd like to refer to positions on the grid with real-world coordinates of some kind. For example, if this grid is a map, I might have UTMx and UTMy coordinates. Or, if this it's a seismic horizon, I might have inline and crossline numbers as well as UTMx and UTMy. In that case, `xarray` is useful because I can label the rows and columns with these real-world coordinates:\n",
    "\n",
    "         100 101 102 103\n",
    "         \n",
    "    306   3   4   7   9\n",
    "    304   2   3   7   8\n",
    "    302   1   3 NaN   8\n",
    "    300   0   2   5   8\n",
    "\n",
    "Notice that the numbering of the vertical axis is opposite what we used for j, they don't start at 0 or 1, and they increment in steps of 2. That all just depends on how the real-world coordinates were assigned. They are arbitrary.\n",
    "\n",
    "The data is the same, but now I can index into this grid using my real-world coordinates, which is much more convenient than having to know the (i, j) indices. But that's far from being the only useful thing about `xarray`. For example, imagine a text representation of this array. It might look something like this:\n",
    "\n",
    "    iline,xline,z\n",
    "    306,100,3\n",
    "    306,101,4\n",
    "    306,102,7\n",
    "    306,103,9\n",
    "    304,100,2\n",
    "    304,101,3\n",
    "    304,102,7\n",
    "    304,103,8\n",
    "    302,100,1\n",
    "    302,101,3\n",
    "    302,103,8\n",
    "    300,100,0\n",
    "    300,101,2\n",
    "    300,102,5\n",
    "    300,103,8\n",
    "    \n",
    "Notice that one position, (302, 102) is missing: that's the NaN. This is a bit of a headache to load into NumPy, because I can't just read the data elements and reshape &mdash; plus I have to throw away the coordinates. But with `xarray`, I can do this:"
   ]
  },
  {
   "cell_type": "code",
   "execution_count": 14,
   "id": "9cb5ccab",
   "metadata": {},
   "outputs": [
    {
     "data": {
      "text/plain": [
       "<matplotlib.collections.QuadMesh at 0x7f1821a64a30>"
      ]
     },
     "execution_count": 14,
     "metadata": {},
     "output_type": "execute_result"
    },
    {
     "data": {
      "image/png": "[encoded data removed]",
      "text/plain": [
       "<Figure size 432x288 with 2 Axes>"
      ]
     },
     "metadata": {
      "needs_background": "light"
     },
     "output_type": "display_data"
    }
   ],
   "source": [
    "import pandas as pd\n",
    "import xarray as xr\n",
    "\n",
    "df = pd.read_csv('data.csv')\n",
    "df = df.set_index(['iline', 'xline'])\n",
    "da = xr.DataArray.from_series(df.z)\n",
    "da.plot()"
   ]
  },
  {
   "cell_type": "markdown",
   "id": "c876da21",
   "metadata": {},
   "source": [
    "## Adding (x, y) coordinates\n",
    "\n",
    "Often I have UTMx and UTMy coordinates for the map &mdash; maybe just for one or more of its corner points, or maybe for every cell. If I have 3 corners, I can compute the (x, y) location of every cell, assuming the cell spacing is regular. If I have fewer than 3 corners, I will need to know the cell spacing in both directions, and the angle of one of the axes with respect to north.\n",
    "\n",
    "I can attach (x, y) coordinates to the `xarray`, but there's a catch. Unless the grid is exactly aligned with north, I will need an (x, y) pair at _every_ cell, because the rows won't line up (i.e. the x-coordinates of the second row cells will be different from the x-coordinates of the first row cells). No problem, [`xarray` can handle this](https://xarray.pydata.org/en/stable/examples/multidimensional-coords.html)."
   ]
  },
  {
   "cell_type": "code",
   "execution_count": 34,
   "id": "e351c22c",
   "metadata": {},
   "outputs": [
    {
     "name": "stdout",
     "output_type": "stream",
     "text": [
      "[5000. 6000.]\n",
      "[4992.27466667 6023.77633333]\n",
      "[4984.54933333 6047.55266667]\n",
      "[4976.824 6071.329]\n",
      "[5047.55266667 6015.451     ]\n",
      "[5039.82733333 6039.22733333]\n",
      "[5032.102      6063.00366667]\n",
      "[5024.37666667 6086.78      ]\n",
      "[5095.10533333 6030.902     ]\n",
      "[5087.38       6054.67833333]\n",
      "[5079.65466667 6078.45466667]\n",
      "[5071.92933333 6102.231     ]\n",
      "[5142.658 6046.353]\n",
      "[5134.93266667 6070.12933333]\n",
      "[5127.20733333 6093.90566667]\n",
      "[5119.482 6117.682]\n"
     ]
    }
   ],
   "source": [
    "from bruges.transform import CoordTransform\n",
    "\n",
    "corner_ix = [[0,  0], [0, 3], [3, 0]]\n",
    "corner_xy = [[5000, 6000],\n",
    "                 [5000-23.176, 6000+71.329],\n",
    "                 [5000+142.658, 6000+46.353]]\n",
    "transform = CoordTransform(corner_ix, corner_xy)\n",
    "\n",
    "for i in range(4):\n",
    "    for j in range(4):\n",
    "        print(transform([i, j]))"
   ]
  },
  {
   "cell_type": "code",
   "execution_count": 31,
   "id": "9f31f65d",
   "metadata": {},
   "outputs": [
    {
     "data": {
      "text/plain": [
       "array([[0, 1],\n",
       "       [0, 1],\n",
       "       [0, 2],\n",
       "       [0, 3]])"
      ]
     },
     "execution_count": 31,
     "metadata": {},
     "output_type": "execute_result"
    }
   ],
   "source": [
    "arr"
   ]
  },
  {
   "cell_type": "markdown",
   "id": "7deecb05",
   "metadata": {},
   "source": [
    "## Constructing the grid from data\n",
    "\n",
    "We often have a bunch of arbitary points with (x, y) coordinates (e.g. UTMx and UTMy, or longitude and latitude) and interpolate them to end up with a"
   ]
  }
 ],
 "metadata": {
  "kernelspec": {
   "display_name": "py39",
   "language": "python",
   "name": "py39"
  },
  "language_info": {
   "codemirror_mode": {
    "name": "ipython",
    "version": 3
   },
   "file_extension": ".py",
   "mimetype": "text/x-python",
   "name": "python",
   "nbconvert_exporter": "python",
   "pygments_lexer": "ipython3",
   "version": "3.9.13"
  }
 },
 "nbformat": 4,
 "nbformat_minor": 5
}
